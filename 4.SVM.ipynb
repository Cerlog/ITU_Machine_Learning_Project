{
 "cells": [
  {
   "cell_type": "markdown",
   "source": [
    "# implementation is based on https://www.vebuso.com/2020/03/svm-hyperparameter-tuning-using-gridsearchcv/"
   ],
   "metadata": {
    "collapsed": false
   },
   "id": "3cb7e31b8b7ba05a"
  },
  {
   "cell_type": "code",
   "execution_count": 36,
   "outputs": [],
   "source": [
    "from sklearn.metrics import accuracy_score\n",
    "import matplotlib.pyplot as plt\n",
    "import pandas as pd \n",
    "import numpy as np \n",
    "import matplotlib as mpl\n",
    "from sklearn.svm import SVC \n",
    "mpl.rcParams.update(mpl.rcParamsDefault)\n",
    "plt.rcParams.update({'text.usetex': True}) # import to make plots nicer\n",
    "%config InlineBackend.figure_format = 'svg' # import to make plots nicer\n",
    "\n",
    "# Set global font size for title, x-label, and y-label\n",
    "plt.rcParams['axes.titlesize'] = 20\n",
    "plt.rcParams['axes.labelsize'] = 16\n",
    "# Set global font size for x and y tick labels\n",
    "plt.rcParams['xtick.labelsize'] = 12\n",
    "plt.rcParams['ytick.labelsize'] = 12\n",
    "# Set global font size for the legend\n",
    "plt.rcParams['legend.fontsize'] = 16"
   ],
   "metadata": {
    "collapsed": false,
    "ExecuteTime": {
     "end_time": "2024-01-02T08:24:08.107081700Z",
     "start_time": "2024-01-02T08:24:08.030714400Z"
    }
   },
   "id": "initial_id"
  },
  {
   "cell_type": "code",
   "execution_count": 37,
   "outputs": [
    {
     "data": {
      "text/plain": "          LDA1      LDA2\n0    -1.231498  0.213996\n1     2.495080 -0.404526\n2    -0.934255  0.187958\n3    -0.252536  0.490760\n4    -0.407214 -0.189248\n...        ...       ...\n9995 -1.141336  0.226900\n9996 -0.772062  0.070803\n9997 -0.105971  1.345957\n9998 -0.686373  0.342833\n9999  3.010659 -0.279119\n\n[10000 rows x 2 columns]",
      "text/html": "<div>\n<style scoped>\n    .dataframe tbody tr th:only-of-type {\n        vertical-align: middle;\n    }\n\n    .dataframe tbody tr th {\n        vertical-align: top;\n    }\n\n    .dataframe thead th {\n        text-align: right;\n    }\n</style>\n<table border=\"1\" class=\"dataframe\">\n  <thead>\n    <tr style=\"text-align: right;\">\n      <th></th>\n      <th>LDA1</th>\n      <th>LDA2</th>\n    </tr>\n  </thead>\n  <tbody>\n    <tr>\n      <th>0</th>\n      <td>-1.231498</td>\n      <td>0.213996</td>\n    </tr>\n    <tr>\n      <th>1</th>\n      <td>2.495080</td>\n      <td>-0.404526</td>\n    </tr>\n    <tr>\n      <th>2</th>\n      <td>-0.934255</td>\n      <td>0.187958</td>\n    </tr>\n    <tr>\n      <th>3</th>\n      <td>-0.252536</td>\n      <td>0.490760</td>\n    </tr>\n    <tr>\n      <th>4</th>\n      <td>-0.407214</td>\n      <td>-0.189248</td>\n    </tr>\n    <tr>\n      <th>...</th>\n      <td>...</td>\n      <td>...</td>\n    </tr>\n    <tr>\n      <th>9995</th>\n      <td>-1.141336</td>\n      <td>0.226900</td>\n    </tr>\n    <tr>\n      <th>9996</th>\n      <td>-0.772062</td>\n      <td>0.070803</td>\n    </tr>\n    <tr>\n      <th>9997</th>\n      <td>-0.105971</td>\n      <td>1.345957</td>\n    </tr>\n    <tr>\n      <th>9998</th>\n      <td>-0.686373</td>\n      <td>0.342833</td>\n    </tr>\n    <tr>\n      <th>9999</th>\n      <td>3.010659</td>\n      <td>-0.279119</td>\n    </tr>\n  </tbody>\n</table>\n<p>10000 rows × 2 columns</p>\n</div>"
     },
     "execution_count": 37,
     "metadata": {},
     "output_type": "execute_result"
    }
   ],
   "source": [
    "# load the reduced LDA train dataset\n",
    "\n",
    "df = pd.read_csv('final_train.csv')\n",
    "# load only first two columns \n",
    "# https://stackoverflow.com/questions/11285613/selecting-multiple-columns-in-a-pandas-dataframe\n",
    "X_train = df.iloc[:, 0:2]\n",
    "X_train"
   ],
   "metadata": {
    "collapsed": false,
    "ExecuteTime": {
     "end_time": "2024-01-02T08:24:08.682007400Z",
     "start_time": "2024-01-02T08:24:08.585640400Z"
    }
   },
   "id": "eab020ef78269f42"
  },
  {
   "cell_type": "code",
   "execution_count": 38,
   "outputs": [
    {
     "data": {
      "text/plain": "          LDA1      LDA2\n0     0.812077  0.248751\n1    -0.911020  0.433027\n2    -0.094158  1.608926\n3     0.001661  0.065771\n4    -0.255480  1.482105\n...        ...       ...\n4995 -1.125208  1.307815\n4996  3.475919 -0.314530\n4997 -0.322823 -1.328581\n4998 -0.263337  0.664617\n4999 -0.707629 -0.218079\n\n[5000 rows x 2 columns]",
      "text/html": "<div>\n<style scoped>\n    .dataframe tbody tr th:only-of-type {\n        vertical-align: middle;\n    }\n\n    .dataframe tbody tr th {\n        vertical-align: top;\n    }\n\n    .dataframe thead th {\n        text-align: right;\n    }\n</style>\n<table border=\"1\" class=\"dataframe\">\n  <thead>\n    <tr style=\"text-align: right;\">\n      <th></th>\n      <th>LDA1</th>\n      <th>LDA2</th>\n    </tr>\n  </thead>\n  <tbody>\n    <tr>\n      <th>0</th>\n      <td>0.812077</td>\n      <td>0.248751</td>\n    </tr>\n    <tr>\n      <th>1</th>\n      <td>-0.911020</td>\n      <td>0.433027</td>\n    </tr>\n    <tr>\n      <th>2</th>\n      <td>-0.094158</td>\n      <td>1.608926</td>\n    </tr>\n    <tr>\n      <th>3</th>\n      <td>0.001661</td>\n      <td>0.065771</td>\n    </tr>\n    <tr>\n      <th>4</th>\n      <td>-0.255480</td>\n      <td>1.482105</td>\n    </tr>\n    <tr>\n      <th>...</th>\n      <td>...</td>\n      <td>...</td>\n    </tr>\n    <tr>\n      <th>4995</th>\n      <td>-1.125208</td>\n      <td>1.307815</td>\n    </tr>\n    <tr>\n      <th>4996</th>\n      <td>3.475919</td>\n      <td>-0.314530</td>\n    </tr>\n    <tr>\n      <th>4997</th>\n      <td>-0.322823</td>\n      <td>-1.328581</td>\n    </tr>\n    <tr>\n      <th>4998</th>\n      <td>-0.263337</td>\n      <td>0.664617</td>\n    </tr>\n    <tr>\n      <th>4999</th>\n      <td>-0.707629</td>\n      <td>-0.218079</td>\n    </tr>\n  </tbody>\n</table>\n<p>5000 rows × 2 columns</p>\n</div>"
     },
     "execution_count": 38,
     "metadata": {},
     "output_type": "execute_result"
    }
   ],
   "source": [
    "# load the reduced LDA test dataset\n",
    "df_i = pd.read_csv('final_test.csv')\n",
    "X_test = df_i.iloc[:, 0:2]\n",
    "X_test"
   ],
   "metadata": {
    "collapsed": false,
    "ExecuteTime": {
     "end_time": "2024-01-02T08:24:09.787399900Z",
     "start_time": "2024-01-02T08:24:09.745196100Z"
    }
   },
   "id": "78ca577aeb0cf40d"
  },
  {
   "cell_type": "code",
   "execution_count": 39,
   "outputs": [],
   "source": [
    "# https://pythonbasics.org/pickle/\n",
    "\n",
    "# import the pickeled train labels\n",
    "import pickle\n",
    "train_label_obj = open('train_labels.obj', 'rb')\n",
    "Y_train = pickle.load(train_label_obj)\n",
    "train_label_obj.close()"
   ],
   "metadata": {
    "collapsed": false,
    "ExecuteTime": {
     "end_time": "2024-01-02T08:24:11.280317900Z",
     "start_time": "2024-01-02T08:24:11.241106800Z"
    }
   },
   "id": "14cdbfaa81b99314"
  },
  {
   "cell_type": "code",
   "execution_count": 40,
   "outputs": [],
   "source": [
    "    # https://pythonbasics.org/pickle/\n",
    "\n",
    "# import the pickeled test labels\n",
    "test_label_obj = open('test_labels.obj', 'rb')\n",
    "Y_test = pickle.load(test_label_obj)\n",
    "test_label_obj.close()"
   ],
   "metadata": {
    "collapsed": false,
    "ExecuteTime": {
     "end_time": "2024-01-02T08:24:14.696828700Z",
     "start_time": "2024-01-02T08:24:14.664220200Z"
    }
   },
   "id": "531e1286870d0aa8"
  },
  {
   "cell_type": "markdown",
   "source": [
    "# Gridsearch"
   ],
   "metadata": {
    "collapsed": false
   },
   "id": "3ef5de2a2a67a5ce"
  },
  {
   "cell_type": "code",
   "execution_count": 16,
   "outputs": [
    {
     "name": "stdout",
     "output_type": "stream",
     "text": [
      "Fitting 5 folds for each of 75 candidates, totalling 375 fits\n",
      "[CV 1/5] END ...C=0.001, gamma=1, kernel=linear;, score=0.754 total time=   2.9s\n",
      "[CV 2/5] END ...C=0.001, gamma=1, kernel=linear;, score=0.743 total time=   2.3s\n",
      "[CV 3/5] END ...C=0.001, gamma=1, kernel=linear;, score=0.754 total time=   2.3s\n",
      "[CV 4/5] END ...C=0.001, gamma=1, kernel=linear;, score=0.759 total time=   2.3s\n",
      "[CV 5/5] END ...C=0.001, gamma=1, kernel=linear;, score=0.744 total time=   2.2s\n",
      "[CV 1/5] END ......C=0.001, gamma=1, kernel=rbf;, score=0.708 total time=  10.4s\n",
      "[CV 2/5] END ......C=0.001, gamma=1, kernel=rbf;, score=0.667 total time=   8.1s\n",
      "[CV 3/5] END ......C=0.001, gamma=1, kernel=rbf;, score=0.687 total time=   9.4s\n",
      "[CV 4/5] END ......C=0.001, gamma=1, kernel=rbf;, score=0.695 total time=   8.1s\n",
      "[CV 5/5] END ......C=0.001, gamma=1, kernel=rbf;, score=0.678 total time=   8.0s\n",
      "[CV 1/5] END .....C=0.001, gamma=1, kernel=poly;, score=0.659 total time=   1.9s\n",
      "[CV 2/5] END .....C=0.001, gamma=1, kernel=poly;, score=0.655 total time=   2.0s\n",
      "[CV 3/5] END .....C=0.001, gamma=1, kernel=poly;, score=0.666 total time=   2.0s\n",
      "[CV 4/5] END .....C=0.001, gamma=1, kernel=poly;, score=0.650 total time=   2.0s\n",
      "[CV 5/5] END .....C=0.001, gamma=1, kernel=poly;, score=0.648 total time=   1.9s\n",
      "[CV 1/5] END .C=0.001, gamma=0.1, kernel=linear;, score=0.754 total time=   2.2s\n",
      "[CV 2/5] END .C=0.001, gamma=0.1, kernel=linear;, score=0.743 total time=   2.9s\n",
      "[CV 3/5] END .C=0.001, gamma=0.1, kernel=linear;, score=0.754 total time=   2.7s\n",
      "[CV 4/5] END .C=0.001, gamma=0.1, kernel=linear;, score=0.759 total time=   2.3s\n",
      "[CV 5/5] END .C=0.001, gamma=0.1, kernel=linear;, score=0.744 total time=   2.9s\n",
      "[CV 1/5] END ....C=0.001, gamma=0.1, kernel=rbf;, score=0.387 total time=   8.6s\n",
      "[CV 2/5] END ....C=0.001, gamma=0.1, kernel=rbf;, score=0.383 total time=   9.9s\n",
      "[CV 3/5] END ....C=0.001, gamma=0.1, kernel=rbf;, score=0.388 total time=   7.4s\n",
      "[CV 4/5] END ....C=0.001, gamma=0.1, kernel=rbf;, score=0.392 total time=   7.4s\n",
      "[CV 5/5] END ....C=0.001, gamma=0.1, kernel=rbf;, score=0.390 total time=   8.2s\n",
      "[CV 1/5] END ...C=0.001, gamma=0.1, kernel=poly;, score=0.295 total time=   4.0s\n",
      "[CV 2/5] END ...C=0.001, gamma=0.1, kernel=poly;, score=0.301 total time=   5.7s\n",
      "[CV 3/5] END ...C=0.001, gamma=0.1, kernel=poly;, score=0.298 total time=   3.9s\n",
      "[CV 4/5] END ...C=0.001, gamma=0.1, kernel=poly;, score=0.298 total time=   3.9s\n",
      "[CV 5/5] END ...C=0.001, gamma=0.1, kernel=poly;, score=0.299 total time=   3.9s\n",
      "[CV 1/5] END C=0.001, gamma=0.01, kernel=linear;, score=0.754 total time=   2.2s\n",
      "[CV 2/5] END C=0.001, gamma=0.01, kernel=linear;, score=0.743 total time=   2.2s\n",
      "[CV 3/5] END C=0.001, gamma=0.01, kernel=linear;, score=0.754 total time=   2.2s\n",
      "[CV 4/5] END C=0.001, gamma=0.01, kernel=linear;, score=0.759 total time=   2.1s\n",
      "[CV 5/5] END C=0.001, gamma=0.01, kernel=linear;, score=0.744 total time=   2.2s\n",
      "[CV 1/5] END ...C=0.001, gamma=0.01, kernel=rbf;, score=0.203 total time=   7.6s\n",
      "[CV 2/5] END ...C=0.001, gamma=0.01, kernel=rbf;, score=0.203 total time=   7.8s\n",
      "[CV 3/5] END ...C=0.001, gamma=0.01, kernel=rbf;, score=0.203 total time=   7.7s\n",
      "[CV 4/5] END ...C=0.001, gamma=0.01, kernel=rbf;, score=0.203 total time=   7.7s\n",
      "[CV 5/5] END ...C=0.001, gamma=0.01, kernel=rbf;, score=0.203 total time=   7.7s\n",
      "[CV 1/5] END ..C=0.001, gamma=0.01, kernel=poly;, score=0.203 total time=   4.1s\n",
      "[CV 2/5] END ..C=0.001, gamma=0.01, kernel=poly;, score=0.203 total time=   4.0s\n",
      "[CV 3/5] END ..C=0.001, gamma=0.01, kernel=poly;, score=0.203 total time=   4.1s\n",
      "[CV 4/5] END ..C=0.001, gamma=0.01, kernel=poly;, score=0.203 total time=   4.0s\n",
      "[CV 5/5] END ..C=0.001, gamma=0.01, kernel=poly;, score=0.203 total time=   4.1s\n",
      "[CV 1/5] END C=0.001, gamma=0.001, kernel=linear;, score=0.754 total time=   2.8s\n",
      "[CV 2/5] END C=0.001, gamma=0.001, kernel=linear;, score=0.743 total time=   2.5s\n",
      "[CV 3/5] END C=0.001, gamma=0.001, kernel=linear;, score=0.754 total time=   2.5s\n",
      "[CV 4/5] END C=0.001, gamma=0.001, kernel=linear;, score=0.759 total time=   2.3s\n",
      "[CV 5/5] END C=0.001, gamma=0.001, kernel=linear;, score=0.744 total time=   2.2s\n",
      "[CV 1/5] END ..C=0.001, gamma=0.001, kernel=rbf;, score=0.203 total time=   7.7s\n",
      "[CV 2/5] END ..C=0.001, gamma=0.001, kernel=rbf;, score=0.203 total time=   7.5s\n",
      "[CV 3/5] END ..C=0.001, gamma=0.001, kernel=rbf;, score=0.203 total time=   7.6s\n",
      "[CV 4/5] END ..C=0.001, gamma=0.001, kernel=rbf;, score=0.203 total time=   7.5s\n",
      "[CV 5/5] END ..C=0.001, gamma=0.001, kernel=rbf;, score=0.203 total time=   7.4s\n",
      "[CV 1/5] END .C=0.001, gamma=0.001, kernel=poly;, score=0.203 total time=   3.9s\n",
      "[CV 2/5] END .C=0.001, gamma=0.001, kernel=poly;, score=0.203 total time=   4.0s\n",
      "[CV 3/5] END .C=0.001, gamma=0.001, kernel=poly;, score=0.203 total time=   4.3s\n",
      "[CV 4/5] END .C=0.001, gamma=0.001, kernel=poly;, score=0.203 total time=   4.0s\n",
      "[CV 5/5] END .C=0.001, gamma=0.001, kernel=poly;, score=0.203 total time=   4.0s\n",
      "[CV 1/5] END C=0.001, gamma=0.0001, kernel=linear;, score=0.754 total time=   2.2s\n",
      "[CV 2/5] END C=0.001, gamma=0.0001, kernel=linear;, score=0.743 total time=   2.2s\n",
      "[CV 3/5] END C=0.001, gamma=0.0001, kernel=linear;, score=0.754 total time=   2.5s\n",
      "[CV 4/5] END C=0.001, gamma=0.0001, kernel=linear;, score=0.759 total time=   2.1s\n",
      "[CV 5/5] END C=0.001, gamma=0.0001, kernel=linear;, score=0.744 total time=   2.2s\n",
      "[CV 1/5] END .C=0.001, gamma=0.0001, kernel=rbf;, score=0.203 total time=   7.5s\n",
      "[CV 2/5] END .C=0.001, gamma=0.0001, kernel=rbf;, score=0.203 total time=   7.5s\n",
      "[CV 3/5] END .C=0.001, gamma=0.0001, kernel=rbf;, score=0.203 total time=   7.5s\n",
      "[CV 4/5] END .C=0.001, gamma=0.0001, kernel=rbf;, score=0.203 total time=   7.8s\n",
      "[CV 5/5] END .C=0.001, gamma=0.0001, kernel=rbf;, score=0.203 total time=   7.5s\n",
      "[CV 1/5] END C=0.001, gamma=0.0001, kernel=poly;, score=0.203 total time=   4.0s\n",
      "[CV 2/5] END C=0.001, gamma=0.0001, kernel=poly;, score=0.203 total time=   4.4s\n",
      "[CV 3/5] END C=0.001, gamma=0.0001, kernel=poly;, score=0.203 total time=   4.1s\n",
      "[CV 4/5] END C=0.001, gamma=0.0001, kernel=poly;, score=0.203 total time=   3.9s\n",
      "[CV 5/5] END C=0.001, gamma=0.0001, kernel=poly;, score=0.203 total time=   4.8s\n",
      "[CV 1/5] END ....C=0.01, gamma=1, kernel=linear;, score=0.774 total time=   1.3s\n",
      "[CV 2/5] END ....C=0.01, gamma=1, kernel=linear;, score=0.771 total time=   1.2s\n",
      "[CV 3/5] END ....C=0.01, gamma=1, kernel=linear;, score=0.783 total time=   1.2s\n",
      "[CV 4/5] END ....C=0.01, gamma=1, kernel=linear;, score=0.778 total time=   1.2s\n",
      "[CV 5/5] END ....C=0.01, gamma=1, kernel=linear;, score=0.774 total time=   1.2s\n",
      "[CV 1/5] END .......C=0.01, gamma=1, kernel=rbf;, score=0.771 total time=   3.4s\n",
      "[CV 2/5] END .......C=0.01, gamma=1, kernel=rbf;, score=0.777 total time=   3.4s\n",
      "[CV 3/5] END .......C=0.01, gamma=1, kernel=rbf;, score=0.789 total time=   3.4s\n",
      "[CV 4/5] END .......C=0.01, gamma=1, kernel=rbf;, score=0.780 total time=   3.4s\n",
      "[CV 5/5] END .......C=0.01, gamma=1, kernel=rbf;, score=0.777 total time=   3.4s\n",
      "[CV 1/5] END ......C=0.01, gamma=1, kernel=poly;, score=0.723 total time=   1.3s\n",
      "[CV 2/5] END ......C=0.01, gamma=1, kernel=poly;, score=0.719 total time=   1.3s\n",
      "[CV 3/5] END ......C=0.01, gamma=1, kernel=poly;, score=0.734 total time=   1.4s\n",
      "[CV 4/5] END ......C=0.01, gamma=1, kernel=poly;, score=0.725 total time=   1.3s\n",
      "[CV 5/5] END ......C=0.01, gamma=1, kernel=poly;, score=0.721 total time=   1.3s\n",
      "[CV 1/5] END ..C=0.01, gamma=0.1, kernel=linear;, score=0.774 total time=   1.2s\n",
      "[CV 2/5] END ..C=0.01, gamma=0.1, kernel=linear;, score=0.771 total time=   1.2s\n",
      "[CV 3/5] END ..C=0.01, gamma=0.1, kernel=linear;, score=0.783 total time=   1.2s\n",
      "[CV 4/5] END ..C=0.01, gamma=0.1, kernel=linear;, score=0.778 total time=   1.4s\n",
      "[CV 5/5] END ..C=0.01, gamma=0.1, kernel=linear;, score=0.774 total time=   1.6s\n",
      "[CV 1/5] END .....C=0.01, gamma=0.1, kernel=rbf;, score=0.764 total time=   6.0s\n",
      "[CV 2/5] END .....C=0.01, gamma=0.1, kernel=rbf;, score=0.756 total time=   5.0s\n",
      "[CV 3/5] END .....C=0.01, gamma=0.1, kernel=rbf;, score=0.766 total time=   5.2s\n",
      "[CV 4/5] END .....C=0.01, gamma=0.1, kernel=rbf;, score=0.767 total time=   4.5s\n",
      "[CV 5/5] END .....C=0.01, gamma=0.1, kernel=rbf;, score=0.756 total time=   4.5s\n",
      "[CV 1/5] END ....C=0.01, gamma=0.1, kernel=poly;, score=0.360 total time=   3.1s\n",
      "[CV 2/5] END ....C=0.01, gamma=0.1, kernel=poly;, score=0.355 total time=   3.1s\n",
      "[CV 3/5] END ....C=0.01, gamma=0.1, kernel=poly;, score=0.361 total time=   3.8s\n",
      "[CV 4/5] END ....C=0.01, gamma=0.1, kernel=poly;, score=0.364 total time=   3.3s\n",
      "[CV 5/5] END ....C=0.01, gamma=0.1, kernel=poly;, score=0.361 total time=   3.6s\n",
      "[CV 1/5] END .C=0.01, gamma=0.01, kernel=linear;, score=0.774 total time=   1.3s\n",
      "[CV 2/5] END .C=0.01, gamma=0.01, kernel=linear;, score=0.771 total time=   1.2s\n",
      "[CV 3/5] END .C=0.01, gamma=0.01, kernel=linear;, score=0.783 total time=   1.3s\n",
      "[CV 4/5] END .C=0.01, gamma=0.01, kernel=linear;, score=0.778 total time=   1.2s\n",
      "[CV 5/5] END .C=0.01, gamma=0.01, kernel=linear;, score=0.774 total time=   1.3s\n",
      "[CV 1/5] END ....C=0.01, gamma=0.01, kernel=rbf;, score=0.388 total time=   8.2s\n",
      "[CV 2/5] END ....C=0.01, gamma=0.01, kernel=rbf;, score=0.385 total time=   7.8s\n",
      "[CV 3/5] END ....C=0.01, gamma=0.01, kernel=rbf;, score=0.390 total time=   6.7s\n",
      "[CV 4/5] END ....C=0.01, gamma=0.01, kernel=rbf;, score=0.393 total time=   6.6s\n",
      "[CV 5/5] END ....C=0.01, gamma=0.01, kernel=rbf;, score=0.390 total time=   8.1s\n",
      "[CV 1/5] END ...C=0.01, gamma=0.01, kernel=poly;, score=0.203 total time=   4.0s\n",
      "[CV 2/5] END ...C=0.01, gamma=0.01, kernel=poly;, score=0.203 total time=   5.4s\n",
      "[CV 3/5] END ...C=0.01, gamma=0.01, kernel=poly;, score=0.203 total time=   4.1s\n",
      "[CV 4/5] END ...C=0.01, gamma=0.01, kernel=poly;, score=0.203 total time=   4.0s\n",
      "[CV 5/5] END ...C=0.01, gamma=0.01, kernel=poly;, score=0.203 total time=   4.2s\n",
      "[CV 1/5] END C=0.01, gamma=0.001, kernel=linear;, score=0.774 total time=   2.5s\n",
      "[CV 2/5] END C=0.01, gamma=0.001, kernel=linear;, score=0.771 total time=   1.4s\n",
      "[CV 3/5] END C=0.01, gamma=0.001, kernel=linear;, score=0.783 total time=   1.2s\n",
      "[CV 4/5] END C=0.01, gamma=0.001, kernel=linear;, score=0.778 total time=   1.2s\n",
      "[CV 5/5] END C=0.01, gamma=0.001, kernel=linear;, score=0.774 total time=   1.3s\n",
      "[CV 1/5] END ...C=0.01, gamma=0.001, kernel=rbf;, score=0.203 total time=   7.7s\n",
      "[CV 2/5] END ...C=0.01, gamma=0.001, kernel=rbf;, score=0.203 total time=   7.4s\n",
      "[CV 3/5] END ...C=0.01, gamma=0.001, kernel=rbf;, score=0.203 total time=   7.4s\n",
      "[CV 4/5] END ...C=0.01, gamma=0.001, kernel=rbf;, score=0.203 total time=   7.5s\n",
      "[CV 5/5] END ...C=0.01, gamma=0.001, kernel=rbf;, score=0.203 total time=   7.5s\n",
      "[CV 1/5] END ..C=0.01, gamma=0.001, kernel=poly;, score=0.203 total time=   4.0s\n",
      "[CV 2/5] END ..C=0.01, gamma=0.001, kernel=poly;, score=0.203 total time=   3.9s\n",
      "[CV 3/5] END ..C=0.01, gamma=0.001, kernel=poly;, score=0.203 total time=   4.0s\n",
      "[CV 4/5] END ..C=0.01, gamma=0.001, kernel=poly;, score=0.203 total time=   4.1s\n",
      "[CV 5/5] END ..C=0.01, gamma=0.001, kernel=poly;, score=0.203 total time=   4.0s\n",
      "[CV 1/5] END C=0.01, gamma=0.0001, kernel=linear;, score=0.774 total time=   1.5s\n",
      "[CV 2/5] END C=0.01, gamma=0.0001, kernel=linear;, score=0.771 total time=   1.8s\n",
      "[CV 3/5] END C=0.01, gamma=0.0001, kernel=linear;, score=0.783 total time=   1.8s\n",
      "[CV 4/5] END C=0.01, gamma=0.0001, kernel=linear;, score=0.778 total time=   1.7s\n",
      "[CV 5/5] END C=0.01, gamma=0.0001, kernel=linear;, score=0.774 total time=   2.3s\n",
      "[CV 1/5] END ..C=0.01, gamma=0.0001, kernel=rbf;, score=0.203 total time=  11.1s\n",
      "[CV 2/5] END ..C=0.01, gamma=0.0001, kernel=rbf;, score=0.203 total time=   8.5s\n",
      "[CV 3/5] END ..C=0.01, gamma=0.0001, kernel=rbf;, score=0.203 total time=   7.7s\n",
      "[CV 4/5] END ..C=0.01, gamma=0.0001, kernel=rbf;, score=0.203 total time=  10.2s\n",
      "[CV 5/5] END ..C=0.01, gamma=0.0001, kernel=rbf;, score=0.203 total time=   7.9s\n",
      "[CV 1/5] END .C=0.01, gamma=0.0001, kernel=poly;, score=0.203 total time=   4.0s\n",
      "[CV 2/5] END .C=0.01, gamma=0.0001, kernel=poly;, score=0.203 total time=   3.9s\n",
      "[CV 3/5] END .C=0.01, gamma=0.0001, kernel=poly;, score=0.203 total time=   4.0s\n",
      "[CV 4/5] END .C=0.01, gamma=0.0001, kernel=poly;, score=0.203 total time=   3.9s\n",
      "[CV 5/5] END .C=0.01, gamma=0.0001, kernel=poly;, score=0.203 total time=   4.0s\n",
      "[CV 1/5] END .....C=0.1, gamma=1, kernel=linear;, score=0.780 total time=   0.9s\n",
      "[CV 2/5] END .....C=0.1, gamma=1, kernel=linear;, score=0.772 total time=   0.9s\n",
      "[CV 3/5] END .....C=0.1, gamma=1, kernel=linear;, score=0.785 total time=   0.9s\n",
      "[CV 4/5] END .....C=0.1, gamma=1, kernel=linear;, score=0.787 total time=   0.9s\n",
      "[CV 5/5] END .....C=0.1, gamma=1, kernel=linear;, score=0.779 total time=   0.9s\n",
      "[CV 1/5] END ........C=0.1, gamma=1, kernel=rbf;, score=0.773 total time=   2.4s\n",
      "[CV 2/5] END ........C=0.1, gamma=1, kernel=rbf;, score=0.777 total time=   2.3s\n",
      "[CV 3/5] END ........C=0.1, gamma=1, kernel=rbf;, score=0.790 total time=   2.3s\n",
      "[CV 4/5] END ........C=0.1, gamma=1, kernel=rbf;, score=0.783 total time=   2.3s\n",
      "[CV 5/5] END ........C=0.1, gamma=1, kernel=rbf;, score=0.778 total time=   2.3s\n",
      "[CV 1/5] END .......C=0.1, gamma=1, kernel=poly;, score=0.746 total time=   1.3s\n",
      "[CV 2/5] END .......C=0.1, gamma=1, kernel=poly;, score=0.738 total time=   1.2s\n",
      "[CV 3/5] END .......C=0.1, gamma=1, kernel=poly;, score=0.750 total time=   1.2s\n",
      "[CV 4/5] END .......C=0.1, gamma=1, kernel=poly;, score=0.748 total time=   1.2s\n",
      "[CV 5/5] END .......C=0.1, gamma=1, kernel=poly;, score=0.738 total time=   1.2s\n",
      "[CV 1/5] END ...C=0.1, gamma=0.1, kernel=linear;, score=0.780 total time=   0.9s\n",
      "[CV 2/5] END ...C=0.1, gamma=0.1, kernel=linear;, score=0.772 total time=   1.2s\n",
      "[CV 3/5] END ...C=0.1, gamma=0.1, kernel=linear;, score=0.785 total time=   1.4s\n",
      "[CV 4/5] END ...C=0.1, gamma=0.1, kernel=linear;, score=0.787 total time=   1.0s\n",
      "[CV 5/5] END ...C=0.1, gamma=0.1, kernel=linear;, score=0.779 total time=   1.0s\n",
      "[CV 1/5] END ......C=0.1, gamma=0.1, kernel=rbf;, score=0.774 total time=   2.9s\n",
      "[CV 2/5] END ......C=0.1, gamma=0.1, kernel=rbf;, score=0.776 total time=   2.9s\n",
      "[CV 3/5] END ......C=0.1, gamma=0.1, kernel=rbf;, score=0.784 total time=   3.0s\n",
      "[CV 4/5] END ......C=0.1, gamma=0.1, kernel=rbf;, score=0.781 total time=   2.9s\n",
      "[CV 5/5] END ......C=0.1, gamma=0.1, kernel=rbf;, score=0.775 total time=   3.0s\n",
      "[CV 1/5] END .....C=0.1, gamma=0.1, kernel=poly;, score=0.482 total time=   2.8s\n",
      "[CV 2/5] END .....C=0.1, gamma=0.1, kernel=poly;, score=0.474 total time=   4.3s\n",
      "[CV 3/5] END .....C=0.1, gamma=0.1, kernel=poly;, score=0.484 total time=   3.5s\n",
      "[CV 4/5] END .....C=0.1, gamma=0.1, kernel=poly;, score=0.487 total time=   2.9s\n",
      "[CV 5/5] END .....C=0.1, gamma=0.1, kernel=poly;, score=0.486 total time=   2.9s\n",
      "[CV 1/5] END ..C=0.1, gamma=0.01, kernel=linear;, score=0.780 total time=   1.0s\n",
      "[CV 2/5] END ..C=0.1, gamma=0.01, kernel=linear;, score=0.772 total time=   0.9s\n",
      "[CV 3/5] END ..C=0.1, gamma=0.01, kernel=linear;, score=0.785 total time=   0.9s\n",
      "[CV 4/5] END ..C=0.1, gamma=0.01, kernel=linear;, score=0.787 total time=   0.9s\n",
      "[CV 5/5] END ..C=0.1, gamma=0.01, kernel=linear;, score=0.779 total time=   0.9s\n",
      "[CV 1/5] END .....C=0.1, gamma=0.01, kernel=rbf;, score=0.764 total time=   4.3s\n",
      "[CV 2/5] END .....C=0.1, gamma=0.01, kernel=rbf;, score=0.759 total time=   4.3s\n",
      "[CV 3/5] END .....C=0.1, gamma=0.01, kernel=rbf;, score=0.768 total time=   4.3s\n",
      "[CV 4/5] END .....C=0.1, gamma=0.01, kernel=rbf;, score=0.768 total time=   4.3s\n",
      "[CV 5/5] END .....C=0.1, gamma=0.01, kernel=rbf;, score=0.759 total time=   4.3s\n",
      "[CV 1/5] END ....C=0.1, gamma=0.01, kernel=poly;, score=0.203 total time=   4.0s\n",
      "[CV 2/5] END ....C=0.1, gamma=0.01, kernel=poly;, score=0.203 total time=   4.1s\n",
      "[CV 3/5] END ....C=0.1, gamma=0.01, kernel=poly;, score=0.203 total time=   4.2s\n",
      "[CV 4/5] END ....C=0.1, gamma=0.01, kernel=poly;, score=0.203 total time=   5.3s\n",
      "[CV 5/5] END ....C=0.1, gamma=0.01, kernel=poly;, score=0.203 total time=   5.4s\n",
      "[CV 1/5] END .C=0.1, gamma=0.001, kernel=linear;, score=0.780 total time=   1.3s\n",
      "[CV 2/5] END .C=0.1, gamma=0.001, kernel=linear;, score=0.772 total time=   1.2s\n",
      "[CV 3/5] END .C=0.1, gamma=0.001, kernel=linear;, score=0.785 total time=   1.0s\n",
      "[CV 4/5] END .C=0.1, gamma=0.001, kernel=linear;, score=0.787 total time=   0.9s\n",
      "[CV 5/5] END .C=0.1, gamma=0.001, kernel=linear;, score=0.779 total time=   1.0s\n",
      "[CV 1/5] END ....C=0.1, gamma=0.001, kernel=rbf;, score=0.389 total time=  15.0s\n",
      "[CV 2/5] END ....C=0.1, gamma=0.001, kernel=rbf;, score=0.386 total time=  19.7s\n",
      "[CV 3/5] END ....C=0.1, gamma=0.001, kernel=rbf;, score=0.391 total time=  20.6s\n",
      "[CV 4/5] END ....C=0.1, gamma=0.001, kernel=rbf;, score=0.394 total time=  21.1s\n",
      "[CV 5/5] END ....C=0.1, gamma=0.001, kernel=rbf;, score=0.391 total time=   7.2s\n",
      "[CV 1/5] END ...C=0.1, gamma=0.001, kernel=poly;, score=0.203 total time=   4.1s\n",
      "[CV 2/5] END ...C=0.1, gamma=0.001, kernel=poly;, score=0.203 total time=   4.2s\n",
      "[CV 3/5] END ...C=0.1, gamma=0.001, kernel=poly;, score=0.203 total time=   4.2s\n",
      "[CV 4/5] END ...C=0.1, gamma=0.001, kernel=poly;, score=0.203 total time=   4.3s\n",
      "[CV 5/5] END ...C=0.1, gamma=0.001, kernel=poly;, score=0.203 total time=   4.1s\n",
      "[CV 1/5] END C=0.1, gamma=0.0001, kernel=linear;, score=0.780 total time=   1.3s\n",
      "[CV 2/5] END C=0.1, gamma=0.0001, kernel=linear;, score=0.772 total time=   1.7s\n",
      "[CV 3/5] END C=0.1, gamma=0.0001, kernel=linear;, score=0.785 total time=   1.8s\n",
      "[CV 4/5] END C=0.1, gamma=0.0001, kernel=linear;, score=0.787 total time=   1.8s\n",
      "[CV 5/5] END C=0.1, gamma=0.0001, kernel=linear;, score=0.779 total time=   1.8s\n",
      "[CV 1/5] END ...C=0.1, gamma=0.0001, kernel=rbf;, score=0.203 total time=  13.3s\n",
      "[CV 2/5] END ...C=0.1, gamma=0.0001, kernel=rbf;, score=0.203 total time=  13.7s\n",
      "[CV 3/5] END ...C=0.1, gamma=0.0001, kernel=rbf;, score=0.203 total time=  11.9s\n",
      "[CV 4/5] END ...C=0.1, gamma=0.0001, kernel=rbf;, score=0.203 total time=  17.1s\n",
      "[CV 5/5] END ...C=0.1, gamma=0.0001, kernel=rbf;, score=0.203 total time=  13.4s\n",
      "[CV 1/5] END ..C=0.1, gamma=0.0001, kernel=poly;, score=0.203 total time=   4.7s\n",
      "[CV 2/5] END ..C=0.1, gamma=0.0001, kernel=poly;, score=0.203 total time=   5.8s\n",
      "[CV 3/5] END ..C=0.1, gamma=0.0001, kernel=poly;, score=0.203 total time=   5.1s\n",
      "[CV 4/5] END ..C=0.1, gamma=0.0001, kernel=poly;, score=0.203 total time=   4.0s\n",
      "[CV 5/5] END ..C=0.1, gamma=0.0001, kernel=poly;, score=0.203 total time=   3.9s\n",
      "[CV 1/5] END .......C=1, gamma=1, kernel=linear;, score=0.781 total time=   1.0s\n",
      "[CV 2/5] END .......C=1, gamma=1, kernel=linear;, score=0.774 total time=   1.0s\n",
      "[CV 3/5] END .......C=1, gamma=1, kernel=linear;, score=0.786 total time=   1.0s\n",
      "[CV 4/5] END .......C=1, gamma=1, kernel=linear;, score=0.788 total time=   1.0s\n",
      "[CV 5/5] END .......C=1, gamma=1, kernel=linear;, score=0.779 total time=   1.0s\n",
      "[CV 1/5] END ..........C=1, gamma=1, kernel=rbf;, score=0.774 total time=   2.2s\n",
      "[CV 2/5] END ..........C=1, gamma=1, kernel=rbf;, score=0.775 total time=   2.3s\n",
      "[CV 3/5] END ..........C=1, gamma=1, kernel=rbf;, score=0.791 total time=   2.3s\n",
      "[CV 4/5] END ..........C=1, gamma=1, kernel=rbf;, score=0.784 total time=   2.4s\n",
      "[CV 5/5] END ..........C=1, gamma=1, kernel=rbf;, score=0.778 total time=   2.7s\n",
      "[CV 1/5] END .........C=1, gamma=1, kernel=poly;, score=0.750 total time=   1.8s\n",
      "[CV 2/5] END .........C=1, gamma=1, kernel=poly;, score=0.744 total time=   1.7s\n",
      "[CV 3/5] END .........C=1, gamma=1, kernel=poly;, score=0.757 total time=   1.7s\n",
      "[CV 4/5] END .........C=1, gamma=1, kernel=poly;, score=0.753 total time=   1.5s\n",
      "[CV 5/5] END .........C=1, gamma=1, kernel=poly;, score=0.743 total time=   1.5s\n",
      "[CV 1/5] END .....C=1, gamma=0.1, kernel=linear;, score=0.781 total time=   1.1s\n",
      "[CV 2/5] END .....C=1, gamma=0.1, kernel=linear;, score=0.774 total time=   1.0s\n",
      "[CV 3/5] END .....C=1, gamma=0.1, kernel=linear;, score=0.786 total time=   1.0s\n",
      "[CV 4/5] END .....C=1, gamma=0.1, kernel=linear;, score=0.788 total time=   1.0s\n",
      "[CV 5/5] END .....C=1, gamma=0.1, kernel=linear;, score=0.779 total time=   1.0s\n",
      "[CV 1/5] END ........C=1, gamma=0.1, kernel=rbf;, score=0.776 total time=   2.5s\n",
      "[CV 2/5] END ........C=1, gamma=0.1, kernel=rbf;, score=0.774 total time=   2.6s\n",
      "[CV 3/5] END ........C=1, gamma=0.1, kernel=rbf;, score=0.791 total time=   2.8s\n",
      "[CV 4/5] END ........C=1, gamma=0.1, kernel=rbf;, score=0.783 total time=   2.7s\n",
      "[CV 5/5] END ........C=1, gamma=0.1, kernel=rbf;, score=0.780 total time=   2.5s\n",
      "[CV 1/5] END .......C=1, gamma=0.1, kernel=poly;, score=0.659 total time=   2.0s\n",
      "[CV 2/5] END .......C=1, gamma=0.1, kernel=poly;, score=0.655 total time=   2.0s\n",
      "[CV 3/5] END .......C=1, gamma=0.1, kernel=poly;, score=0.666 total time=   1.9s\n",
      "[CV 4/5] END .......C=1, gamma=0.1, kernel=poly;, score=0.650 total time=   1.9s\n",
      "[CV 5/5] END .......C=1, gamma=0.1, kernel=poly;, score=0.648 total time=   1.9s\n",
      "[CV 1/5] END ....C=1, gamma=0.01, kernel=linear;, score=0.781 total time=   1.0s\n",
      "[CV 2/5] END ....C=1, gamma=0.01, kernel=linear;, score=0.774 total time=   1.0s\n",
      "[CV 3/5] END ....C=1, gamma=0.01, kernel=linear;, score=0.786 total time=   0.9s\n",
      "[CV 4/5] END ....C=1, gamma=0.01, kernel=linear;, score=0.788 total time=   1.0s\n",
      "[CV 5/5] END ....C=1, gamma=0.01, kernel=linear;, score=0.779 total time=   1.0s\n",
      "[CV 1/5] END .......C=1, gamma=0.01, kernel=rbf;, score=0.777 total time=   2.9s\n",
      "[CV 2/5] END .......C=1, gamma=0.01, kernel=rbf;, score=0.778 total time=   2.8s\n",
      "[CV 3/5] END .......C=1, gamma=0.01, kernel=rbf;, score=0.784 total time=   3.0s\n",
      "[CV 4/5] END .......C=1, gamma=0.01, kernel=rbf;, score=0.783 total time=   2.9s\n",
      "[CV 5/5] END .......C=1, gamma=0.01, kernel=rbf;, score=0.776 total time=   2.8s\n",
      "[CV 1/5] END ......C=1, gamma=0.01, kernel=poly;, score=0.295 total time=   3.9s\n",
      "[CV 2/5] END ......C=1, gamma=0.01, kernel=poly;, score=0.301 total time=   3.9s\n",
      "[CV 3/5] END ......C=1, gamma=0.01, kernel=poly;, score=0.298 total time=   3.9s\n",
      "[CV 4/5] END ......C=1, gamma=0.01, kernel=poly;, score=0.298 total time=   3.9s\n",
      "[CV 5/5] END ......C=1, gamma=0.01, kernel=poly;, score=0.299 total time=   3.9s\n",
      "[CV 1/5] END ...C=1, gamma=0.001, kernel=linear;, score=0.781 total time=   1.0s\n",
      "[CV 2/5] END ...C=1, gamma=0.001, kernel=linear;, score=0.774 total time=   0.9s\n",
      "[CV 3/5] END ...C=1, gamma=0.001, kernel=linear;, score=0.786 total time=   1.0s\n",
      "[CV 4/5] END ...C=1, gamma=0.001, kernel=linear;, score=0.788 total time=   1.0s\n",
      "[CV 5/5] END ...C=1, gamma=0.001, kernel=linear;, score=0.779 total time=   0.9s\n",
      "[CV 1/5] END ......C=1, gamma=0.001, kernel=rbf;, score=0.765 total time=   4.3s\n",
      "[CV 2/5] END ......C=1, gamma=0.001, kernel=rbf;, score=0.758 total time=   4.2s\n",
      "[CV 3/5] END ......C=1, gamma=0.001, kernel=rbf;, score=0.768 total time=   4.2s\n",
      "[CV 4/5] END ......C=1, gamma=0.001, kernel=rbf;, score=0.768 total time=   4.2s\n",
      "[CV 5/5] END ......C=1, gamma=0.001, kernel=rbf;, score=0.759 total time=   4.3s\n",
      "[CV 1/5] END .....C=1, gamma=0.001, kernel=poly;, score=0.203 total time=   3.9s\n",
      "[CV 2/5] END .....C=1, gamma=0.001, kernel=poly;, score=0.203 total time=   3.9s\n",
      "[CV 3/5] END .....C=1, gamma=0.001, kernel=poly;, score=0.203 total time=   3.9s\n",
      "[CV 4/5] END .....C=1, gamma=0.001, kernel=poly;, score=0.203 total time=   4.0s\n",
      "[CV 5/5] END .....C=1, gamma=0.001, kernel=poly;, score=0.203 total time=   4.2s\n",
      "[CV 1/5] END ..C=1, gamma=0.0001, kernel=linear;, score=0.781 total time=   1.3s\n",
      "[CV 2/5] END ..C=1, gamma=0.0001, kernel=linear;, score=0.774 total time=   1.0s\n",
      "[CV 3/5] END ..C=1, gamma=0.0001, kernel=linear;, score=0.786 total time=   0.9s\n",
      "[CV 4/5] END ..C=1, gamma=0.0001, kernel=linear;, score=0.788 total time=   0.9s\n",
      "[CV 5/5] END ..C=1, gamma=0.0001, kernel=linear;, score=0.779 total time=   0.9s\n",
      "[CV 1/5] END .....C=1, gamma=0.0001, kernel=rbf;, score=0.389 total time=   6.8s\n",
      "[CV 2/5] END .....C=1, gamma=0.0001, kernel=rbf;, score=0.386 total time=   6.4s\n",
      "[CV 3/5] END .....C=1, gamma=0.0001, kernel=rbf;, score=0.391 total time=   6.4s\n",
      "[CV 4/5] END .....C=1, gamma=0.0001, kernel=rbf;, score=0.395 total time=   6.4s\n",
      "[CV 5/5] END .....C=1, gamma=0.0001, kernel=rbf;, score=0.391 total time=   6.4s\n",
      "[CV 1/5] END ....C=1, gamma=0.0001, kernel=poly;, score=0.203 total time=   3.9s\n",
      "[CV 2/5] END ....C=1, gamma=0.0001, kernel=poly;, score=0.203 total time=   4.0s\n",
      "[CV 3/5] END ....C=1, gamma=0.0001, kernel=poly;, score=0.203 total time=   3.9s\n",
      "[CV 4/5] END ....C=1, gamma=0.0001, kernel=poly;, score=0.203 total time=   3.9s\n",
      "[CV 5/5] END ....C=1, gamma=0.0001, kernel=poly;, score=0.203 total time=   4.0s\n",
      "[CV 1/5] END ......C=10, gamma=1, kernel=linear;, score=0.780 total time=   1.5s\n",
      "[CV 2/5] END ......C=10, gamma=1, kernel=linear;, score=0.774 total time=   1.4s\n",
      "[CV 3/5] END ......C=10, gamma=1, kernel=linear;, score=0.785 total time=   1.5s\n",
      "[CV 4/5] END ......C=10, gamma=1, kernel=linear;, score=0.786 total time=   1.3s\n",
      "[CV 5/5] END ......C=10, gamma=1, kernel=linear;, score=0.778 total time=   1.4s\n",
      "[CV 1/5] END .........C=10, gamma=1, kernel=rbf;, score=0.775 total time=   2.7s\n",
      "[CV 2/5] END .........C=10, gamma=1, kernel=rbf;, score=0.777 total time=   2.7s\n",
      "[CV 3/5] END .........C=10, gamma=1, kernel=rbf;, score=0.789 total time=   2.7s\n",
      "[CV 4/5] END .........C=10, gamma=1, kernel=rbf;, score=0.784 total time=   2.7s\n",
      "[CV 5/5] END .........C=10, gamma=1, kernel=rbf;, score=0.776 total time=   2.7s\n",
      "[CV 1/5] END ........C=10, gamma=1, kernel=poly;, score=0.750 total time=   2.9s\n",
      "[CV 2/5] END ........C=10, gamma=1, kernel=poly;, score=0.747 total time=   3.3s\n",
      "[CV 3/5] END ........C=10, gamma=1, kernel=poly;, score=0.757 total time=   3.1s\n",
      "[CV 4/5] END ........C=10, gamma=1, kernel=poly;, score=0.755 total time=   3.1s\n",
      "[CV 5/5] END ........C=10, gamma=1, kernel=poly;, score=0.744 total time=   3.1s\n",
      "[CV 1/5] END ....C=10, gamma=0.1, kernel=linear;, score=0.780 total time=   1.4s\n",
      "[CV 2/5] END ....C=10, gamma=0.1, kernel=linear;, score=0.774 total time=   1.3s\n",
      "[CV 3/5] END ....C=10, gamma=0.1, kernel=linear;, score=0.785 total time=   1.5s\n",
      "[CV 4/5] END ....C=10, gamma=0.1, kernel=linear;, score=0.786 total time=   1.4s\n",
      "[CV 5/5] END ....C=10, gamma=0.1, kernel=linear;, score=0.778 total time=   1.4s\n",
      "[CV 1/5] END .......C=10, gamma=0.1, kernel=rbf;, score=0.776 total time=   2.3s\n",
      "[CV 2/5] END .......C=10, gamma=0.1, kernel=rbf;, score=0.773 total time=   2.4s\n",
      "[CV 3/5] END .......C=10, gamma=0.1, kernel=rbf;, score=0.788 total time=   2.4s\n",
      "[CV 4/5] END .......C=10, gamma=0.1, kernel=rbf;, score=0.781 total time=   2.3s\n",
      "[CV 5/5] END .......C=10, gamma=0.1, kernel=rbf;, score=0.777 total time=   2.3s\n",
      "[CV 1/5] END ......C=10, gamma=0.1, kernel=poly;, score=0.723 total time=   1.3s\n",
      "[CV 2/5] END ......C=10, gamma=0.1, kernel=poly;, score=0.719 total time=   1.3s\n",
      "[CV 3/5] END ......C=10, gamma=0.1, kernel=poly;, score=0.734 total time=   1.4s\n",
      "[CV 4/5] END ......C=10, gamma=0.1, kernel=poly;, score=0.725 total time=   1.3s\n",
      "[CV 5/5] END ......C=10, gamma=0.1, kernel=poly;, score=0.721 total time=   1.3s\n",
      "[CV 1/5] END ...C=10, gamma=0.01, kernel=linear;, score=0.780 total time=   1.4s\n",
      "[CV 2/5] END ...C=10, gamma=0.01, kernel=linear;, score=0.774 total time=   1.3s\n",
      "[CV 3/5] END ...C=10, gamma=0.01, kernel=linear;, score=0.785 total time=   1.5s\n",
      "[CV 4/5] END ...C=10, gamma=0.01, kernel=linear;, score=0.786 total time=   1.3s\n",
      "[CV 5/5] END ...C=10, gamma=0.01, kernel=linear;, score=0.778 total time=   1.4s\n",
      "[CV 1/5] END ......C=10, gamma=0.01, kernel=rbf;, score=0.782 total time=   2.4s\n",
      "[CV 2/5] END ......C=10, gamma=0.01, kernel=rbf;, score=0.773 total time=   2.4s\n",
      "[CV 3/5] END ......C=10, gamma=0.01, kernel=rbf;, score=0.787 total time=   2.5s\n",
      "[CV 4/5] END ......C=10, gamma=0.01, kernel=rbf;, score=0.787 total time=   2.4s\n",
      "[CV 5/5] END ......C=10, gamma=0.01, kernel=rbf;, score=0.779 total time=   2.4s\n",
      "[CV 1/5] END .....C=10, gamma=0.01, kernel=poly;, score=0.360 total time=   3.1s\n",
      "[CV 2/5] END .....C=10, gamma=0.01, kernel=poly;, score=0.355 total time=   3.1s\n",
      "[CV 3/5] END .....C=10, gamma=0.01, kernel=poly;, score=0.361 total time=   3.1s\n",
      "[CV 4/5] END .....C=10, gamma=0.01, kernel=poly;, score=0.364 total time=   3.0s\n",
      "[CV 5/5] END .....C=10, gamma=0.01, kernel=poly;, score=0.361 total time=   3.1s\n",
      "[CV 1/5] END ..C=10, gamma=0.001, kernel=linear;, score=0.780 total time=   1.4s\n",
      "[CV 2/5] END ..C=10, gamma=0.001, kernel=linear;, score=0.774 total time=   1.3s\n",
      "[CV 3/5] END ..C=10, gamma=0.001, kernel=linear;, score=0.785 total time=   1.5s\n",
      "[CV 4/5] END ..C=10, gamma=0.001, kernel=linear;, score=0.786 total time=   1.3s\n",
      "[CV 5/5] END ..C=10, gamma=0.001, kernel=linear;, score=0.778 total time=   1.4s\n",
      "[CV 1/5] END .....C=10, gamma=0.001, kernel=rbf;, score=0.778 total time=   2.9s\n",
      "[CV 2/5] END .....C=10, gamma=0.001, kernel=rbf;, score=0.777 total time=   3.8s\n",
      "[CV 3/5] END .....C=10, gamma=0.001, kernel=rbf;, score=0.784 total time=   3.3s\n",
      "[CV 4/5] END .....C=10, gamma=0.001, kernel=rbf;, score=0.782 total time=   3.8s\n",
      "[CV 5/5] END .....C=10, gamma=0.001, kernel=rbf;, score=0.776 total time=   3.6s\n",
      "[CV 1/5] END ....C=10, gamma=0.001, kernel=poly;, score=0.203 total time=   4.3s\n",
      "[CV 2/5] END ....C=10, gamma=0.001, kernel=poly;, score=0.203 total time=   4.0s\n",
      "[CV 3/5] END ....C=10, gamma=0.001, kernel=poly;, score=0.203 total time=   4.0s\n",
      "[CV 4/5] END ....C=10, gamma=0.001, kernel=poly;, score=0.203 total time=   4.0s\n",
      "[CV 5/5] END ....C=10, gamma=0.001, kernel=poly;, score=0.203 total time=   4.4s\n",
      "[CV 1/5] END .C=10, gamma=0.0001, kernel=linear;, score=0.780 total time=   1.8s\n",
      "[CV 2/5] END .C=10, gamma=0.0001, kernel=linear;, score=0.774 total time=   1.7s\n",
      "[CV 3/5] END .C=10, gamma=0.0001, kernel=linear;, score=0.785 total time=   1.6s\n",
      "[CV 4/5] END .C=10, gamma=0.0001, kernel=linear;, score=0.786 total time=   1.9s\n",
      "[CV 5/5] END .C=10, gamma=0.0001, kernel=linear;, score=0.778 total time=   1.7s\n",
      "[CV 1/5] END ....C=10, gamma=0.0001, kernel=rbf;, score=0.765 total time=   4.3s\n",
      "[CV 2/5] END ....C=10, gamma=0.0001, kernel=rbf;, score=0.757 total time=   4.7s\n",
      "[CV 3/5] END ....C=10, gamma=0.0001, kernel=rbf;, score=0.768 total time=   4.3s\n",
      "[CV 4/5] END ....C=10, gamma=0.0001, kernel=rbf;, score=0.768 total time=   4.3s\n",
      "[CV 5/5] END ....C=10, gamma=0.0001, kernel=rbf;, score=0.759 total time=   5.1s\n",
      "[CV 1/5] END ...C=10, gamma=0.0001, kernel=poly;, score=0.203 total time=   4.1s\n",
      "[CV 2/5] END ...C=10, gamma=0.0001, kernel=poly;, score=0.203 total time=   3.9s\n",
      "[CV 3/5] END ...C=10, gamma=0.0001, kernel=poly;, score=0.203 total time=   4.0s\n",
      "[CV 4/5] END ...C=10, gamma=0.0001, kernel=poly;, score=0.203 total time=   4.0s\n",
      "[CV 5/5] END ...C=10, gamma=0.0001, kernel=poly;, score=0.203 total time=   4.2s\n"
     ]
    },
    {
     "data": {
      "text/plain": "GridSearchCV(cv=5, estimator=SVC(),\n             param_grid={'C': [0.001, 0.01, 0.1, 1, 10],\n                         'gamma': [1, 0.1, 0.01, 0.001, 0.0001],\n                         'kernel': ['linear', 'rbf', 'poly']},\n             verbose=3)",
      "text/html": "<style>#sk-container-id-1 {color: black;}#sk-container-id-1 pre{padding: 0;}#sk-container-id-1 div.sk-toggleable {background-color: white;}#sk-container-id-1 label.sk-toggleable__label {cursor: pointer;display: block;width: 100%;margin-bottom: 0;padding: 0.3em;box-sizing: border-box;text-align: center;}#sk-container-id-1 label.sk-toggleable__label-arrow:before {content: \"▸\";float: left;margin-right: 0.25em;color: #696969;}#sk-container-id-1 label.sk-toggleable__label-arrow:hover:before {color: black;}#sk-container-id-1 div.sk-estimator:hover label.sk-toggleable__label-arrow:before {color: black;}#sk-container-id-1 div.sk-toggleable__content {max-height: 0;max-width: 0;overflow: hidden;text-align: left;background-color: #f0f8ff;}#sk-container-id-1 div.sk-toggleable__content pre {margin: 0.2em;color: black;border-radius: 0.25em;background-color: #f0f8ff;}#sk-container-id-1 input.sk-toggleable__control:checked~div.sk-toggleable__content {max-height: 200px;max-width: 100%;overflow: auto;}#sk-container-id-1 input.sk-toggleable__control:checked~label.sk-toggleable__label-arrow:before {content: \"▾\";}#sk-container-id-1 div.sk-estimator input.sk-toggleable__control:checked~label.sk-toggleable__label {background-color: #d4ebff;}#sk-container-id-1 div.sk-label input.sk-toggleable__control:checked~label.sk-toggleable__label {background-color: #d4ebff;}#sk-container-id-1 input.sk-hidden--visually {border: 0;clip: rect(1px 1px 1px 1px);clip: rect(1px, 1px, 1px, 1px);height: 1px;margin: -1px;overflow: hidden;padding: 0;position: absolute;width: 1px;}#sk-container-id-1 div.sk-estimator {font-family: monospace;background-color: #f0f8ff;border: 1px dotted black;border-radius: 0.25em;box-sizing: border-box;margin-bottom: 0.5em;}#sk-container-id-1 div.sk-estimator:hover {background-color: #d4ebff;}#sk-container-id-1 div.sk-parallel-item::after {content: \"\";width: 100%;border-bottom: 1px solid gray;flex-grow: 1;}#sk-container-id-1 div.sk-label:hover label.sk-toggleable__label {background-color: #d4ebff;}#sk-container-id-1 div.sk-serial::before {content: \"\";position: absolute;border-left: 1px solid gray;box-sizing: border-box;top: 0;bottom: 0;left: 50%;z-index: 0;}#sk-container-id-1 div.sk-serial {display: flex;flex-direction: column;align-items: center;background-color: white;padding-right: 0.2em;padding-left: 0.2em;position: relative;}#sk-container-id-1 div.sk-item {position: relative;z-index: 1;}#sk-container-id-1 div.sk-parallel {display: flex;align-items: stretch;justify-content: center;background-color: white;position: relative;}#sk-container-id-1 div.sk-item::before, #sk-container-id-1 div.sk-parallel-item::before {content: \"\";position: absolute;border-left: 1px solid gray;box-sizing: border-box;top: 0;bottom: 0;left: 50%;z-index: -1;}#sk-container-id-1 div.sk-parallel-item {display: flex;flex-direction: column;z-index: 1;position: relative;background-color: white;}#sk-container-id-1 div.sk-parallel-item:first-child::after {align-self: flex-end;width: 50%;}#sk-container-id-1 div.sk-parallel-item:last-child::after {align-self: flex-start;width: 50%;}#sk-container-id-1 div.sk-parallel-item:only-child::after {width: 0;}#sk-container-id-1 div.sk-dashed-wrapped {border: 1px dashed gray;margin: 0 0.4em 0.5em 0.4em;box-sizing: border-box;padding-bottom: 0.4em;background-color: white;}#sk-container-id-1 div.sk-label label {font-family: monospace;font-weight: bold;display: inline-block;line-height: 1.2em;}#sk-container-id-1 div.sk-label-container {text-align: center;}#sk-container-id-1 div.sk-container {/* jupyter's `normalize.less` sets `[hidden] { display: none; }` but bootstrap.min.css set `[hidden] { display: none !important; }` so we also need the `!important` here to be able to override the default hidden behavior on the sphinx rendered scikit-learn.org. See: https://github.com/scikit-learn/scikit-learn/issues/21755 */display: inline-block !important;position: relative;}#sk-container-id-1 div.sk-text-repr-fallback {display: none;}</style><div id=\"sk-container-id-1\" class=\"sk-top-container\"><div class=\"sk-text-repr-fallback\"><pre>GridSearchCV(cv=5, estimator=SVC(),\n             param_grid={&#x27;C&#x27;: [0.001, 0.01, 0.1, 1, 10],\n                         &#x27;gamma&#x27;: [1, 0.1, 0.01, 0.001, 0.0001],\n                         &#x27;kernel&#x27;: [&#x27;linear&#x27;, &#x27;rbf&#x27;, &#x27;poly&#x27;]},\n             verbose=3)</pre><b>In a Jupyter environment, please rerun this cell to show the HTML representation or trust the notebook. <br />On GitHub, the HTML representation is unable to render, please try loading this page with nbviewer.org.</b></div><div class=\"sk-container\" hidden><div class=\"sk-item sk-dashed-wrapped\"><div class=\"sk-label-container\"><div class=\"sk-label sk-toggleable\"><input class=\"sk-toggleable__control sk-hidden--visually\" id=\"sk-estimator-id-1\" type=\"checkbox\" ><label for=\"sk-estimator-id-1\" class=\"sk-toggleable__label sk-toggleable__label-arrow\">GridSearchCV</label><div class=\"sk-toggleable__content\"><pre>GridSearchCV(cv=5, estimator=SVC(),\n             param_grid={&#x27;C&#x27;: [0.001, 0.01, 0.1, 1, 10],\n                         &#x27;gamma&#x27;: [1, 0.1, 0.01, 0.001, 0.0001],\n                         &#x27;kernel&#x27;: [&#x27;linear&#x27;, &#x27;rbf&#x27;, &#x27;poly&#x27;]},\n             verbose=3)</pre></div></div></div><div class=\"sk-parallel\"><div class=\"sk-parallel-item\"><div class=\"sk-item\"><div class=\"sk-label-container\"><div class=\"sk-label sk-toggleable\"><input class=\"sk-toggleable__control sk-hidden--visually\" id=\"sk-estimator-id-2\" type=\"checkbox\" ><label for=\"sk-estimator-id-2\" class=\"sk-toggleable__label sk-toggleable__label-arrow\">estimator: SVC</label><div class=\"sk-toggleable__content\"><pre>SVC()</pre></div></div></div><div class=\"sk-serial\"><div class=\"sk-item\"><div class=\"sk-estimator sk-toggleable\"><input class=\"sk-toggleable__control sk-hidden--visually\" id=\"sk-estimator-id-3\" type=\"checkbox\" ><label for=\"sk-estimator-id-3\" class=\"sk-toggleable__label sk-toggleable__label-arrow\">SVC</label><div class=\"sk-toggleable__content\"><pre>SVC()</pre></div></div></div></div></div></div></div></div></div></div>"
     },
     "execution_count": 16,
     "metadata": {},
     "output_type": "execute_result"
    }
   ],
   "source": [
    "#https://www.vebuso.com/2020/03/svm-hyperparameter-tuning-using-gridsearchcv/\n",
    "# https://scikit-learn.org/stable/modules/generated/sklearn.model_selection.GridSearchCV.html#sklearn.model_selection.GridSearchCV\n",
    "# perform grid search\n",
    "from sklearn.model_selection import GridSearchCV \n",
    "  \n",
    "# define parameters for the grid search\n",
    "param_grid = {'C': [0.001,0.01, 0.1, 1, 10], \n",
    "              'kernel': ['linear', 'rbf', 'poly'], \n",
    "              'gamma': [1, 0.1, 0.01, 0.001, 0.0001]}  \n",
    "  \n",
    "grid = GridSearchCV(SVC(), param_grid, verbose = 3, refit=True, cv=5) \n",
    "  \n",
    "# fitting the model for grid search \n",
    "grid.fit(X_train, Y_train) "
   ],
   "metadata": {
    "collapsed": false,
    "ExecuteTime": {
     "end_time": "2024-01-02T07:07:26.776220Z",
     "start_time": "2024-01-02T06:44:25.140614300Z"
    }
   },
   "id": "5ba4cae20eb559d2"
  },
  {
   "cell_type": "code",
   "execution_count": 17,
   "outputs": [
    {
     "data": {
      "text/plain": "{'C': 10, 'gamma': 0.01, 'kernel': 'rbf'}"
     },
     "execution_count": 17,
     "metadata": {},
     "output_type": "execute_result"
    }
   ],
   "source": [
    "# print the best parameters\n",
    "grid.best_params_"
   ],
   "metadata": {
    "collapsed": false,
    "ExecuteTime": {
     "end_time": "2024-01-02T07:17:00.894200500Z",
     "start_time": "2024-01-02T07:17:00.783826700Z"
    }
   },
   "id": "51baec6cb1915ffc"
  },
  {
   "cell_type": "code",
   "execution_count": 18,
   "outputs": [],
   "source": [
    "# save the model object (to prevent running the grid search all the time)\n",
    "# https://pythonbasics.org/pickle/\n",
    "#filename = 'finalized_model.obj'\n",
    "#pickle.dump(grid, open(filename, 'wb'))"
   ],
   "metadata": {
    "collapsed": false,
    "ExecuteTime": {
     "end_time": "2024-01-02T07:17:05.688149100Z",
     "start_time": "2024-01-02T07:17:05.564144Z"
    }
   },
   "id": "13387192dc4597f2"
  },
  {
   "cell_type": "code",
   "execution_count": 19,
   "outputs": [],
   "source": [
    "#open the pickeled model\n",
    "# https://pythonbasics.org/pickle/\n",
    "#filename = 'finalized_model.obj'\n",
    "#loaded_model = pickle.load(open(filename, 'rb'))"
   ],
   "metadata": {
    "collapsed": false,
    "ExecuteTime": {
     "end_time": "2024-01-02T07:17:16.416849100Z",
     "start_time": "2024-01-02T07:17:11.250230500Z"
    }
   },
   "id": "8571940a8dc69fed"
  },
  {
   "cell_type": "code",
   "execution_count": 42,
   "outputs": [],
   "source": [
    "# make prediction on the test set\n",
    "grid_predictions = grid.predict(X_test)"
   ],
   "metadata": {
    "collapsed": false,
    "ExecuteTime": {
     "end_time": "2024-01-02T08:25:11.335460600Z",
     "start_time": "2024-01-02T08:25:06.754785400Z"
    }
   },
   "id": "843808462eb4162a"
  },
  {
   "cell_type": "code",
   "execution_count": 43,
   "outputs": [],
   "source": [
    "# save the test set with the true labels\n",
    "df = pd.DataFrame({'true label': Y_test, 'predicted': grid_predictions})"
   ],
   "metadata": {
    "collapsed": false,
    "ExecuteTime": {
     "end_time": "2024-01-02T08:25:12.555751400Z",
     "start_time": "2024-01-02T08:25:12.484751100Z"
    }
   },
   "id": "c0059b52877c0dfe"
  },
  {
   "cell_type": "markdown",
   "source": [
    "# Confusion matrix and precision, recall, F1 score for the test set"
   ],
   "metadata": {
    "collapsed": false
   },
   "id": "a824ca6bb8df4c3c"
  },
  {
   "cell_type": "code",
   "execution_count": 44,
   "outputs": [
    {
     "data": {
      "text/plain": "<Figure size 2000x2000 with 0 Axes>"
     },
     "metadata": {},
     "output_type": "display_data"
    },
    {
     "data": {
      "text/plain": "<Figure size 2000x2000 with 0 Axes>"
     },
     "metadata": {},
     "output_type": "display_data"
    },
    {
     "data": {
      "text/plain": "<Figure size 640x480 with 2 Axes>",
      "image/svg+xml": "<?xml version=\"1.0\" encoding=\"utf-8\" standalone=\"no\"?>\n<!DOCTYPE svg PUBLIC \"-//W3C//DTD SVG 1.1//EN\"\n  \"http://www.w3.org/Graphics/SVG/1.1/DTD/svg11.dtd\">\n<svg xmlns:xlink=\"http://www.w3.org/1999/xlink\" width=\"421.284693pt\" height=\"338.562255pt\" viewBox=\"0 0 421.284693 338.562255\" xmlns=\"http://www.w3.org/2000/svg\" version=\"1.1\">\n <metadata>\n  <rdf:RDF xmlns:dc=\"http://purl.org/dc/elements/1.1/\" xmlns:cc=\"http://creativecommons.org/ns#\" xmlns:rdf=\"http://www.w3.org/1999/02/22-rdf-syntax-ns#\">\n   <cc:Work>\n    <dc:type rdf:resource=\"http://purl.org/dc/dcmitype/StillImage\"/>\n    <dc:date>2024-01-02T09:25:14.724965</dc:date>\n    <dc:format>image/svg+xml</dc:format>\n    <dc:creator>\n     <cc:Agent>\n      <dc:title>Matplotlib v3.8.2, https://matplotlib.org/</dc:title>\n     </cc:Agent>\n    </dc:creator>\n   </cc:Work>\n  </rdf:RDF>\n </metadata>\n <defs>\n  <style type=\"text/css\">*{stroke-linejoin: round; stroke-linecap: butt}</style>\n </defs>\n <g id=\"figure_1\">\n  <g id=\"patch_1\">\n   <path d=\"M 0 338.562255 \nL 421.284693 338.562255 \nL 421.284693 0 \nL 0 0 \nz\n\" style=\"fill: #ffffff\"/>\n  </g>\n  <g id=\"axes_1\">\n   <g id=\"patch_2\">\n    <path d=\"M 87.644463 294.238022 \nL 353.756463 294.238022 \nL 353.756463 28.126022 \nL 87.644463 28.126022 \nz\n\" style=\"fill: #ffffff\"/>\n   </g>\n   <g clip-path=\"url(#p090b31ee97)\">\n    <image xlink:href=\"data:image/png;base64,\niVBORw0KGgoAAAANSUhEUgAAAXIAAAFyCAYAAADoJFEJAAAF5ElEQVR4nO3WrYoUYBiGYUeHRRBhYUEQwyTZbLJ7DBbzFovguSyYDCbLFoMnoaDFrIgWDf4EBxwZdzwEBwwvt1zXETx88N28i+dvPu0u8Fd3jq9NT0h4/f779ISE4+tXpyckPHn1YXpCwsXpAQD8GyEHiBNygDghB4gTcoA4IQeIE3KAOCEHiBNygDghB4gTcoA4IQeIE3KAOCEHiBNygDghB4gTcoA4IQeIE3KAOCEHiBNygDghB4gTcoA4IQeIE3KAOCEHiBNygDghB4gTcoA4IQeIE3KAOCEHiBNygDghB4gTcoA4IQeIE3KAOCEHiBNygDghB4gTcoA4IQeIE3KAOCEHiBNygDghB4gTcoA4IQeIE3KAOCEHiBNygDghB4gTcoA4IQeIE3KAOCEHiBNygDghB4gTcoA4IQeIE3KAOCEHiBNygDghB4gTcoA4IQeIE3KAOCEHiBNygDghB4gTcoA4IQeIE3KAuOXq8Mr0Bv4jt1aH0xMSbpw8nZ6Q8PHxvekJCS5ygDghB4gTcoA4IQeIE3KAOCEHiBNygDghB4gTcoA4IQeIE3KAOCEHiBNygDghB4gTcoA4IQeIE3KAOCEHiBNygDghB4gTcoA4IQeIE3KAOCEHiBNygDghB4gTcoA4IQeIE3KAOCEHiBNygDghB4gTcoA4IQeIE3KAOCEHiBNygDghB4gTcoA4IQeIE3KAOCEHiBNygDghB4gTcoA4IQeIE3KAOCEHiBNygDghB4gTcoA4IQeIE3KAOCEHiBNygDghB4gTcoA4IQeIE3KAOCEHiBNygDghB4gTcoA4IQeIE3KAOCEHiBNygDghB4gTcoA4IQeIE3KAOCEHiBNygLjFt/V2Nz2i4PLBpekJCav7Z9MTEt49ujs9IeHt5x/TExJc5ABxQg4QJ+QAcUIOECfkAHFCDhAn5ABxQg4QJ+QAcUIOECfkAHFCDhAn5ABxQg4QJ+QAcUIOECfkAHFCDhAn5ABxQg4QJ+QAcUIOECfkAHFCDhAn5ABxQg4QJ+QAcUIOECfkAHFCDhAn5ABxQg4QJ+QAcUIOECfkAHFCDhAn5ABxQg4QJ+QAcUIOECfkAHFCDhAn5ABxQg4QJ+QAcUIOECfkAHFCDhAn5ABxQg4QJ+QAcUIOECfkAHFCDhAn5ABxQg4QJ+QAcUIOECfkAHFCDhAn5ABxQg4QJ+QAcUIOECfkAHFCDhAn5ABxQg4QJ+QAcUIOECfkAHFCDhAn5ABxi/XmfDc9ouDo9oPpCQlfXpxOT0jY+nZ7OVi6NffhlQDihBwgTsgB4oQcIE7IAeKEHCBOyAHihBwgTsgB4oQcIE7IAeKEHCBOyAHihBwgTsgB4oQcIE7IAeKEHCBOyAHihBwgTsgB4oQcIE7IAeKEHCBOyAHihBwgTsgB4oQcIE7IAeKEHCBOyAHihBwgTsgB4oQcIE7IAeKEHCBOyAHihBwgTsgB4oQcIE7IAeKEHCBOyAHihBwgTsgB4oQcIE7IAeKEHCBOyAHihBwgTsgB4oQcIE7IAeKEHCBOyAHihBwgTsgB4oQcIE7IAeKEHCBOyAHihBwgTsgB4oQcIE7IAeKEHCBOyAHihBwgTsgB4oQcIE7IAeKEHCBOyAHiljcfPpvekPD15en0hITN9nx6QsJ683t6QsLPX95pHy5ygDghB4gTcoA4IQeIE3KAOCEHiBNygDghB4gTcoA4IQeIE3KAOCEHiBNygDghB4gTcoA4IQeIE3KAOCEHiBNygDghB4gTcoA4IQeIE3KAOCEHiBNygDghB4gTcoA4IQeIE3KAOCEHiBNygDghB4gTcoA4IQeIE3KAOCEHiBNygDghB4gTcoA4IQeIE3KAOCEHiBNygDghB4gTcoA4IQeIE3KAOCEHiBNygDghB4gTcoA4IQeIE3KAOCEHiBNygDghB4gTcoA4IQeIE3KAOCEHiBNygDghB4gTcoA4IQeIE3KAOCEHiBNygDghB4gTcoA4IQeIE3KAOCEHiBNygLg/gAQvlJHzMzgAAAAASUVORK5CYII=\" id=\"imagec3bda494af\" transform=\"scale(1 -1) translate(0 -266.4)\" x=\"87.644463\" y=\"-27.838022\" width=\"266.4\" height=\"266.4\"/>\n   </g>\n   <g id=\"matplotlib.axis_1\">\n    <g id=\"xtick_1\">\n     <g id=\"line2d_1\">\n      <defs>\n       <path id=\"m017521b19c\" d=\"M 0 0 \nL 0 3.5 \n\" style=\"stroke: #000000; stroke-width: 0.8\"/>\n      </defs>\n      <g>\n       <use xlink:href=\"#m017521b19c\" x=\"114.255663\" y=\"294.238022\" style=\"stroke: #000000; stroke-width: 0.8\"/>\n      </g>\n     </g>\n     <g id=\"text_1\">\n      <!-- T-shirt/top -->\n      <g transform=\"translate(86.617964 310.204398) scale(0.12 -0.12)\">\n       <defs>\n        <path id=\"CMSS17-54\" d=\"M 2317 3968 \nL 2848 3968 \nC 2925 3968 3002 3968 3078 3968 \nL 3878 3968 \nL 3878 4376 \nL 218 4376 \nL 218 3968 \nL 1018 3968 \nC 1094 3968 1171 3968 1248 3968 \nL 1779 3968 \nL 1779 -32 \nL 2317 -32 \nL 2317 3968 \nz\n\" transform=\"scale(0.015625)\"/>\n        <path id=\"CMSS17-2d\" d=\"M 1664 1216 \nL 1664 1585 \nL 64 1585 \nL 64 1216 \nL 1664 1216 \nz\n\" transform=\"scale(0.015625)\"/>\n        <path id=\"CMSS17-73\" d=\"M 2061 2627 \nC 1683 2807 1389 2807 1197 2807 \nC 742 2807 198 2648 198 2003 \nC 198 1359 902 1218 1094 1179 \nC 1389 1122 1715 1058 1715 740 \nC 1715 337 1254 337 1171 337 \nC 915 337 563 407 243 638 \nL 166 210 \nC 531 0 883 -64 1178 -64 \nC 1965 -64 2163 416 2163 781 \nC 2163 1094 1984 1305 1862 1401 \nC 1651 1568 1574 1587 1050 1696 \nC 960 1709 646 1779 646 2066 \nC 646 2432 1050 2432 1139 2432 \nC 1555 2432 1811 2303 1984 2208 \nL 2061 2627 \nz\n\" transform=\"scale(0.015625)\"/>\n        <path id=\"CMSS17-68\" d=\"M 2618 1891 \nC 2618 2292 2522 2820 1798 2820 \nC 1395 2820 1133 2623 947 2407 \nL 947 4448 \nL 474 4448 \nL 474 32 \nL 960 32 \nL 960 1573 \nC 960 1973 1114 2432 1549 2432 \nC 2112 2432 2131 2056 2131 1839 \nL 2131 32 \nL 2618 32 \nL 2618 1891 \nz\n\" transform=\"scale(0.015625)\"/>\n        <path id=\"CMSS17-69\" d=\"M 979 4183 \nL 442 4183 \nL 442 3648 \nL 979 3648 \nL 979 4183 \nz\nM 947 2739 \nL 474 2739 \nL 474 0 \nL 947 0 \nL 947 2739 \nz\n\" transform=\"scale(0.015625)\"/>\n        <path id=\"CMSS17-72\" d=\"M 954 1363 \nC 954 1965 1395 2368 1958 2368 \nL 1958 2789 \nC 1549 2789 1165 2585 934 2253 \nL 934 2758 \nL 480 2758 \nL 480 0 \nL 954 0 \nL 954 1363 \nz\n\" transform=\"scale(0.015625)\"/>\n        <path id=\"CMSS17-74\" d=\"M 1069 2368 \nL 1901 2368 \nL 1901 2737 \nL 1069 2737 \nL 1069 3520 \nL 614 3520 \nL 614 2737 \nL 109 2737 \nL 109 2368 \nL 602 2368 \nL 602 749 \nC 602 384 685 -64 1107 -64 \nC 1427 -64 1722 25 2003 172 \nL 1901 548 \nC 1747 414 1562 337 1363 337 \nC 1082 337 1069 696 1069 856 \nL 1069 2368 \nz\n\" transform=\"scale(0.015625)\"/>\n        <path id=\"CMSS17-2f\" d=\"M 2637 4545 \nC 2669 4627 2669 4640 2669 4653 \nC 2669 4729 2611 4768 2560 4768 \nC 2483 4768 2458 4717 2432 4640 \nL 365 -1377 \nC 333 -1460 333 -1473 333 -1486 \nC 333 -1562 390 -1600 442 -1600 \nC 518 -1600 544 -1549 570 -1473 \nL 2637 4545 \nz\n\" transform=\"scale(0.015625)\"/>\n        <path id=\"CMSS17-6f\" d=\"M 2829 1356 \nC 2829 2176 2221 2816 1504 2816 \nC 768 2816 173 2157 173 1356 \nC 173 544 787 -64 1498 -64 \nC 2227 -64 2829 563 2829 1356 \nz\nM 1504 337 \nC 1050 337 659 709 659 1408 \nC 659 2151 1114 2427 1498 2427 \nC 1914 2427 2342 2126 2342 1408 \nC 2342 683 1926 337 1504 337 \nz\n\" transform=\"scale(0.015625)\"/>\n        <path id=\"CMSS17-70\" d=\"M 966 333 \nC 1178 129 1466 -5 1773 -5 \nC 2368 -5 2880 603 2880 1412 \nC 2880 2159 2496 2816 1946 2816 \nC 1626 2816 1242 2702 954 2472 \nL 954 2765 \nL 480 2765 \nL 480 -1216 \nL 966 -1216 \nL 966 333 \nz\nM 966 2100 \nC 1018 2176 1235 2415 1587 2415 \nC 2035 2415 2394 1960 2394 1412 \nC 2394 787 1958 384 1530 384 \nC 1402 384 1267 415 1139 523 \nC 966 674 966 768 966 857 \nL 966 2100 \nz\n\" transform=\"scale(0.015625)\"/>\n       </defs>\n       <use xlink:href=\"#CMSS17-54\" transform=\"scale(0.996264)\"/>\n       <use xlink:href=\"#CMSS17-2d\" transform=\"translate(63.819454 0) scale(0.996264)\"/>\n       <use xlink:href=\"#CMSS17-73\" transform=\"translate(95.048567 0) scale(0.996264)\"/>\n       <use xlink:href=\"#CMSS17-68\" transform=\"translate(130.962109 0) scale(0.996264)\"/>\n       <use xlink:href=\"#CMSS17-69\" transform=\"translate(179.167052 0) scale(0.996264)\"/>\n       <use xlink:href=\"#CMSS17-72\" transform=\"translate(201.347775 0) scale(0.996264)\"/>\n       <use xlink:href=\"#CMSS17-74\" transform=\"translate(233.257547 0) scale(0.996264)\"/>\n       <use xlink:href=\"#CMSS17-2f\" transform=\"translate(267.089114 0) scale(0.996264)\"/>\n       <use xlink:href=\"#CMSS17-74\" transform=\"translate(313.932738 0) scale(0.996264)\"/>\n       <use xlink:href=\"#CMSS17-6f\" transform=\"translate(347.764304 0) scale(0.996264)\"/>\n       <use xlink:href=\"#CMSS17-70\" transform=\"translate(394.607928 0) scale(0.996264)\"/>\n      </g>\n     </g>\n    </g>\n    <g id=\"xtick_2\">\n     <g id=\"line2d_2\">\n      <g>\n       <use xlink:href=\"#m017521b19c\" x=\"167.478063\" y=\"294.238022\" style=\"stroke: #000000; stroke-width: 0.8\"/>\n      </g>\n     </g>\n     <g id=\"text_2\">\n      <!-- Trouser -->\n      <g transform=\"translate(149.221733 309.540202) scale(0.12 -0.12)\">\n       <defs>\n        <path id=\"CMSS17-75\" d=\"M 2618 2739 \nL 2131 2739 \nL 2131 972 \nC 2131 498 1786 306 1421 306 \nC 998 306 960 447 960 709 \nL 960 2739 \nL 474 2739 \nL 474 678 \nC 474 179 646 -64 1088 -64 \nC 1306 -64 1798 -13 2144 306 \nL 2144 0 \nL 2618 0 \nL 2618 2739 \nz\n\" transform=\"scale(0.015625)\"/>\n        <path id=\"CMSS17-65\" d=\"M 2502 1377 \nC 2502 1590 2490 2003 2285 2345 \nC 2061 2713 1696 2816 1421 2816 \nC 755 2816 192 2188 192 1375 \nC 192 582 774 -64 1510 -64 \nC 1798 -64 2150 19 2470 248 \nC 2470 274 2458 414 2451 420 \nC 2451 433 2432 630 2432 656 \nC 2125 407 1773 325 1517 325 \nC 1107 325 666 667 646 1377 \nL 2502 1377 \nz\nM 698 1728 \nC 781 2084 1062 2421 1421 2421 \nC 1517 2421 1965 2421 2080 1728 \nL 698 1728 \nz\n\" transform=\"scale(0.015625)\"/>\n       </defs>\n       <use xlink:href=\"#CMSS17-54\" transform=\"scale(0.996264)\"/>\n       <use xlink:href=\"#CMSS17-72\" transform=\"translate(56.012199 0) scale(0.996264)\"/>\n       <use xlink:href=\"#CMSS17-6f\" transform=\"translate(87.921971 0) scale(0.996264)\"/>\n       <use xlink:href=\"#CMSS17-75\" transform=\"translate(134.765595 0) scale(0.996264)\"/>\n       <use xlink:href=\"#CMSS17-73\" transform=\"translate(182.970538 0) scale(0.996264)\"/>\n       <use xlink:href=\"#CMSS17-65\" transform=\"translate(218.88408 0) scale(0.996264)\"/>\n       <use xlink:href=\"#CMSS17-72\" transform=\"translate(260.522902 0) scale(0.996264)\"/>\n      </g>\n     </g>\n    </g>\n    <g id=\"xtick_3\">\n     <g id=\"line2d_3\">\n      <g>\n       <use xlink:href=\"#m017521b19c\" x=\"220.700463\" y=\"294.238022\" style=\"stroke: #000000; stroke-width: 0.8\"/>\n      </g>\n     </g>\n     <g id=\"text_3\">\n      <!-- Pullover -->\n      <g transform=\"translate(201.027966 309.540202) scale(0.12 -0.12)\">\n       <defs>\n        <path id=\"CMSS17-50\" d=\"M 2106 1856 \nC 2874 1856 3501 2453 3501 3158 \nC 3501 3850 2899 4453 2067 4453 \nL 570 4453 \nL 570 0 \nL 1107 0 \nL 1107 1856 \nL 2106 1856 \nz\nM 1926 4096 \nC 2669 4096 2995 3627 2995 3157 \nC 2995 2720 2694 2226 1926 2226 \nL 1094 2226 \nL 1094 4096 \nL 1926 4096 \nz\n\" transform=\"scale(0.015625)\"/>\n        <path id=\"CMSS17-6c\" d=\"M 947 4416 \nL 474 4416 \nL 474 0 \nL 947 0 \nL 947 4416 \nz\n\" transform=\"scale(0.015625)\"/>\n        <path id=\"CMSS17-76\" d=\"M 2675 2752 \nL 2176 2752 \nL 1747 1556 \nC 1613 1165 1421 627 1389 352 \nL 1382 352 \nC 1370 468 1318 634 1286 749 \nC 1248 890 1197 1056 1158 1172 \nL 595 2752 \nL 83 2752 \nL 1094 0 \nL 1664 0 \nL 2675 2752 \nz\n\" transform=\"scale(0.015625)\"/>\n       </defs>\n       <use xlink:href=\"#CMSS17-50\" transform=\"scale(0.996264)\"/>\n       <use xlink:href=\"#CMSS17-75\" transform=\"translate(59.735586 0) scale(0.996264)\"/>\n       <use xlink:href=\"#CMSS17-6c\" transform=\"translate(107.940529 0) scale(0.996264)\"/>\n       <use xlink:href=\"#CMSS17-6c\" transform=\"translate(130.121252 0) scale(0.996264)\"/>\n       <use xlink:href=\"#CMSS17-6f\" transform=\"translate(152.301976 0) scale(0.996264)\"/>\n       <use xlink:href=\"#CMSS17-76\" transform=\"translate(199.145599 0) scale(0.996264)\"/>\n       <use xlink:href=\"#CMSS17-65\" transform=\"translate(242.145741 0) scale(0.996264)\"/>\n       <use xlink:href=\"#CMSS17-72\" transform=\"translate(283.784563 0) scale(0.996264)\"/>\n      </g>\n     </g>\n    </g>\n    <g id=\"xtick_4\">\n     <g id=\"line2d_4\">\n      <g>\n       <use xlink:href=\"#m017521b19c\" x=\"273.922863\" y=\"294.238022\" style=\"stroke: #000000; stroke-width: 0.8\"/>\n      </g>\n     </g>\n     <g id=\"text_4\">\n      <!-- Dress -->\n      <g transform=\"translate(260.635342 309.540202) scale(0.12 -0.12)\">\n       <defs>\n        <path id=\"CMSS17-44\" d=\"M 570 4416 \nL 570 0 \nL 2144 0 \nC 3194 0 4000 980 4000 2170 \nC 4000 3398 3194 4416 2144 4416 \nL 570 4416 \nz\nM 1094 357 \nL 1094 4059 \nL 2003 4059 \nC 2861 4059 3475 3277 3475 2170 \nC 3475 1107 2867 357 2003 357 \nL 1094 357 \nz\n\" transform=\"scale(0.015625)\"/>\n       </defs>\n       <use xlink:href=\"#CMSS17-44\" transform=\"scale(0.996264)\"/>\n       <use xlink:href=\"#CMSS17-72\" transform=\"translate(67.542842 0) scale(0.996264)\"/>\n       <use xlink:href=\"#CMSS17-65\" transform=\"translate(99.452614 0) scale(0.996264)\"/>\n       <use xlink:href=\"#CMSS17-73\" transform=\"translate(141.091436 0) scale(0.996264)\"/>\n       <use xlink:href=\"#CMSS17-73\" transform=\"translate(177.004978 0) scale(0.996264)\"/>\n      </g>\n     </g>\n    </g>\n    <g id=\"xtick_5\">\n     <g id=\"line2d_5\">\n      <g>\n       <use xlink:href=\"#m017521b19c\" x=\"327.145263\" y=\"294.238022\" style=\"stroke: #000000; stroke-width: 0.8\"/>\n      </g>\n     </g>\n     <g id=\"text_5\">\n      <!-- Shirt -->\n      <g transform=\"translate(315.41163 309.540202) scale(0.12 -0.12)\">\n       <defs>\n        <path id=\"CMSS17-53\" d=\"M 2797 4169 \nC 2515 4334 2208 4480 1690 4480 \nC 864 4480 333 3879 333 3266 \nC 333 3025 403 2753 653 2475 \nC 902 2196 1184 2121 1542 2033 \nC 1690 1994 1939 1924 1984 1906 \nC 2342 1767 2515 1444 2515 1140 \nC 2515 742 2202 318 1645 318 \nC 1453 318 890 318 358 819 \nL 269 318 \nC 794 -64 1363 -128 1651 -128 \nC 2438 -128 3002 488 3002 1186 \nC 3002 1440 2925 1763 2656 2061 \nC 2394 2347 2163 2410 1638 2549 \nC 1338 2626 1146 2677 986 2873 \nC 877 3013 819 3146 819 3317 \nC 819 3673 1126 4060 1690 4060 \nC 1971 4060 2336 4002 2707 3660 \nL 2797 4169 \nz\n\" transform=\"scale(0.015625)\"/>\n       </defs>\n       <use xlink:href=\"#CMSS17-53\" transform=\"scale(0.996264)\"/>\n       <use xlink:href=\"#CMSS17-68\" transform=\"translate(52.048516 0) scale(0.996264)\"/>\n       <use xlink:href=\"#CMSS17-69\" transform=\"translate(100.253459 0) scale(0.996264)\"/>\n       <use xlink:href=\"#CMSS17-72\" transform=\"translate(122.434182 0) scale(0.996264)\"/>\n       <use xlink:href=\"#CMSS17-74\" transform=\"translate(154.343955 0) scale(0.996264)\"/>\n      </g>\n     </g>\n    </g>\n    <g id=\"text_6\">\n     <!-- Predicted label -->\n     <g transform=\"translate(172.322242 328.262778) scale(0.16 -0.16)\">\n      <defs>\n       <path id=\"CMSS17-64\" d=\"M 2611 4416 \nL 2138 4416 \nL 2138 2438 \nC 1939 2603 1613 2756 1254 2756 \nC 672 2756 211 2131 211 1347 \nC 211 562 666 -64 1235 -64 \nC 1677 -64 1971 172 2125 306 \nL 2125 -13 \nL 2611 -13 \nL 2611 4416 \nz\nM 2125 836 \nC 2125 747 2125 653 1926 482 \nC 1798 375 1645 325 1498 325 \nC 1152 325 698 576 698 1340 \nC 698 2134 1210 2368 1562 2368 \nC 1798 2368 1990 2254 2125 2065 \nL 2125 836 \nz\n\" transform=\"scale(0.015625)\"/>\n       <path id=\"CMSS17-63\" d=\"M 2464 2541 \nC 2464 2585 2170 2714 2093 2739 \nC 1882 2816 1613 2816 1542 2816 \nC 710 2816 211 2093 211 1363 \nC 211 595 768 -64 1517 -64 \nC 1946 -64 2253 76 2502 242 \nL 2464 664 \nC 2189 453 1869 337 1523 337 \nC 1024 337 698 774 698 1369 \nC 698 1831 909 2414 1549 2414 \nC 1901 2414 2099 2343 2394 2145 \nL 2464 2541 \nz\n\" transform=\"scale(0.015625)\"/>\n       <path id=\"CMSS17-61\" d=\"M 2406 1791 \nC 2406 2392 1978 2808 1402 2808 \nC 1120 2808 813 2757 461 2553 \nL 499 2135 \nC 659 2248 934 2432 1395 2432 \nC 1722 2432 1920 2180 1920 1782 \nL 1920 1536 \nC 896 1536 256 1238 256 726 \nC 256 461 416 -64 947 -64 \nC 1043 -64 1562 -64 1933 217 \nL 1933 -19 \nL 2406 -19 \nL 2406 1791 \nz\nM 1920 816 \nC 1920 701 1920 548 1728 434 \nC 1562 325 1350 325 1261 325 \nC 941 325 723 511 723 744 \nC 723 1211 1722 1211 1920 1211 \nL 1920 816 \nz\n\" transform=\"scale(0.015625)\"/>\n       <path id=\"CMSS17-62\" d=\"M 954 4416 \nL 480 4416 \nL 480 -13 \nL 966 -13 \nL 966 274 \nC 1210 38 1504 -64 1766 -64 \nC 2381 -64 2880 549 2880 1352 \nC 2880 2086 2496 2756 1926 2756 \nC 1523 2756 1165 2591 954 2419 \nL 954 4416 \nz\nM 966 2046 \nC 1107 2222 1306 2368 1587 2368 \nC 1965 2368 2394 2097 2394 1352 \nC 2394 558 1882 325 1530 325 \nC 1402 325 1267 356 1139 464 \nC 966 615 966 709 966 797 \nL 966 2046 \nz\n\" transform=\"scale(0.015625)\"/>\n      </defs>\n      <use xlink:href=\"#CMSS17-50\" transform=\"scale(0.996264)\"/>\n      <use xlink:href=\"#CMSS17-72\" transform=\"translate(59.735586 0) scale(0.996264)\"/>\n      <use xlink:href=\"#CMSS17-65\" transform=\"translate(91.645359 0) scale(0.996264)\"/>\n      <use xlink:href=\"#CMSS17-64\" transform=\"translate(133.284181 0) scale(0.996264)\"/>\n      <use xlink:href=\"#CMSS17-69\" transform=\"translate(181.489124 0) scale(0.996264)\"/>\n      <use xlink:href=\"#CMSS17-63\" transform=\"translate(203.669847 0) scale(0.996264)\"/>\n      <use xlink:href=\"#CMSS17-74\" transform=\"translate(245.308669 0) scale(0.996264)\"/>\n      <use xlink:href=\"#CMSS17-65\" transform=\"translate(279.140236 0) scale(0.996264)\"/>\n      <use xlink:href=\"#CMSS17-64\" transform=\"translate(320.779058 0) scale(0.996264)\"/>\n      <use xlink:href=\"#CMSS17-6c\" transform=\"translate(400.213114 0) scale(0.996264)\"/>\n      <use xlink:href=\"#CMSS17-61\" transform=\"translate(422.393837 0) scale(0.996264)\"/>\n      <use xlink:href=\"#CMSS17-62\" transform=\"translate(467.315757 0) scale(0.996264)\"/>\n      <use xlink:href=\"#CMSS17-65\" transform=\"translate(518.123139 0) scale(0.996264)\"/>\n      <use xlink:href=\"#CMSS17-6c\" transform=\"translate(559.761961 0) scale(0.996264)\"/>\n     </g>\n    </g>\n   </g>\n   <g id=\"matplotlib.axis_2\">\n    <g id=\"ytick_1\">\n     <g id=\"line2d_6\">\n      <defs>\n       <path id=\"m7a9647b956\" d=\"M 0 0 \nL -3.5 0 \n\" style=\"stroke: #000000; stroke-width: 0.8\"/>\n      </defs>\n      <g>\n       <use xlink:href=\"#m7a9647b956\" x=\"87.644463\" y=\"54.737222\" style=\"stroke: #000000; stroke-width: 0.8\"/>\n      </g>\n     </g>\n     <g id=\"text_7\">\n      <!-- T-shirt/top -->\n      <g transform=\"translate(25.369064 59.22041) scale(0.12 -0.12)\">\n       <use xlink:href=\"#CMSS17-54\" transform=\"scale(0.996264)\"/>\n       <use xlink:href=\"#CMSS17-2d\" transform=\"translate(63.819454 0) scale(0.996264)\"/>\n       <use xlink:href=\"#CMSS17-73\" transform=\"translate(95.048567 0) scale(0.996264)\"/>\n       <use xlink:href=\"#CMSS17-68\" transform=\"translate(130.962109 0) scale(0.996264)\"/>\n       <use xlink:href=\"#CMSS17-69\" transform=\"translate(179.167052 0) scale(0.996264)\"/>\n       <use xlink:href=\"#CMSS17-72\" transform=\"translate(201.347775 0) scale(0.996264)\"/>\n       <use xlink:href=\"#CMSS17-74\" transform=\"translate(233.257547 0) scale(0.996264)\"/>\n       <use xlink:href=\"#CMSS17-2f\" transform=\"translate(267.089114 0) scale(0.996264)\"/>\n       <use xlink:href=\"#CMSS17-74\" transform=\"translate(313.932738 0) scale(0.996264)\"/>\n       <use xlink:href=\"#CMSS17-6f\" transform=\"translate(347.764304 0) scale(0.996264)\"/>\n       <use xlink:href=\"#CMSS17-70\" transform=\"translate(394.607928 0) scale(0.996264)\"/>\n      </g>\n     </g>\n    </g>\n    <g id=\"ytick_2\">\n     <g id=\"line2d_7\">\n      <g>\n       <use xlink:href=\"#m7a9647b956\" x=\"87.644463\" y=\"107.959622\" style=\"stroke: #000000; stroke-width: 0.8\"/>\n      </g>\n     </g>\n     <g id=\"text_8\">\n      <!-- Trouser -->\n      <g transform=\"translate(44.131804 112.110712) scale(0.12 -0.12)\">\n       <use xlink:href=\"#CMSS17-54\" transform=\"scale(0.996264)\"/>\n       <use xlink:href=\"#CMSS17-72\" transform=\"translate(56.012199 0) scale(0.996264)\"/>\n       <use xlink:href=\"#CMSS17-6f\" transform=\"translate(87.921971 0) scale(0.996264)\"/>\n       <use xlink:href=\"#CMSS17-75\" transform=\"translate(134.765595 0) scale(0.996264)\"/>\n       <use xlink:href=\"#CMSS17-73\" transform=\"translate(182.970538 0) scale(0.996264)\"/>\n       <use xlink:href=\"#CMSS17-65\" transform=\"translate(218.88408 0) scale(0.996264)\"/>\n       <use xlink:href=\"#CMSS17-72\" transform=\"translate(260.522902 0) scale(0.996264)\"/>\n      </g>\n     </g>\n    </g>\n    <g id=\"ytick_3\">\n     <g id=\"line2d_8\">\n      <g>\n       <use xlink:href=\"#m7a9647b956\" x=\"87.644463\" y=\"161.182022\" style=\"stroke: #000000; stroke-width: 0.8\"/>\n      </g>\n     </g>\n     <g id=\"text_9\">\n      <!-- Pullover -->\n      <g transform=\"translate(41.299468 165.333112) scale(0.12 -0.12)\">\n       <use xlink:href=\"#CMSS17-50\" transform=\"scale(0.996264)\"/>\n       <use xlink:href=\"#CMSS17-75\" transform=\"translate(59.735586 0) scale(0.996264)\"/>\n       <use xlink:href=\"#CMSS17-6c\" transform=\"translate(107.940529 0) scale(0.996264)\"/>\n       <use xlink:href=\"#CMSS17-6c\" transform=\"translate(130.121252 0) scale(0.996264)\"/>\n       <use xlink:href=\"#CMSS17-6f\" transform=\"translate(152.301976 0) scale(0.996264)\"/>\n       <use xlink:href=\"#CMSS17-76\" transform=\"translate(199.145599 0) scale(0.996264)\"/>\n       <use xlink:href=\"#CMSS17-65\" transform=\"translate(242.145741 0) scale(0.996264)\"/>\n       <use xlink:href=\"#CMSS17-72\" transform=\"translate(283.784563 0) scale(0.996264)\"/>\n      </g>\n     </g>\n    </g>\n    <g id=\"ytick_4\">\n     <g id=\"line2d_9\">\n      <g>\n       <use xlink:href=\"#m7a9647b956\" x=\"87.644463\" y=\"214.404422\" style=\"stroke: #000000; stroke-width: 0.8\"/>\n      </g>\n     </g>\n     <g id=\"text_10\">\n      <!-- Dress -->\n      <g transform=\"translate(54.069422 218.555512) scale(0.12 -0.12)\">\n       <use xlink:href=\"#CMSS17-44\" transform=\"scale(0.996264)\"/>\n       <use xlink:href=\"#CMSS17-72\" transform=\"translate(67.542842 0) scale(0.996264)\"/>\n       <use xlink:href=\"#CMSS17-65\" transform=\"translate(99.452614 0) scale(0.996264)\"/>\n       <use xlink:href=\"#CMSS17-73\" transform=\"translate(141.091436 0) scale(0.996264)\"/>\n       <use xlink:href=\"#CMSS17-73\" transform=\"translate(177.004978 0) scale(0.996264)\"/>\n      </g>\n     </g>\n    </g>\n    <g id=\"ytick_5\">\n     <g id=\"line2d_10\">\n      <g>\n       <use xlink:href=\"#m7a9647b956\" x=\"87.644463\" y=\"267.626822\" style=\"stroke: #000000; stroke-width: 0.8\"/>\n      </g>\n     </g>\n     <g id=\"text_11\">\n      <!-- Shirt -->\n      <g transform=\"translate(57.177198 271.777912) scale(0.12 -0.12)\">\n       <use xlink:href=\"#CMSS17-53\" transform=\"scale(0.996264)\"/>\n       <use xlink:href=\"#CMSS17-68\" transform=\"translate(52.048516 0) scale(0.996264)\"/>\n       <use xlink:href=\"#CMSS17-69\" transform=\"translate(100.253459 0) scale(0.996264)\"/>\n       <use xlink:href=\"#CMSS17-72\" transform=\"translate(122.434182 0) scale(0.996264)\"/>\n       <use xlink:href=\"#CMSS17-74\" transform=\"translate(154.343955 0) scale(0.996264)\"/>\n      </g>\n     </g>\n    </g>\n    <g id=\"text_12\">\n     <!-- True label -->\n     <g transform=\"translate(18.269588 193.675543) rotate(-90) scale(0.16 -0.16)\">\n      <use xlink:href=\"#CMSS17-54\" transform=\"scale(0.996264)\"/>\n      <use xlink:href=\"#CMSS17-72\" transform=\"translate(56.012199 0) scale(0.996264)\"/>\n      <use xlink:href=\"#CMSS17-75\" transform=\"translate(87.921971 0) scale(0.996264)\"/>\n      <use xlink:href=\"#CMSS17-65\" transform=\"translate(136.126914 0) scale(0.996264)\"/>\n      <use xlink:href=\"#CMSS17-6c\" transform=\"translate(208.994849 0) scale(0.996264)\"/>\n      <use xlink:href=\"#CMSS17-61\" transform=\"translate(231.175572 0) scale(0.996264)\"/>\n      <use xlink:href=\"#CMSS17-62\" transform=\"translate(276.097493 0) scale(0.996264)\"/>\n      <use xlink:href=\"#CMSS17-65\" transform=\"translate(326.904875 0) scale(0.996264)\"/>\n      <use xlink:href=\"#CMSS17-6c\" transform=\"translate(368.543697 0) scale(0.996264)\"/>\n     </g>\n    </g>\n   </g>\n   <g id=\"patch_3\">\n    <path d=\"M 87.644463 294.238022 \nL 87.644463 28.126022 \n\" style=\"fill: none; stroke: #000000; stroke-width: 0.8; stroke-linejoin: miter; stroke-linecap: square\"/>\n   </g>\n   <g id=\"patch_4\">\n    <path d=\"M 353.756463 294.238022 \nL 353.756463 28.126022 \n\" style=\"fill: none; stroke: #000000; stroke-width: 0.8; stroke-linejoin: miter; stroke-linecap: square\"/>\n   </g>\n   <g id=\"patch_5\">\n    <path d=\"M 87.644463 294.238022 \nL 353.756463 294.238022 \n\" style=\"fill: none; stroke: #000000; stroke-width: 0.8; stroke-linejoin: miter; stroke-linecap: square\"/>\n   </g>\n   <g id=\"patch_6\">\n    <path d=\"M 87.644463 28.126022 \nL 353.756463 28.126022 \n\" style=\"fill: none; stroke: #000000; stroke-width: 0.8; stroke-linejoin: miter; stroke-linecap: square\"/>\n   </g>\n   <g id=\"text_13\">\n    <!-- 743 -->\n    <g style=\"fill: #f7fbff\" transform=\"translate(106.78366 57.227882) scale(0.1 -0.1)\">\n     <defs>\n      <path id=\"CMSS17-37\" d=\"M 1389 3776 \nC 1466 3776 1542 3776 1619 3776 \nL 2355 3776 \nC 1440 2711 915 1365 915 -32 \nL 1427 -32 \nC 1427 1323 1875 2696 2752 3795 \nL 2752 4209 \nL 250 4209 \nL 250 3776 \nL 1389 3776 \nz\n\" transform=\"scale(0.015625)\"/>\n      <path id=\"CMSS17-34\" d=\"M 2253 1088 \nL 2835 1088 \nL 2835 1477 \nL 2253 1477 \nL 2253 4192 \nL 1690 4192 \nL 166 1477 \nL 166 1088 \nL 1747 1088 \nL 1747 0 \nL 2253 0 \nL 2253 1088 \nz\nM 659 1477 \nC 1030 2127 1766 3439 1766 3885 \nL 1766 1477 \nL 659 1477 \nz\n\" transform=\"scale(0.015625)\"/>\n      <path id=\"CMSS17-33\" d=\"M 1005 2025 \nL 1440 2025 \nC 2042 2025 2214 1507 2214 1146 \nC 2214 653 1933 267 1472 267 \nC 1114 267 608 444 320 912 \nC 275 691 275 678 250 526 \nC 550 88 1037 -128 1485 -128 \nC 2214 -128 2752 473 2752 1138 \nC 2752 1638 2400 2057 1920 2215 \nC 2304 2424 2586 2816 2586 3273 \nC 2586 3805 2093 4229 1491 4229 \nC 941 4229 512 3892 333 3530 \nC 378 3468 493 3284 550 3189 \nC 691 3562 1056 3840 1485 3840 \nC 1843 3840 2080 3607 2080 3271 \nC 2080 2923 1856 2543 1478 2455 \nC 1453 2455 1056 2417 1005 2411 \nL 1005 2025 \nz\n\" transform=\"scale(0.015625)\"/>\n     </defs>\n     <use xlink:href=\"#CMSS17-37\" transform=\"scale(0.996264)\"/>\n     <use xlink:href=\"#CMSS17-34\" transform=\"translate(46.843624 0) scale(0.996264)\"/>\n     <use xlink:href=\"#CMSS17-33\" transform=\"translate(93.687247 0) scale(0.996264)\"/>\n    </g>\n   </g>\n   <g id=\"text_14\">\n    <!-- 5 -->\n    <g style=\"fill: #08306b\" transform=\"translate(164.987395 57.227882) scale(0.1 -0.1)\">\n     <defs>\n      <path id=\"CMSS17-35\" d=\"M 934 3752 \nL 2502 3752 \nL 2502 4160 \nL 467 4160 \nL 467 1781 \nL 896 1781 \nC 1011 2046 1248 2240 1555 2240 \nC 1843 2240 2163 1989 2163 1266 \nC 2163 493 1709 267 1376 267 \nC 966 267 589 512 422 851 \nL 218 499 \nC 512 49 992 -128 1376 -128 \nC 2118 -128 2701 497 2701 1253 \nC 2701 2030 2182 2629 1562 2629 \nC 1338 2629 1120 2553 934 2399 \nL 934 3752 \nz\n\" transform=\"scale(0.015625)\"/>\n     </defs>\n     <use xlink:href=\"#CMSS17-35\" transform=\"scale(0.996264)\"/>\n    </g>\n   </g>\n   <g id=\"text_15\">\n    <!-- 36 -->\n    <g style=\"fill: #08306b\" transform=\"translate(215.719128 57.227882) scale(0.1 -0.1)\">\n     <defs>\n      <path id=\"CMSS17-36\" d=\"M 2496 4101 \nC 2227 4210 2035 4229 1856 4229 \nC 1024 4229 250 3368 250 2006 \nC 250 265 986 -128 1510 -128 \nC 1798 -128 2086 -39 2362 280 \nC 2643 617 2752 898 2752 1389 \nC 2752 2179 2362 2880 1779 2880 \nC 1357 2880 992 2657 768 2376 \nC 832 3258 1254 3840 1862 3840 \nC 2029 3840 2246 3816 2496 3710 \nL 2496 4101 \nz\nM 774 1369 \nC 774 1420 774 1452 781 1548 \nC 781 2045 1069 2491 1536 2491 \nC 1837 2491 1990 2332 2106 2135 \nC 2240 1886 2246 1650 2246 1388 \nC 2246 1140 2246 891 2099 637 \nC 1978 439 1818 267 1510 267 \nC 902 267 800 1114 774 1369 \nz\n\" transform=\"scale(0.015625)\"/>\n     </defs>\n     <use xlink:href=\"#CMSS17-33\" transform=\"scale(0.996264)\"/>\n     <use xlink:href=\"#CMSS17-36\" transform=\"translate(46.843624 0) scale(0.996264)\"/>\n    </g>\n   </g>\n   <g id=\"text_16\">\n    <!-- 87 -->\n    <g style=\"fill: #08306b\" transform=\"translate(268.941528 57.227882) scale(0.1 -0.1)\">\n     <defs>\n      <path id=\"CMSS17-38\" d=\"M 1933 2222 \nC 2419 2380 2669 2760 2669 3134 \nC 2669 3722 2157 4229 1504 4229 \nC 826 4229 333 3708 333 3144 \nC 333 2780 576 2403 1069 2241 \nC 442 1997 250 1512 250 1149 \nC 250 446 819 -128 1498 -128 \nC 2202 -128 2752 455 2752 1138 \nC 2752 1557 2502 2000 1933 2222 \nz\nM 1504 2432 \nC 1075 2432 787 2712 787 3136 \nC 787 3566 1075 3840 1504 3840 \nC 1901 3840 2214 3591 2214 3136 \nC 2214 2687 1907 2432 1504 2432 \nz\nM 1504 267 \nC 1139 267 749 517 749 1156 \nC 749 1813 1184 2043 1498 2043 \nC 1843 2043 2253 1800 2253 1156 \nC 2253 491 1830 267 1504 267 \nz\n\" transform=\"scale(0.015625)\"/>\n     </defs>\n     <use xlink:href=\"#CMSS17-38\" transform=\"scale(0.996264)\"/>\n     <use xlink:href=\"#CMSS17-37\" transform=\"translate(46.843624 0) scale(0.996264)\"/>\n    </g>\n   </g>\n   <g id=\"text_17\">\n    <!-- 129 -->\n    <g style=\"fill: #08306b\" transform=\"translate(319.67326 57.227882) scale(0.1 -0.1)\">\n     <defs>\n      <path id=\"CMSS17-31\" d=\"M 1818 4288 \nL 1696 4288 \nC 1350 3940 947 3890 538 3890 \nL 538 3520 \nC 723 3520 1024 3520 1325 3667 \nL 1325 369 \nL 570 369 \nL 570 0 \nL 2573 0 \nL 2573 369 \nL 1818 369 \nL 1818 4288 \nz\n\" transform=\"scale(0.015625)\"/>\n      <path id=\"CMSS17-32\" d=\"M 1651 1357 \nC 1830 1541 2099 1764 2285 1987 \nC 2464 2204 2701 2511 2701 2957 \nC 2701 3657 2227 4288 1421 4288 \nC 787 4288 422 3893 250 3274 \nL 499 2929 \nC 640 3510 838 3880 1338 3880 \nC 1888 3880 2195 3433 2195 2942 \nC 2195 2355 1747 1901 1408 1563 \nC 1030 1187 659 804 301 408 \nL 301 0 \nL 2701 0 \nL 2701 433 \nL 1613 433 \nC 1536 433 1459 433 1382 433 \nL 742 433 \nL 742 439 \nL 1651 1357 \nz\n\" transform=\"scale(0.015625)\"/>\n      <path id=\"CMSS17-39\" d=\"M 435 174 \nC 614 21 845 -128 1235 -128 \nC 2010 -128 2752 721 2752 2095 \nC 2752 3932 1952 4229 1523 4229 \nC 1094 4229 819 4041 582 3741 \nC 301 3397 250 3090 250 2733 \nC 250 2307 326 2045 506 1745 \nC 749 1357 973 1275 1222 1275 \nC 1600 1275 1978 1459 2234 1776 \nC 2189 902 1798 267 1235 267 \nC 1005 267 819 339 634 516 \nL 435 174 \nz\nM 2214 2746 \nC 2221 2703 2221 2622 2221 2596 \nC 2221 2074 1914 1664 1466 1664 \nC 1171 1664 1018 1813 902 2006 \nC 762 2249 755 2485 755 2733 \nC 755 2976 755 3244 934 3511 \nC 1069 3703 1235 3840 1523 3840 \nC 2112 3840 2208 3000 2214 2746 \nz\n\" transform=\"scale(0.015625)\"/>\n     </defs>\n     <use xlink:href=\"#CMSS17-31\" transform=\"scale(0.996264)\"/>\n     <use xlink:href=\"#CMSS17-32\" transform=\"translate(46.843624 0) scale(0.996264)\"/>\n     <use xlink:href=\"#CMSS17-39\" transform=\"translate(93.687247 0) scale(0.996264)\"/>\n    </g>\n   </g>\n   <g id=\"text_18\">\n    <!-- 9 -->\n    <g style=\"fill: #08306b\" transform=\"translate(111.764995 110.450282) scale(0.1 -0.1)\">\n     <use xlink:href=\"#CMSS17-39\" transform=\"scale(0.996264)\"/>\n    </g>\n   </g>\n   <g id=\"text_19\">\n    <!-- 952 -->\n    <g style=\"fill: #f7fbff\" transform=\"translate(160.00606 110.450282) scale(0.1 -0.1)\">\n     <use xlink:href=\"#CMSS17-39\" transform=\"scale(0.996264)\"/>\n     <use xlink:href=\"#CMSS17-35\" transform=\"translate(46.843624 0) scale(0.996264)\"/>\n     <use xlink:href=\"#CMSS17-32\" transform=\"translate(93.687247 0) scale(0.996264)\"/>\n    </g>\n   </g>\n   <g id=\"text_20\">\n    <!-- 9 -->\n    <g style=\"fill: #08306b\" transform=\"translate(218.209795 110.450282) scale(0.1 -0.1)\">\n     <use xlink:href=\"#CMSS17-39\" transform=\"scale(0.996264)\"/>\n    </g>\n   </g>\n   <g id=\"text_21\">\n    <!-- 28 -->\n    <g style=\"fill: #08306b\" transform=\"translate(268.941528 110.450282) scale(0.1 -0.1)\">\n     <use xlink:href=\"#CMSS17-32\" transform=\"scale(0.996264)\"/>\n     <use xlink:href=\"#CMSS17-38\" transform=\"translate(46.843624 0) scale(0.996264)\"/>\n    </g>\n   </g>\n   <g id=\"text_22\">\n    <!-- 2 -->\n    <g style=\"fill: #08306b\" transform=\"translate(324.654595 110.450282) scale(0.1 -0.1)\">\n     <use xlink:href=\"#CMSS17-32\" transform=\"scale(0.996264)\"/>\n    </g>\n   </g>\n   <g id=\"text_23\">\n    <!-- 40 -->\n    <g style=\"fill: #08306b\" transform=\"translate(109.274328 163.672682) scale(0.1 -0.1)\">\n     <defs>\n      <path id=\"CMSS17-30\" d=\"M 2758 2044 \nC 2758 2405 2752 3077 2490 3596 \nC 2227 4096 1805 4229 1504 4229 \nC 1069 4229 698 3975 506 3570 \nC 301 3146 243 2709 243 2044 \nC 243 1589 262 1031 493 543 \nC 755 5 1197 -128 1498 -128 \nC 1894 -128 2278 81 2496 518 \nC 2720 974 2758 1474 2758 2044 \nz\nM 1498 261 \nC 1011 261 864 811 819 995 \nC 742 1310 730 1614 730 2114 \nC 730 2506 730 2948 851 3297 \nC 998 3701 1254 3840 1498 3840 \nC 1971 3840 2125 3372 2176 3208 \nC 2272 2873 2272 2481 2272 2114 \nC 2272 1526 2272 261 1498 261 \nz\n\" transform=\"scale(0.015625)\"/>\n     </defs>\n     <use xlink:href=\"#CMSS17-34\" transform=\"scale(0.996264)\"/>\n     <use xlink:href=\"#CMSS17-30\" transform=\"translate(46.843624 0) scale(0.996264)\"/>\n    </g>\n   </g>\n   <g id=\"text_24\">\n    <!-- 1 -->\n    <g style=\"fill: #08306b\" transform=\"translate(164.987395 163.672682) scale(0.1 -0.1)\">\n     <use xlink:href=\"#CMSS17-31\" transform=\"scale(0.996264)\"/>\n    </g>\n   </g>\n   <g id=\"text_25\">\n    <!-- 764 -->\n    <g style=\"fill: #f7fbff\" transform=\"translate(213.22846 163.672682) scale(0.1 -0.1)\">\n     <use xlink:href=\"#CMSS17-37\" transform=\"scale(0.996264)\"/>\n     <use xlink:href=\"#CMSS17-36\" transform=\"translate(46.843624 0) scale(0.996264)\"/>\n     <use xlink:href=\"#CMSS17-34\" transform=\"translate(93.687247 0) scale(0.996264)\"/>\n    </g>\n   </g>\n   <g id=\"text_26\">\n    <!-- 15 -->\n    <g style=\"fill: #08306b\" transform=\"translate(268.941528 163.672682) scale(0.1 -0.1)\">\n     <use xlink:href=\"#CMSS17-31\" transform=\"scale(0.996264)\"/>\n     <use xlink:href=\"#CMSS17-35\" transform=\"translate(46.843624 0) scale(0.996264)\"/>\n    </g>\n   </g>\n   <g id=\"text_27\">\n    <!-- 180 -->\n    <g style=\"fill: #08306b\" transform=\"translate(319.67326 163.672682) scale(0.1 -0.1)\">\n     <use xlink:href=\"#CMSS17-31\" transform=\"scale(0.996264)\"/>\n     <use xlink:href=\"#CMSS17-38\" transform=\"translate(46.843624 0) scale(0.996264)\"/>\n     <use xlink:href=\"#CMSS17-30\" transform=\"translate(93.687247 0) scale(0.996264)\"/>\n    </g>\n   </g>\n   <g id=\"text_28\">\n    <!-- 173 -->\n    <g style=\"fill: #08306b\" transform=\"translate(106.78366 216.895082) scale(0.1 -0.1)\">\n     <use xlink:href=\"#CMSS17-31\" transform=\"scale(0.996264)\"/>\n     <use xlink:href=\"#CMSS17-37\" transform=\"translate(46.843624 0) scale(0.996264)\"/>\n     <use xlink:href=\"#CMSS17-33\" transform=\"translate(93.687247 0) scale(0.996264)\"/>\n    </g>\n   </g>\n   <g id=\"text_29\">\n    <!-- 8 -->\n    <g style=\"fill: #08306b\" transform=\"translate(164.987395 216.895082) scale(0.1 -0.1)\">\n     <use xlink:href=\"#CMSS17-38\" transform=\"scale(0.996264)\"/>\n    </g>\n   </g>\n   <g id=\"text_30\">\n    <!-- 12 -->\n    <g style=\"fill: #08306b\" transform=\"translate(215.719128 216.895082) scale(0.1 -0.1)\">\n     <use xlink:href=\"#CMSS17-31\" transform=\"scale(0.996264)\"/>\n     <use xlink:href=\"#CMSS17-32\" transform=\"translate(46.843624 0) scale(0.996264)\"/>\n    </g>\n   </g>\n   <g id=\"text_31\">\n    <!-- 791 -->\n    <g style=\"fill: #f7fbff\" transform=\"translate(266.45086 216.895082) scale(0.1 -0.1)\">\n     <use xlink:href=\"#CMSS17-37\" transform=\"scale(0.996264)\"/>\n     <use xlink:href=\"#CMSS17-39\" transform=\"translate(46.843624 0) scale(0.996264)\"/>\n     <use xlink:href=\"#CMSS17-31\" transform=\"translate(93.687247 0) scale(0.996264)\"/>\n    </g>\n   </g>\n   <g id=\"text_32\">\n    <!-- 16 -->\n    <g style=\"fill: #08306b\" transform=\"translate(322.163928 216.895082) scale(0.1 -0.1)\">\n     <use xlink:href=\"#CMSS17-31\" transform=\"scale(0.996264)\"/>\n     <use xlink:href=\"#CMSS17-36\" transform=\"translate(46.843624 0) scale(0.996264)\"/>\n    </g>\n   </g>\n   <g id=\"text_33\">\n    <!-- 294 -->\n    <g style=\"fill: #08306b\" transform=\"translate(106.78366 270.117482) scale(0.1 -0.1)\">\n     <use xlink:href=\"#CMSS17-32\" transform=\"scale(0.996264)\"/>\n     <use xlink:href=\"#CMSS17-39\" transform=\"translate(46.843624 0) scale(0.996264)\"/>\n     <use xlink:href=\"#CMSS17-34\" transform=\"translate(93.687247 0) scale(0.996264)\"/>\n    </g>\n   </g>\n   <g id=\"text_34\">\n    <!-- 6 -->\n    <g style=\"fill: #08306b\" transform=\"translate(164.987395 270.117482) scale(0.1 -0.1)\">\n     <use xlink:href=\"#CMSS17-36\" transform=\"scale(0.996264)\"/>\n    </g>\n   </g>\n   <g id=\"text_35\">\n    <!-- 244 -->\n    <g style=\"fill: #08306b\" transform=\"translate(213.22846 270.117482) scale(0.1 -0.1)\">\n     <use xlink:href=\"#CMSS17-32\" transform=\"scale(0.996264)\"/>\n     <use xlink:href=\"#CMSS17-34\" transform=\"translate(46.843624 0) scale(0.996264)\"/>\n     <use xlink:href=\"#CMSS17-34\" transform=\"translate(93.687247 0) scale(0.996264)\"/>\n    </g>\n   </g>\n   <g id=\"text_36\">\n    <!-- 57 -->\n    <g style=\"fill: #08306b\" transform=\"translate(268.941528 270.117482) scale(0.1 -0.1)\">\n     <use xlink:href=\"#CMSS17-35\" transform=\"scale(0.996264)\"/>\n     <use xlink:href=\"#CMSS17-37\" transform=\"translate(46.843624 0) scale(0.996264)\"/>\n    </g>\n   </g>\n   <g id=\"text_37\">\n    <!-- 399 -->\n    <g style=\"fill: #08306b\" transform=\"translate(319.67326 270.117482) scale(0.1 -0.1)\">\n     <use xlink:href=\"#CMSS17-33\" transform=\"scale(0.996264)\"/>\n     <use xlink:href=\"#CMSS17-39\" transform=\"translate(46.843624 0) scale(0.996264)\"/>\n     <use xlink:href=\"#CMSS17-39\" transform=\"translate(93.687247 0) scale(0.996264)\"/>\n    </g>\n   </g>\n   <g id=\"text_38\">\n    <!-- Confusion matrix for the SVM classifier (test set) -->\n    <g transform=\"translate(27.316233 22.126022) scale(0.2 -0.2)\">\n     <defs>\n      <path id=\"CMSS17-43\" d=\"M 3501 714 \nC 3072 427 2874 344 2355 344 \nC 1459 344 934 1303 934 2179 \nC 934 3112 1472 4032 2381 4032 \nC 2790 4032 3059 3918 3386 3715 \nL 3475 4217 \nC 3168 4370 2778 4440 2387 4440 \nC 1158 4440 397 3316 397 2179 \nC 397 927 1299 -64 2323 -64 \nC 2874 -64 3066 -19 3539 280 \nL 3501 714 \nz\n\" transform=\"scale(0.015625)\"/>\n      <path id=\"CMSS17-6e\" d=\"M 2618 1877 \nC 2618 2283 2522 2816 1798 2816 \nC 1389 2816 1120 2606 941 2389 \nL 941 2758 \nL 474 2758 \nL 474 0 \nL 960 0 \nL 960 1559 \nC 960 1964 1114 2428 1549 2428 \nC 2112 2428 2131 2048 2131 1829 \nL 2131 0 \nL 2618 0 \nL 2618 1877 \nz\n\" transform=\"scale(0.015625)\"/>\n      <path id=\"CMSS17-66\" d=\"M 1075 2368 \nL 1722 2368 \nL 1722 2737 \nL 1062 2737 \nL 1062 3559 \nC 1062 4014 1408 4092 1606 4092 \nC 1670 4092 1850 4092 2080 4009 \nL 2080 4429 \nC 1933 4461 1754 4480 1613 4480 \nC 1018 4480 602 3993 602 3359 \nL 602 2737 \nL 160 2737 \nL 160 2368 \nL 602 2368 \nL 602 0 \nL 1075 0 \nL 1075 2368 \nz\n\" transform=\"scale(0.015625)\"/>\n      <path id=\"CMSS17-6d\" d=\"M 4288 1877 \nC 4288 2308 4179 2816 3462 2816 \nC 2982 2816 2694 2516 2566 2331 \nC 2451 2670 2182 2816 1798 2816 \nC 1363 2816 1088 2568 941 2389 \nL 941 2758 \nL 474 2758 \nL 474 0 \nL 960 0 \nL 960 1559 \nC 960 1939 1101 2428 1555 2428 \nC 2138 2428 2138 2016 2138 1829 \nL 2138 0 \nL 2624 0 \nL 2624 1559 \nC 2624 1939 2765 2428 3219 2428 \nC 3802 2428 3802 2016 3802 1829 \nL 3802 0 \nL 4288 0 \nL 4288 1877 \nz\n\" transform=\"scale(0.015625)\"/>\n      <path id=\"CMSS17-78\" d=\"M 1587 1414 \nL 2656 2739 \nL 2099 2739 \nL 1363 1777 \nL 602 2739 \nL 32 2739 \nL 1139 1414 \nL 0 0 \nL 563 0 \nL 1363 1121 \nL 2195 0 \nL 2758 0 \nL 1587 1414 \nz\n\" transform=\"scale(0.015625)\"/>\n      <path id=\"CMSS17-56\" d=\"M 3910 4416 \nL 3411 4416 \nL 2304 1362 \nC 2272 1273 2074 688 2035 484 \nL 2029 484 \nC 1978 726 1773 1292 1664 1604 \nL 922 3672 \nL 646 4416 \nL 83 4416 \nL 1715 0 \nL 2278 0 \nL 3910 4416 \nz\n\" transform=\"scale(0.015625)\"/>\n      <path id=\"CMSS17-4d\" d=\"M 3194 2371 \nL 2886 1473 \nC 2835 1307 2662 791 2624 587 \nL 2618 587 \nC 2598 715 2560 849 2458 1174 \nC 2400 1365 2336 1562 2272 1741 \nL 1325 4416 \nL 576 4416 \nL 576 0 \nL 1075 0 \nL 1075 3900 \nL 1082 3900 \nC 1082 3894 1139 3613 1530 2499 \nL 2374 96 \nL 2848 96 \nL 3610 2231 \nC 3661 2378 3821 2843 3891 3066 \nC 3955 3257 4115 3728 4154 3913 \nL 4160 3913 \nL 4160 0 \nL 4666 0 \nL 4666 4416 \nL 3923 4416 \nL 3194 2371 \nz\n\" transform=\"scale(0.015625)\"/>\n      <path id=\"CMSS17-c\" d=\"M 2752 4416 \nL 2240 4416 \nL 2240 3906 \nL 2752 3906 \nL 2752 4416 \nz\nM 2733 2737 \nL 2259 2737 \nL 2259 0 \nL 2733 0 \nL 2733 2737 \nz\nM 1075 2368 \nL 1773 2368 \nL 1773 2737 \nL 1062 2737 \nL 1062 3578 \nC 1062 3919 1216 4092 1421 4092 \nC 1542 4092 1664 4056 1773 3992 \nL 1773 4410 \nC 1722 4428 1574 4480 1421 4480 \nC 941 4480 602 3993 602 3372 \nL 602 2737 \nL 160 2737 \nL 160 2368 \nL 602 2368 \nL 602 0 \nL 1075 0 \nL 1075 2368 \nz\n\" transform=\"scale(0.015625)\"/>\n      <path id=\"CMSS17-28\" d=\"M 1613 4768 \nC 1267 4417 474 3601 474 1588 \nC 474 -433 1267 -1243 1613 -1600 \nL 2003 -1600 \nC 1216 -784 960 357 960 1581 \nC 960 2798 1203 3946 2003 4768 \nL 1613 4768 \nz\n\" transform=\"scale(0.015625)\"/>\n      <path id=\"CMSS17-29\" d=\"M 723 -1600 \nC 1069 -1249 1862 -433 1862 1581 \nC 1862 3601 1069 4411 723 4768 \nL 333 4768 \nC 1120 3952 1376 2811 1376 1588 \nC 1376 370 1133 -778 333 -1600 \nL 723 -1600 \nz\n\" transform=\"scale(0.015625)\"/>\n     </defs>\n     <use xlink:href=\"#CMSS17-43\" transform=\"scale(0.996264)\"/>\n     <use xlink:href=\"#CMSS17-6f\" transform=\"translate(59.855772 0) scale(0.996264)\"/>\n     <use xlink:href=\"#CMSS17-6e\" transform=\"translate(106.699395 0) scale(0.996264)\"/>\n     <use xlink:href=\"#CMSS17-66\" transform=\"translate(154.904338 0) scale(0.996264)\"/>\n     <use xlink:href=\"#CMSS17-75\" transform=\"translate(183.530997 0) scale(0.996264)\"/>\n     <use xlink:href=\"#CMSS17-73\" transform=\"translate(231.73594 0) scale(0.996264)\"/>\n     <use xlink:href=\"#CMSS17-69\" transform=\"translate(267.649482 0) scale(0.996264)\"/>\n     <use xlink:href=\"#CMSS17-6f\" transform=\"translate(289.830205 0) scale(0.996264)\"/>\n     <use xlink:href=\"#CMSS17-6e\" transform=\"translate(336.673829 0) scale(0.996264)\"/>\n     <use xlink:href=\"#CMSS17-6d\" transform=\"translate(416.107885 0) scale(0.996264)\"/>\n     <use xlink:href=\"#CMSS17-61\" transform=\"translate(490.337139 0) scale(0.996264)\"/>\n     <use xlink:href=\"#CMSS17-74\" transform=\"translate(535.25906 0) scale(0.996264)\"/>\n     <use xlink:href=\"#CMSS17-72\" transform=\"translate(569.090626 0) scale(0.996264)\"/>\n     <use xlink:href=\"#CMSS17-69\" transform=\"translate(601.000399 0) scale(0.996264)\"/>\n     <use xlink:href=\"#CMSS17-78\" transform=\"translate(623.181122 0) scale(0.996264)\"/>\n     <use xlink:href=\"#CMSS17-66\" transform=\"translate(697.410376 0) scale(0.996264)\"/>\n     <use xlink:href=\"#CMSS17-6f\" transform=\"translate(726.037035 0) scale(0.996264)\"/>\n     <use xlink:href=\"#CMSS17-72\" transform=\"translate(770.278205 0) scale(0.996264)\"/>\n     <use xlink:href=\"#CMSS17-74\" transform=\"translate(833.41709 0) scale(0.996264)\"/>\n     <use xlink:href=\"#CMSS17-68\" transform=\"translate(867.248657 0) scale(0.996264)\"/>\n     <use xlink:href=\"#CMSS17-65\" transform=\"translate(915.4536 0) scale(0.996264)\"/>\n     <use xlink:href=\"#CMSS17-53\" transform=\"translate(988.321535 0) scale(0.996264)\"/>\n     <use xlink:href=\"#CMSS17-56\" transform=\"translate(1040.370051 0) scale(0.996264)\"/>\n     <use xlink:href=\"#CMSS17-4d\" transform=\"translate(1102.587906 0) scale(0.996264)\"/>\n     <use xlink:href=\"#CMSS17-63\" transform=\"translate(1215.493049 0) scale(0.996264)\"/>\n     <use xlink:href=\"#CMSS17-6c\" transform=\"translate(1257.131871 0) scale(0.996264)\"/>\n     <use xlink:href=\"#CMSS17-61\" transform=\"translate(1279.312594 0) scale(0.996264)\"/>\n     <use xlink:href=\"#CMSS17-73\" transform=\"translate(1324.234514 0) scale(0.996264)\"/>\n     <use xlink:href=\"#CMSS17-73\" transform=\"translate(1360.148056 0) scale(0.996264)\"/>\n     <use xlink:href=\"#CMSS17-69\" transform=\"translate(1396.061598 0) scale(0.996264)\"/>\n     <use xlink:href=\"#CMSS17-c\" transform=\"translate(1418.242321 0) scale(0.996264)\"/>\n     <use xlink:href=\"#CMSS17-65\" transform=\"translate(1468.369059 0) scale(0.996264)\"/>\n     <use xlink:href=\"#CMSS17-72\" transform=\"translate(1510.007881 0) scale(0.996264)\"/>\n     <use xlink:href=\"#CMSS17-28\" transform=\"translate(1573.146766 0) scale(0.996264)\"/>\n     <use xlink:href=\"#CMSS17-74\" transform=\"translate(1609.58068 0) scale(0.996264)\"/>\n     <use xlink:href=\"#CMSS17-65\" transform=\"translate(1643.412247 0) scale(0.996264)\"/>\n     <use xlink:href=\"#CMSS17-73\" transform=\"translate(1685.051069 0) scale(0.996264)\"/>\n     <use xlink:href=\"#CMSS17-74\" transform=\"translate(1720.964611 0) scale(0.996264)\"/>\n     <use xlink:href=\"#CMSS17-73\" transform=\"translate(1786.02529 0) scale(0.996264)\"/>\n     <use xlink:href=\"#CMSS17-65\" transform=\"translate(1821.938832 0) scale(0.996264)\"/>\n     <use xlink:href=\"#CMSS17-74\" transform=\"translate(1863.577654 0) scale(0.996264)\"/>\n     <use xlink:href=\"#CMSS17-29\" transform=\"translate(1897.409221 0) scale(0.996264)\"/>\n    </g>\n   </g>\n  </g>\n  <g id=\"axes_2\">\n   <g id=\"patch_7\">\n    <path d=\"M 371.612463 294.238022 \nL 384.918063 294.238022 \nL 384.918063 28.126022 \nL 371.612463 28.126022 \nz\n\" style=\"fill: #ffffff\"/>\n   </g>\n   <image xlink:href=\"data:image/png;base64,\niVBORw0KGgoAAAANSUhEUgAAABMAAAFxCAYAAACRG5MpAAAByElEQVR4nO2c223EMBADlcD9t5uPAL6rgcJ8DECyAMIjrnYl3+Pn7//zOZAezuqc53M4t1/M6ZzzgA92HtALxlyaudnSvDADnwxdM28A8JNVpInuTbRrlKQpbo7wDLCOupI0UcyzNHOzjuZongGkmRhzacZmHaNut7oLs6WZqiTNNcdcG3W5luaF2ZrjhdlGXaqlmcub5vOCCWwG5GJnwNuBuTRzM29zZGeAtjTe7YDcTIupTVN92CObI2alxlyauRn5ZOZRx3nRzXE7IDYz9zPQjC0N7/EALQ0tJlsaHTcUb5ravSleM3YGaDFLXkWwmOI0pUXbsmZiTNSs4yLmbdva6VSzZpiVGlPczzowtWmaZwBqpsWEz2dWTPhTRCumNk3xe9rNgBszzGtpXkh8dPe+vtkMyM28mC3HUGuaLc2xBnM7IFQJZs8OwLyGeaFhXplhXu7mKF2zYeZ6XvCKIsbUpqne6KiZFxMsDfEPtVtuKFLMlUYuMebSjFWCudLIJcZcmrFKMFcauYaZC/5PEi0mvDdRM+7boXRpDDM382JyT4auWQmmujSGmZsNMxSMSX64AHcN7ZqVlMYwL8ykc7PkeDDMXCjmF0ciG57DgRFAAAAAAElFTkSuQmCC\" id=\"imagea7cddbc95a\" transform=\"scale(1 -1) translate(0 -265.68)\" x=\"371.52\" y=\"-28.08\" width=\"13.68\" height=\"265.68\"/>\n   <g id=\"matplotlib.axis_3\"/>\n   <g id=\"matplotlib.axis_4\">\n    <g id=\"ytick_6\">\n     <g id=\"line2d_11\">\n      <defs>\n       <path id=\"m7037c5e795\" d=\"M 0 0 \nL 3.5 0 \n\" style=\"stroke: #000000; stroke-width: 0.8\"/>\n      </defs>\n      <g>\n       <use xlink:href=\"#m7037c5e795\" x=\"384.918063\" y=\"238.553177\" style=\"stroke: #000000; stroke-width: 0.8\"/>\n      </g>\n     </g>\n     <g id=\"text_39\">\n      <!-- $\\mathdefault{200}$ -->\n      <g transform=\"translate(391.918063 242.704267) scale(0.12 -0.12)\">\n       <defs>\n        <path id=\"CMR17-32\" d=\"M 2669 989 \nL 2554 989 \nC 2490 536 2438 459 2413 420 \nC 2381 369 1920 369 1830 369 \nL 602 369 \nC 832 619 1280 1072 1824 1597 \nC 2214 1967 2669 2402 2669 3035 \nC 2669 3790 2067 4224 1395 4224 \nC 691 4224 262 3604 262 3030 \nC 262 2780 448 2748 525 2748 \nC 589 2748 781 2787 781 3010 \nC 781 3207 614 3264 525 3264 \nC 486 3264 448 3258 422 3245 \nC 544 3790 915 4058 1306 4058 \nC 1862 4058 2227 3617 2227 3035 \nC 2227 2479 1901 2000 1536 1584 \nL 262 146 \nL 262 0 \nL 2515 0 \nL 2669 989 \nz\n\" transform=\"scale(0.015625)\"/>\n        <path id=\"CMR17-30\" d=\"M 2688 2025 \nC 2688 2416 2682 3080 2413 3591 \nC 2176 4039 1798 4198 1466 4198 \nC 1158 4198 768 4058 525 3597 \nC 269 3118 243 2524 243 2025 \nC 243 1661 250 1106 448 619 \nC 723 -39 1216 -128 1466 -128 \nC 1760 -128 2208 -7 2470 600 \nC 2662 1042 2688 1559 2688 2025 \nz\nM 1466 -26 \nC 1056 -26 813 325 723 812 \nC 653 1188 653 1738 653 2096 \nC 653 2588 653 2997 736 3387 \nC 858 3929 1216 4096 1466 4096 \nC 1728 4096 2067 3923 2189 3400 \nC 2272 3036 2278 2607 2278 2096 \nC 2278 1680 2278 1169 2202 792 \nC 2067 95 1690 -26 1466 -26 \nz\n\" transform=\"scale(0.015625)\"/>\n       </defs>\n       <use xlink:href=\"#CMR17-32\" transform=\"scale(0.996264)\"/>\n       <use xlink:href=\"#CMR17-30\" transform=\"translate(45.690477 0) scale(0.996264)\"/>\n       <use xlink:href=\"#CMR17-30\" transform=\"translate(91.380954 0) scale(0.996264)\"/>\n      </g>\n     </g>\n    </g>\n    <g id=\"ytick_7\">\n     <g id=\"line2d_12\">\n      <g>\n       <use xlink:href=\"#m7037c5e795\" x=\"384.918063\" y=\"182.588508\" style=\"stroke: #000000; stroke-width: 0.8\"/>\n      </g>\n     </g>\n     <g id=\"text_40\">\n      <!-- $\\mathdefault{400}$ -->\n      <g transform=\"translate(391.918063 186.739598) scale(0.12 -0.12)\">\n       <defs>\n        <path id=\"CMR17-34\" d=\"M 2150 4122 \nC 2150 4256 2144 4256 2029 4256 \nL 128 1254 \nL 128 1088 \nL 1779 1088 \nL 1779 457 \nC 1779 224 1766 160 1318 160 \nL 1197 160 \nL 1197 0 \nC 1402 0 1747 0 1965 0 \nC 2182 0 2528 0 2733 0 \nL 2733 160 \nL 2611 160 \nC 2163 160 2150 224 2150 457 \nL 2150 1088 \nL 2803 1088 \nL 2803 1254 \nL 2150 1254 \nL 2150 4122 \nz\nM 1798 3703 \nL 1798 1254 \nL 256 1254 \nL 1798 3703 \nz\n\" transform=\"scale(0.015625)\"/>\n       </defs>\n       <use xlink:href=\"#CMR17-34\" transform=\"scale(0.996264)\"/>\n       <use xlink:href=\"#CMR17-30\" transform=\"translate(45.690477 0) scale(0.996264)\"/>\n       <use xlink:href=\"#CMR17-30\" transform=\"translate(91.380954 0) scale(0.996264)\"/>\n      </g>\n     </g>\n    </g>\n    <g id=\"ytick_8\">\n     <g id=\"line2d_13\">\n      <g>\n       <use xlink:href=\"#m7037c5e795\" x=\"384.918063\" y=\"126.623839\" style=\"stroke: #000000; stroke-width: 0.8\"/>\n      </g>\n     </g>\n     <g id=\"text_41\">\n      <!-- $\\mathdefault{600}$ -->\n      <g transform=\"translate(391.918063 130.774929) scale(0.12 -0.12)\">\n       <defs>\n        <path id=\"CMR17-36\" d=\"M 678 2176 \nC 678 3690 1395 4032 1811 4032 \nC 1946 4032 2272 4009 2400 3776 \nC 2298 3776 2106 3776 2106 3553 \nC 2106 3381 2246 3323 2336 3323 \nC 2394 3323 2566 3348 2566 3560 \nC 2566 3954 2246 4179 1805 4179 \nC 1043 4179 243 3390 243 1984 \nC 243 253 966 -128 1478 -128 \nC 2099 -128 2688 427 2688 1283 \nC 2688 2081 2170 2662 1517 2662 \nC 1126 2662 838 2407 678 1960 \nL 678 2176 \nz\nM 1478 25 \nC 691 25 691 1200 691 1436 \nC 691 1896 909 2560 1504 2560 \nC 1613 2560 1926 2560 2138 2120 \nC 2253 1870 2253 1609 2253 1289 \nC 2253 944 2253 690 2118 434 \nC 1978 171 1773 25 1478 25 \nz\n\" transform=\"scale(0.015625)\"/>\n       </defs>\n       <use xlink:href=\"#CMR17-36\" transform=\"scale(0.996264)\"/>\n       <use xlink:href=\"#CMR17-30\" transform=\"translate(45.690477 0) scale(0.996264)\"/>\n       <use xlink:href=\"#CMR17-30\" transform=\"translate(91.380954 0) scale(0.996264)\"/>\n      </g>\n     </g>\n    </g>\n    <g id=\"ytick_9\">\n     <g id=\"line2d_14\">\n      <g>\n       <use xlink:href=\"#m7037c5e795\" x=\"384.918063\" y=\"70.65917\" style=\"stroke: #000000; stroke-width: 0.8\"/>\n      </g>\n     </g>\n     <g id=\"text_42\">\n      <!-- $\\mathdefault{800}$ -->\n      <g transform=\"translate(391.918063 74.81026) scale(0.12 -0.12)\">\n       <defs>\n        <path id=\"CMR17-38\" d=\"M 1741 2264 \nC 2144 2467 2554 2773 2554 3263 \nC 2554 3841 1990 4179 1472 4179 \nC 890 4179 378 3759 378 3180 \nC 378 3021 416 2747 666 2505 \nC 730 2442 998 2251 1171 2130 \nC 883 1983 211 1634 211 934 \nC 211 279 838 -128 1459 -128 \nC 2144 -128 2720 362 2720 1010 \nC 2720 1590 2330 1857 2074 2029 \nL 1741 2264 \nz\nM 902 2822 \nC 851 2854 595 3051 595 3351 \nC 595 3739 998 4032 1459 4032 \nC 1965 4032 2336 3676 2336 3262 \nC 2336 2669 1670 2331 1638 2331 \nC 1632 2331 1626 2331 1574 2370 \nL 902 2822 \nz\nM 2080 1519 \nC 2176 1449 2483 1240 2483 851 \nC 2483 381 2010 25 1472 25 \nC 890 25 448 438 448 940 \nC 448 1443 838 1862 1280 2060 \nL 2080 1519 \nz\n\" transform=\"scale(0.015625)\"/>\n       </defs>\n       <use xlink:href=\"#CMR17-38\" transform=\"scale(0.996264)\"/>\n       <use xlink:href=\"#CMR17-30\" transform=\"translate(45.690477 0) scale(0.996264)\"/>\n       <use xlink:href=\"#CMR17-30\" transform=\"translate(91.380954 0) scale(0.996264)\"/>\n      </g>\n     </g>\n    </g>\n   </g>\n   <g id=\"LineCollection_1\"/>\n   <g id=\"patch_8\">\n    <path d=\"M 371.612463 294.238022 \nL 378.265263 294.238022 \nL 384.918063 294.238022 \nL 384.918063 28.126022 \nL 378.265263 28.126022 \nL 371.612463 28.126022 \nL 371.612463 294.238022 \nz\n\" style=\"fill: none; stroke: #000000; stroke-width: 0.8; stroke-linejoin: miter; stroke-linecap: square\"/>\n   </g>\n  </g>\n </g>\n <defs>\n  <clipPath id=\"p090b31ee97\">\n   <rect x=\"87.644463\" y=\"28.126022\" width=\"266.112\" height=\"266.112\"/>\n  </clipPath>\n </defs>\n</svg>\n"
     },
     "metadata": {},
     "output_type": "display_data"
    }
   ],
   "source": [
    "# https://scikit-learn.org/stable/modules/generated/sklearn.metrics.ConfusionMatrixDisplay.html\n",
    "# confusion matrix for the test set \n",
    "\n",
    "from sklearn.metrics import confusion_matrix, ConfusionMatrixDisplay\n",
    "\n",
    "plt.figure(figsize=(20,20))\n",
    "cm = confusion_matrix(df['true label'], df['predicted'],labels=['T-shirt/top','Trouser', 'Pullover', 'Dress', 'Shirt'])\n",
    "disp = ConfusionMatrixDisplay(confusion_matrix=cm, display_labels=['T-shirt/top','Trouser', 'Pullover', 'Dress', 'Shirt'])\n",
    "disp.plot(cmap='Blues')\n",
    "plt.title('Confusion matrix for the SVM classifier (test set)')\n",
    "plt.savefig(\"confusion_svm.png\", dpi=300, bbox_inches='tight')\n",
    "plt.show()"
   ],
   "metadata": {
    "collapsed": false,
    "ExecuteTime": {
     "end_time": "2024-01-02T08:25:14.950795900Z",
     "start_time": "2024-01-02T08:25:13.209814400Z"
    }
   },
   "id": "bef6437197c72d46"
  },
  {
   "cell_type": "code",
   "execution_count": 45,
   "outputs": [
    {
     "data": {
      "text/plain": "(array([0.59015091, 0.97942387, 0.71737089, 0.80879346, 0.54958678]),\n array([0.743, 0.952, 0.764, 0.791, 0.399]),\n array([0.65781319, 0.96551724, 0.73995157, 0.79979778, 0.46234067]),\n array([1000, 1000, 1000, 1000, 1000], dtype=int64))"
     },
     "execution_count": 45,
     "metadata": {},
     "output_type": "execute_result"
    }
   ],
   "source": [
    "# https://scikit-learn.org/stable/modules/generated/sklearn.metrics.precision_recall_fscore_support.html\n",
    "from sklearn.metrics import precision_recall_fscore_support\n",
    "\n",
    "precision_recall_fscore_support(df['true label'], df['predicted'], labels=['T-shirt/top','Trouser', 'Pullover', 'Dress', 'Shirt'])"
   ],
   "metadata": {
    "collapsed": false,
    "ExecuteTime": {
     "end_time": "2024-01-02T08:25:16.199133200Z",
     "start_time": "2024-01-02T08:25:16.126574300Z"
    }
   },
   "id": "9e8a95d739e807bd"
  },
  {
   "cell_type": "code",
   "execution_count": 46,
   "outputs": [],
   "source": [
    "# make prediction on the train set\n",
    "grid_predictions_train = grid.predict(X_train)\n"
   ],
   "metadata": {
    "collapsed": false,
    "ExecuteTime": {
     "end_time": "2024-01-02T08:25:26.310298100Z",
     "start_time": "2024-01-02T08:25:16.757155400Z"
    }
   },
   "id": "1fc792e00947871d"
  },
  {
   "cell_type": "code",
   "execution_count": 47,
   "outputs": [],
   "source": [
    "# save the predictions and true labels of train labels\n",
    "df_train = pd.DataFrame({'true label': Y_train, 'predicted': grid_predictions_train})"
   ],
   "metadata": {
    "collapsed": false,
    "ExecuteTime": {
     "end_time": "2024-01-02T08:25:26.399940500Z",
     "start_time": "2024-01-02T08:25:26.313312500Z"
    }
   },
   "id": "b655d4f4ed3d6d96"
  },
  {
   "cell_type": "markdown",
   "source": [
    "# Confusion matrix and precision, recall, F1 score for the train set"
   ],
   "metadata": {
    "collapsed": false
   },
   "id": "8ed3a01d2d1603f0"
  },
  {
   "cell_type": "code",
   "execution_count": 48,
   "outputs": [
    {
     "data": {
      "text/plain": "<Figure size 2000x2000 with 0 Axes>"
     },
     "metadata": {},
     "output_type": "display_data"
    },
    {
     "data": {
      "text/plain": "<Figure size 640x480 with 2 Axes>",
      "image/svg+xml": "<?xml version=\"1.0\" encoding=\"utf-8\" standalone=\"no\"?>\n<!DOCTYPE svg PUBLIC \"-//W3C//DTD SVG 1.1//EN\"\n  \"http://www.w3.org/Graphics/SVG/1.1/DTD/svg11.dtd\">\n<svg xmlns:xlink=\"http://www.w3.org/1999/xlink\" width=\"424.868027pt\" height=\"338.562255pt\" viewBox=\"0 0 424.868027 338.562255\" xmlns=\"http://www.w3.org/2000/svg\" version=\"1.1\">\n <metadata>\n  <rdf:RDF xmlns:dc=\"http://purl.org/dc/elements/1.1/\" xmlns:cc=\"http://creativecommons.org/ns#\" xmlns:rdf=\"http://www.w3.org/1999/02/22-rdf-syntax-ns#\">\n   <cc:Work>\n    <dc:type rdf:resource=\"http://purl.org/dc/dcmitype/StillImage\"/>\n    <dc:date>2024-01-02T09:25:27.700256</dc:date>\n    <dc:format>image/svg+xml</dc:format>\n    <dc:creator>\n     <cc:Agent>\n      <dc:title>Matplotlib v3.8.2, https://matplotlib.org/</dc:title>\n     </cc:Agent>\n    </dc:creator>\n   </cc:Work>\n  </rdf:RDF>\n </metadata>\n <defs>\n  <style type=\"text/css\">*{stroke-linejoin: round; stroke-linecap: butt}</style>\n </defs>\n <g id=\"figure_1\">\n  <g id=\"patch_1\">\n   <path d=\"M 0 338.562255 \nL 424.868027 338.562255 \nL 424.868027 0 \nL 0 0 \nz\n\" style=\"fill: #ffffff\"/>\n  </g>\n  <g id=\"axes_1\">\n   <g id=\"patch_2\">\n    <path d=\"M 87.644463 294.238022 \nL 353.756463 294.238022 \nL 353.756463 28.126022 \nL 87.644463 28.126022 \nz\n\" style=\"fill: #ffffff\"/>\n   </g>\n   <g clip-path=\"url(#p900bfddd5e)\">\n    <image xlink:href=\"data:image/png;base64,\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\" id=\"image0823d3ed97\" transform=\"scale(1 -1) translate(0 -266.4)\" x=\"87.644463\" y=\"-27.838022\" width=\"266.4\" height=\"266.4\"/>\n   </g>\n   <g id=\"matplotlib.axis_1\">\n    <g id=\"xtick_1\">\n     <g id=\"line2d_1\">\n      <defs>\n       <path id=\"m9eb33fdaab\" d=\"M 0 0 \nL 0 3.5 \n\" style=\"stroke: #000000; stroke-width: 0.8\"/>\n      </defs>\n      <g>\n       <use xlink:href=\"#m9eb33fdaab\" x=\"114.255663\" y=\"294.238022\" style=\"stroke: #000000; stroke-width: 0.8\"/>\n      </g>\n     </g>\n     <g id=\"text_1\">\n      <!-- T-shirt/top -->\n      <g transform=\"translate(86.617964 310.204398) scale(0.12 -0.12)\">\n       <defs>\n        <path id=\"CMSS17-54\" d=\"M 2317 3968 \nL 2848 3968 \nC 2925 3968 3002 3968 3078 3968 \nL 3878 3968 \nL 3878 4376 \nL 218 4376 \nL 218 3968 \nL 1018 3968 \nC 1094 3968 1171 3968 1248 3968 \nL 1779 3968 \nL 1779 -32 \nL 2317 -32 \nL 2317 3968 \nz\n\" transform=\"scale(0.015625)\"/>\n        <path id=\"CMSS17-2d\" d=\"M 1664 1216 \nL 1664 1585 \nL 64 1585 \nL 64 1216 \nL 1664 1216 \nz\n\" transform=\"scale(0.015625)\"/>\n        <path id=\"CMSS17-73\" d=\"M 2061 2627 \nC 1683 2807 1389 2807 1197 2807 \nC 742 2807 198 2648 198 2003 \nC 198 1359 902 1218 1094 1179 \nC 1389 1122 1715 1058 1715 740 \nC 1715 337 1254 337 1171 337 \nC 915 337 563 407 243 638 \nL 166 210 \nC 531 0 883 -64 1178 -64 \nC 1965 -64 2163 416 2163 781 \nC 2163 1094 1984 1305 1862 1401 \nC 1651 1568 1574 1587 1050 1696 \nC 960 1709 646 1779 646 2066 \nC 646 2432 1050 2432 1139 2432 \nC 1555 2432 1811 2303 1984 2208 \nL 2061 2627 \nz\n\" transform=\"scale(0.015625)\"/>\n        <path id=\"CMSS17-68\" d=\"M 2618 1891 \nC 2618 2292 2522 2820 1798 2820 \nC 1395 2820 1133 2623 947 2407 \nL 947 4448 \nL 474 4448 \nL 474 32 \nL 960 32 \nL 960 1573 \nC 960 1973 1114 2432 1549 2432 \nC 2112 2432 2131 2056 2131 1839 \nL 2131 32 \nL 2618 32 \nL 2618 1891 \nz\n\" transform=\"scale(0.015625)\"/>\n        <path id=\"CMSS17-69\" d=\"M 979 4183 \nL 442 4183 \nL 442 3648 \nL 979 3648 \nL 979 4183 \nz\nM 947 2739 \nL 474 2739 \nL 474 0 \nL 947 0 \nL 947 2739 \nz\n\" transform=\"scale(0.015625)\"/>\n        <path id=\"CMSS17-72\" d=\"M 954 1363 \nC 954 1965 1395 2368 1958 2368 \nL 1958 2789 \nC 1549 2789 1165 2585 934 2253 \nL 934 2758 \nL 480 2758 \nL 480 0 \nL 954 0 \nL 954 1363 \nz\n\" transform=\"scale(0.015625)\"/>\n        <path id=\"CMSS17-74\" d=\"M 1069 2368 \nL 1901 2368 \nL 1901 2737 \nL 1069 2737 \nL 1069 3520 \nL 614 3520 \nL 614 2737 \nL 109 2737 \nL 109 2368 \nL 602 2368 \nL 602 749 \nC 602 384 685 -64 1107 -64 \nC 1427 -64 1722 25 2003 172 \nL 1901 548 \nC 1747 414 1562 337 1363 337 \nC 1082 337 1069 696 1069 856 \nL 1069 2368 \nz\n\" transform=\"scale(0.015625)\"/>\n        <path id=\"CMSS17-2f\" d=\"M 2637 4545 \nC 2669 4627 2669 4640 2669 4653 \nC 2669 4729 2611 4768 2560 4768 \nC 2483 4768 2458 4717 2432 4640 \nL 365 -1377 \nC 333 -1460 333 -1473 333 -1486 \nC 333 -1562 390 -1600 442 -1600 \nC 518 -1600 544 -1549 570 -1473 \nL 2637 4545 \nz\n\" transform=\"scale(0.015625)\"/>\n        <path id=\"CMSS17-6f\" d=\"M 2829 1356 \nC 2829 2176 2221 2816 1504 2816 \nC 768 2816 173 2157 173 1356 \nC 173 544 787 -64 1498 -64 \nC 2227 -64 2829 563 2829 1356 \nz\nM 1504 337 \nC 1050 337 659 709 659 1408 \nC 659 2151 1114 2427 1498 2427 \nC 1914 2427 2342 2126 2342 1408 \nC 2342 683 1926 337 1504 337 \nz\n\" transform=\"scale(0.015625)\"/>\n        <path id=\"CMSS17-70\" d=\"M 966 333 \nC 1178 129 1466 -5 1773 -5 \nC 2368 -5 2880 603 2880 1412 \nC 2880 2159 2496 2816 1946 2816 \nC 1626 2816 1242 2702 954 2472 \nL 954 2765 \nL 480 2765 \nL 480 -1216 \nL 966 -1216 \nL 966 333 \nz\nM 966 2100 \nC 1018 2176 1235 2415 1587 2415 \nC 2035 2415 2394 1960 2394 1412 \nC 2394 787 1958 384 1530 384 \nC 1402 384 1267 415 1139 523 \nC 966 674 966 768 966 857 \nL 966 2100 \nz\n\" transform=\"scale(0.015625)\"/>\n       </defs>\n       <use xlink:href=\"#CMSS17-54\" transform=\"scale(0.996264)\"/>\n       <use xlink:href=\"#CMSS17-2d\" transform=\"translate(63.819454 0) scale(0.996264)\"/>\n       <use xlink:href=\"#CMSS17-73\" transform=\"translate(95.048567 0) scale(0.996264)\"/>\n       <use xlink:href=\"#CMSS17-68\" transform=\"translate(130.962109 0) scale(0.996264)\"/>\n       <use xlink:href=\"#CMSS17-69\" transform=\"translate(179.167052 0) scale(0.996264)\"/>\n       <use xlink:href=\"#CMSS17-72\" transform=\"translate(201.347775 0) scale(0.996264)\"/>\n       <use xlink:href=\"#CMSS17-74\" transform=\"translate(233.257547 0) scale(0.996264)\"/>\n       <use xlink:href=\"#CMSS17-2f\" transform=\"translate(267.089114 0) scale(0.996264)\"/>\n       <use xlink:href=\"#CMSS17-74\" transform=\"translate(313.932738 0) scale(0.996264)\"/>\n       <use xlink:href=\"#CMSS17-6f\" transform=\"translate(347.764304 0) scale(0.996264)\"/>\n       <use xlink:href=\"#CMSS17-70\" transform=\"translate(394.607928 0) scale(0.996264)\"/>\n      </g>\n     </g>\n    </g>\n    <g id=\"xtick_2\">\n     <g id=\"line2d_2\">\n      <g>\n       <use xlink:href=\"#m9eb33fdaab\" x=\"167.478063\" y=\"294.238022\" style=\"stroke: #000000; stroke-width: 0.8\"/>\n      </g>\n     </g>\n     <g id=\"text_2\">\n      <!-- Trouser -->\n      <g transform=\"translate(149.221733 309.540202) scale(0.12 -0.12)\">\n       <defs>\n        <path id=\"CMSS17-75\" d=\"M 2618 2739 \nL 2131 2739 \nL 2131 972 \nC 2131 498 1786 306 1421 306 \nC 998 306 960 447 960 709 \nL 960 2739 \nL 474 2739 \nL 474 678 \nC 474 179 646 -64 1088 -64 \nC 1306 -64 1798 -13 2144 306 \nL 2144 0 \nL 2618 0 \nL 2618 2739 \nz\n\" transform=\"scale(0.015625)\"/>\n        <path id=\"CMSS17-65\" d=\"M 2502 1377 \nC 2502 1590 2490 2003 2285 2345 \nC 2061 2713 1696 2816 1421 2816 \nC 755 2816 192 2188 192 1375 \nC 192 582 774 -64 1510 -64 \nC 1798 -64 2150 19 2470 248 \nC 2470 274 2458 414 2451 420 \nC 2451 433 2432 630 2432 656 \nC 2125 407 1773 325 1517 325 \nC 1107 325 666 667 646 1377 \nL 2502 1377 \nz\nM 698 1728 \nC 781 2084 1062 2421 1421 2421 \nC 1517 2421 1965 2421 2080 1728 \nL 698 1728 \nz\n\" transform=\"scale(0.015625)\"/>\n       </defs>\n       <use xlink:href=\"#CMSS17-54\" transform=\"scale(0.996264)\"/>\n       <use xlink:href=\"#CMSS17-72\" transform=\"translate(56.012199 0) scale(0.996264)\"/>\n       <use xlink:href=\"#CMSS17-6f\" transform=\"translate(87.921971 0) scale(0.996264)\"/>\n       <use xlink:href=\"#CMSS17-75\" transform=\"translate(134.765595 0) scale(0.996264)\"/>\n       <use xlink:href=\"#CMSS17-73\" transform=\"translate(182.970538 0) scale(0.996264)\"/>\n       <use xlink:href=\"#CMSS17-65\" transform=\"translate(218.88408 0) scale(0.996264)\"/>\n       <use xlink:href=\"#CMSS17-72\" transform=\"translate(260.522902 0) scale(0.996264)\"/>\n      </g>\n     </g>\n    </g>\n    <g id=\"xtick_3\">\n     <g id=\"line2d_3\">\n      <g>\n       <use xlink:href=\"#m9eb33fdaab\" x=\"220.700463\" y=\"294.238022\" style=\"stroke: #000000; stroke-width: 0.8\"/>\n      </g>\n     </g>\n     <g id=\"text_3\">\n      <!-- Pullover -->\n      <g transform=\"translate(201.027966 309.540202) scale(0.12 -0.12)\">\n       <defs>\n        <path id=\"CMSS17-50\" d=\"M 2106 1856 \nC 2874 1856 3501 2453 3501 3158 \nC 3501 3850 2899 4453 2067 4453 \nL 570 4453 \nL 570 0 \nL 1107 0 \nL 1107 1856 \nL 2106 1856 \nz\nM 1926 4096 \nC 2669 4096 2995 3627 2995 3157 \nC 2995 2720 2694 2226 1926 2226 \nL 1094 2226 \nL 1094 4096 \nL 1926 4096 \nz\n\" transform=\"scale(0.015625)\"/>\n        <path id=\"CMSS17-6c\" d=\"M 947 4416 \nL 474 4416 \nL 474 0 \nL 947 0 \nL 947 4416 \nz\n\" transform=\"scale(0.015625)\"/>\n        <path id=\"CMSS17-76\" d=\"M 2675 2752 \nL 2176 2752 \nL 1747 1556 \nC 1613 1165 1421 627 1389 352 \nL 1382 352 \nC 1370 468 1318 634 1286 749 \nC 1248 890 1197 1056 1158 1172 \nL 595 2752 \nL 83 2752 \nL 1094 0 \nL 1664 0 \nL 2675 2752 \nz\n\" transform=\"scale(0.015625)\"/>\n       </defs>\n       <use xlink:href=\"#CMSS17-50\" transform=\"scale(0.996264)\"/>\n       <use xlink:href=\"#CMSS17-75\" transform=\"translate(59.735586 0) scale(0.996264)\"/>\n       <use xlink:href=\"#CMSS17-6c\" transform=\"translate(107.940529 0) scale(0.996264)\"/>\n       <use xlink:href=\"#CMSS17-6c\" transform=\"translate(130.121252 0) scale(0.996264)\"/>\n       <use xlink:href=\"#CMSS17-6f\" transform=\"translate(152.301976 0) scale(0.996264)\"/>\n       <use xlink:href=\"#CMSS17-76\" transform=\"translate(199.145599 0) scale(0.996264)\"/>\n       <use xlink:href=\"#CMSS17-65\" transform=\"translate(242.145741 0) scale(0.996264)\"/>\n       <use xlink:href=\"#CMSS17-72\" transform=\"translate(283.784563 0) scale(0.996264)\"/>\n      </g>\n     </g>\n    </g>\n    <g id=\"xtick_4\">\n     <g id=\"line2d_4\">\n      <g>\n       <use xlink:href=\"#m9eb33fdaab\" x=\"273.922863\" y=\"294.238022\" style=\"stroke: #000000; stroke-width: 0.8\"/>\n      </g>\n     </g>\n     <g id=\"text_4\">\n      <!-- Dress -->\n      <g transform=\"translate(260.635342 309.540202) scale(0.12 -0.12)\">\n       <defs>\n        <path id=\"CMSS17-44\" d=\"M 570 4416 \nL 570 0 \nL 2144 0 \nC 3194 0 4000 980 4000 2170 \nC 4000 3398 3194 4416 2144 4416 \nL 570 4416 \nz\nM 1094 357 \nL 1094 4059 \nL 2003 4059 \nC 2861 4059 3475 3277 3475 2170 \nC 3475 1107 2867 357 2003 357 \nL 1094 357 \nz\n\" transform=\"scale(0.015625)\"/>\n       </defs>\n       <use xlink:href=\"#CMSS17-44\" transform=\"scale(0.996264)\"/>\n       <use xlink:href=\"#CMSS17-72\" transform=\"translate(67.542842 0) scale(0.996264)\"/>\n       <use xlink:href=\"#CMSS17-65\" transform=\"translate(99.452614 0) scale(0.996264)\"/>\n       <use xlink:href=\"#CMSS17-73\" transform=\"translate(141.091436 0) scale(0.996264)\"/>\n       <use xlink:href=\"#CMSS17-73\" transform=\"translate(177.004978 0) scale(0.996264)\"/>\n      </g>\n     </g>\n    </g>\n    <g id=\"xtick_5\">\n     <g id=\"line2d_5\">\n      <g>\n       <use xlink:href=\"#m9eb33fdaab\" x=\"327.145263\" y=\"294.238022\" style=\"stroke: #000000; stroke-width: 0.8\"/>\n      </g>\n     </g>\n     <g id=\"text_5\">\n      <!-- Shirt -->\n      <g transform=\"translate(315.41163 309.540202) scale(0.12 -0.12)\">\n       <defs>\n        <path id=\"CMSS17-53\" d=\"M 2797 4169 \nC 2515 4334 2208 4480 1690 4480 \nC 864 4480 333 3879 333 3266 \nC 333 3025 403 2753 653 2475 \nC 902 2196 1184 2121 1542 2033 \nC 1690 1994 1939 1924 1984 1906 \nC 2342 1767 2515 1444 2515 1140 \nC 2515 742 2202 318 1645 318 \nC 1453 318 890 318 358 819 \nL 269 318 \nC 794 -64 1363 -128 1651 -128 \nC 2438 -128 3002 488 3002 1186 \nC 3002 1440 2925 1763 2656 2061 \nC 2394 2347 2163 2410 1638 2549 \nC 1338 2626 1146 2677 986 2873 \nC 877 3013 819 3146 819 3317 \nC 819 3673 1126 4060 1690 4060 \nC 1971 4060 2336 4002 2707 3660 \nL 2797 4169 \nz\n\" transform=\"scale(0.015625)\"/>\n       </defs>\n       <use xlink:href=\"#CMSS17-53\" transform=\"scale(0.996264)\"/>\n       <use xlink:href=\"#CMSS17-68\" transform=\"translate(52.048516 0) scale(0.996264)\"/>\n       <use xlink:href=\"#CMSS17-69\" transform=\"translate(100.253459 0) scale(0.996264)\"/>\n       <use xlink:href=\"#CMSS17-72\" transform=\"translate(122.434182 0) scale(0.996264)\"/>\n       <use xlink:href=\"#CMSS17-74\" transform=\"translate(154.343955 0) scale(0.996264)\"/>\n      </g>\n     </g>\n    </g>\n    <g id=\"text_6\">\n     <!-- Predicted label -->\n     <g transform=\"translate(172.322242 328.262778) scale(0.16 -0.16)\">\n      <defs>\n       <path id=\"CMSS17-64\" d=\"M 2611 4416 \nL 2138 4416 \nL 2138 2438 \nC 1939 2603 1613 2756 1254 2756 \nC 672 2756 211 2131 211 1347 \nC 211 562 666 -64 1235 -64 \nC 1677 -64 1971 172 2125 306 \nL 2125 -13 \nL 2611 -13 \nL 2611 4416 \nz\nM 2125 836 \nC 2125 747 2125 653 1926 482 \nC 1798 375 1645 325 1498 325 \nC 1152 325 698 576 698 1340 \nC 698 2134 1210 2368 1562 2368 \nC 1798 2368 1990 2254 2125 2065 \nL 2125 836 \nz\n\" transform=\"scale(0.015625)\"/>\n       <path id=\"CMSS17-63\" d=\"M 2464 2541 \nC 2464 2585 2170 2714 2093 2739 \nC 1882 2816 1613 2816 1542 2816 \nC 710 2816 211 2093 211 1363 \nC 211 595 768 -64 1517 -64 \nC 1946 -64 2253 76 2502 242 \nL 2464 664 \nC 2189 453 1869 337 1523 337 \nC 1024 337 698 774 698 1369 \nC 698 1831 909 2414 1549 2414 \nC 1901 2414 2099 2343 2394 2145 \nL 2464 2541 \nz\n\" transform=\"scale(0.015625)\"/>\n       <path id=\"CMSS17-61\" d=\"M 2406 1791 \nC 2406 2392 1978 2808 1402 2808 \nC 1120 2808 813 2757 461 2553 \nL 499 2135 \nC 659 2248 934 2432 1395 2432 \nC 1722 2432 1920 2180 1920 1782 \nL 1920 1536 \nC 896 1536 256 1238 256 726 \nC 256 461 416 -64 947 -64 \nC 1043 -64 1562 -64 1933 217 \nL 1933 -19 \nL 2406 -19 \nL 2406 1791 \nz\nM 1920 816 \nC 1920 701 1920 548 1728 434 \nC 1562 325 1350 325 1261 325 \nC 941 325 723 511 723 744 \nC 723 1211 1722 1211 1920 1211 \nL 1920 816 \nz\n\" transform=\"scale(0.015625)\"/>\n       <path id=\"CMSS17-62\" d=\"M 954 4416 \nL 480 4416 \nL 480 -13 \nL 966 -13 \nL 966 274 \nC 1210 38 1504 -64 1766 -64 \nC 2381 -64 2880 549 2880 1352 \nC 2880 2086 2496 2756 1926 2756 \nC 1523 2756 1165 2591 954 2419 \nL 954 4416 \nz\nM 966 2046 \nC 1107 2222 1306 2368 1587 2368 \nC 1965 2368 2394 2097 2394 1352 \nC 2394 558 1882 325 1530 325 \nC 1402 325 1267 356 1139 464 \nC 966 615 966 709 966 797 \nL 966 2046 \nz\n\" transform=\"scale(0.015625)\"/>\n      </defs>\n      <use xlink:href=\"#CMSS17-50\" transform=\"scale(0.996264)\"/>\n      <use xlink:href=\"#CMSS17-72\" transform=\"translate(59.735586 0) scale(0.996264)\"/>\n      <use xlink:href=\"#CMSS17-65\" transform=\"translate(91.645359 0) scale(0.996264)\"/>\n      <use xlink:href=\"#CMSS17-64\" transform=\"translate(133.284181 0) scale(0.996264)\"/>\n      <use xlink:href=\"#CMSS17-69\" transform=\"translate(181.489124 0) scale(0.996264)\"/>\n      <use xlink:href=\"#CMSS17-63\" transform=\"translate(203.669847 0) scale(0.996264)\"/>\n      <use xlink:href=\"#CMSS17-74\" transform=\"translate(245.308669 0) scale(0.996264)\"/>\n      <use xlink:href=\"#CMSS17-65\" transform=\"translate(279.140236 0) scale(0.996264)\"/>\n      <use xlink:href=\"#CMSS17-64\" transform=\"translate(320.779058 0) scale(0.996264)\"/>\n      <use xlink:href=\"#CMSS17-6c\" transform=\"translate(400.213114 0) scale(0.996264)\"/>\n      <use xlink:href=\"#CMSS17-61\" transform=\"translate(422.393837 0) scale(0.996264)\"/>\n      <use xlink:href=\"#CMSS17-62\" transform=\"translate(467.315757 0) scale(0.996264)\"/>\n      <use xlink:href=\"#CMSS17-65\" transform=\"translate(518.123139 0) scale(0.996264)\"/>\n      <use xlink:href=\"#CMSS17-6c\" transform=\"translate(559.761961 0) scale(0.996264)\"/>\n     </g>\n    </g>\n   </g>\n   <g id=\"matplotlib.axis_2\">\n    <g id=\"ytick_1\">\n     <g id=\"line2d_6\">\n      <defs>\n       <path id=\"mbb374421cf\" d=\"M 0 0 \nL -3.5 0 \n\" style=\"stroke: #000000; stroke-width: 0.8\"/>\n      </defs>\n      <g>\n       <use xlink:href=\"#mbb374421cf\" x=\"87.644463\" y=\"54.737222\" style=\"stroke: #000000; stroke-width: 0.8\"/>\n      </g>\n     </g>\n     <g id=\"text_7\">\n      <!-- T-shirt/top -->\n      <g transform=\"translate(25.369064 59.22041) scale(0.12 -0.12)\">\n       <use xlink:href=\"#CMSS17-54\" transform=\"scale(0.996264)\"/>\n       <use xlink:href=\"#CMSS17-2d\" transform=\"translate(63.819454 0) scale(0.996264)\"/>\n       <use xlink:href=\"#CMSS17-73\" transform=\"translate(95.048567 0) scale(0.996264)\"/>\n       <use xlink:href=\"#CMSS17-68\" transform=\"translate(130.962109 0) scale(0.996264)\"/>\n       <use xlink:href=\"#CMSS17-69\" transform=\"translate(179.167052 0) scale(0.996264)\"/>\n       <use xlink:href=\"#CMSS17-72\" transform=\"translate(201.347775 0) scale(0.996264)\"/>\n       <use xlink:href=\"#CMSS17-74\" transform=\"translate(233.257547 0) scale(0.996264)\"/>\n       <use xlink:href=\"#CMSS17-2f\" transform=\"translate(267.089114 0) scale(0.996264)\"/>\n       <use xlink:href=\"#CMSS17-74\" transform=\"translate(313.932738 0) scale(0.996264)\"/>\n       <use xlink:href=\"#CMSS17-6f\" transform=\"translate(347.764304 0) scale(0.996264)\"/>\n       <use xlink:href=\"#CMSS17-70\" transform=\"translate(394.607928 0) scale(0.996264)\"/>\n      </g>\n     </g>\n    </g>\n    <g id=\"ytick_2\">\n     <g id=\"line2d_7\">\n      <g>\n       <use xlink:href=\"#mbb374421cf\" x=\"87.644463\" y=\"107.959622\" style=\"stroke: #000000; stroke-width: 0.8\"/>\n      </g>\n     </g>\n     <g id=\"text_8\">\n      <!-- Trouser -->\n      <g transform=\"translate(44.131804 112.110712) scale(0.12 -0.12)\">\n       <use xlink:href=\"#CMSS17-54\" transform=\"scale(0.996264)\"/>\n       <use xlink:href=\"#CMSS17-72\" transform=\"translate(56.012199 0) scale(0.996264)\"/>\n       <use xlink:href=\"#CMSS17-6f\" transform=\"translate(87.921971 0) scale(0.996264)\"/>\n       <use xlink:href=\"#CMSS17-75\" transform=\"translate(134.765595 0) scale(0.996264)\"/>\n       <use xlink:href=\"#CMSS17-73\" transform=\"translate(182.970538 0) scale(0.996264)\"/>\n       <use xlink:href=\"#CMSS17-65\" transform=\"translate(218.88408 0) scale(0.996264)\"/>\n       <use xlink:href=\"#CMSS17-72\" transform=\"translate(260.522902 0) scale(0.996264)\"/>\n      </g>\n     </g>\n    </g>\n    <g id=\"ytick_3\">\n     <g id=\"line2d_8\">\n      <g>\n       <use xlink:href=\"#mbb374421cf\" x=\"87.644463\" y=\"161.182022\" style=\"stroke: #000000; stroke-width: 0.8\"/>\n      </g>\n     </g>\n     <g id=\"text_9\">\n      <!-- Pullover -->\n      <g transform=\"translate(41.299468 165.333112) scale(0.12 -0.12)\">\n       <use xlink:href=\"#CMSS17-50\" transform=\"scale(0.996264)\"/>\n       <use xlink:href=\"#CMSS17-75\" transform=\"translate(59.735586 0) scale(0.996264)\"/>\n       <use xlink:href=\"#CMSS17-6c\" transform=\"translate(107.940529 0) scale(0.996264)\"/>\n       <use xlink:href=\"#CMSS17-6c\" transform=\"translate(130.121252 0) scale(0.996264)\"/>\n       <use xlink:href=\"#CMSS17-6f\" transform=\"translate(152.301976 0) scale(0.996264)\"/>\n       <use xlink:href=\"#CMSS17-76\" transform=\"translate(199.145599 0) scale(0.996264)\"/>\n       <use xlink:href=\"#CMSS17-65\" transform=\"translate(242.145741 0) scale(0.996264)\"/>\n       <use xlink:href=\"#CMSS17-72\" transform=\"translate(283.784563 0) scale(0.996264)\"/>\n      </g>\n     </g>\n    </g>\n    <g id=\"ytick_4\">\n     <g id=\"line2d_9\">\n      <g>\n       <use xlink:href=\"#mbb374421cf\" x=\"87.644463\" y=\"214.404422\" style=\"stroke: #000000; stroke-width: 0.8\"/>\n      </g>\n     </g>\n     <g id=\"text_10\">\n      <!-- Dress -->\n      <g transform=\"translate(54.069422 218.555512) scale(0.12 -0.12)\">\n       <use xlink:href=\"#CMSS17-44\" transform=\"scale(0.996264)\"/>\n       <use xlink:href=\"#CMSS17-72\" transform=\"translate(67.542842 0) scale(0.996264)\"/>\n       <use xlink:href=\"#CMSS17-65\" transform=\"translate(99.452614 0) scale(0.996264)\"/>\n       <use xlink:href=\"#CMSS17-73\" transform=\"translate(141.091436 0) scale(0.996264)\"/>\n       <use xlink:href=\"#CMSS17-73\" transform=\"translate(177.004978 0) scale(0.996264)\"/>\n      </g>\n     </g>\n    </g>\n    <g id=\"ytick_5\">\n     <g id=\"line2d_10\">\n      <g>\n       <use xlink:href=\"#mbb374421cf\" x=\"87.644463\" y=\"267.626822\" style=\"stroke: #000000; stroke-width: 0.8\"/>\n      </g>\n     </g>\n     <g id=\"text_11\">\n      <!-- Shirt -->\n      <g transform=\"translate(57.177198 271.777912) scale(0.12 -0.12)\">\n       <use xlink:href=\"#CMSS17-53\" transform=\"scale(0.996264)\"/>\n       <use xlink:href=\"#CMSS17-68\" transform=\"translate(52.048516 0) scale(0.996264)\"/>\n       <use xlink:href=\"#CMSS17-69\" transform=\"translate(100.253459 0) scale(0.996264)\"/>\n       <use xlink:href=\"#CMSS17-72\" transform=\"translate(122.434182 0) scale(0.996264)\"/>\n       <use xlink:href=\"#CMSS17-74\" transform=\"translate(154.343955 0) scale(0.996264)\"/>\n      </g>\n     </g>\n    </g>\n    <g id=\"text_12\">\n     <!-- True label -->\n     <g transform=\"translate(18.269588 193.675543) rotate(-90) scale(0.16 -0.16)\">\n      <use xlink:href=\"#CMSS17-54\" transform=\"scale(0.996264)\"/>\n      <use xlink:href=\"#CMSS17-72\" transform=\"translate(56.012199 0) scale(0.996264)\"/>\n      <use xlink:href=\"#CMSS17-75\" transform=\"translate(87.921971 0) scale(0.996264)\"/>\n      <use xlink:href=\"#CMSS17-65\" transform=\"translate(136.126914 0) scale(0.996264)\"/>\n      <use xlink:href=\"#CMSS17-6c\" transform=\"translate(208.994849 0) scale(0.996264)\"/>\n      <use xlink:href=\"#CMSS17-61\" transform=\"translate(231.175572 0) scale(0.996264)\"/>\n      <use xlink:href=\"#CMSS17-62\" transform=\"translate(276.097493 0) scale(0.996264)\"/>\n      <use xlink:href=\"#CMSS17-65\" transform=\"translate(326.904875 0) scale(0.996264)\"/>\n      <use xlink:href=\"#CMSS17-6c\" transform=\"translate(368.543697 0) scale(0.996264)\"/>\n     </g>\n    </g>\n   </g>\n   <g id=\"patch_3\">\n    <path d=\"M 87.644463 294.238022 \nL 87.644463 28.126022 \n\" style=\"fill: none; stroke: #000000; stroke-width: 0.8; stroke-linejoin: miter; stroke-linecap: square\"/>\n   </g>\n   <g id=\"patch_4\">\n    <path d=\"M 353.756463 294.238022 \nL 353.756463 28.126022 \n\" style=\"fill: none; stroke: #000000; stroke-width: 0.8; stroke-linejoin: miter; stroke-linecap: square\"/>\n   </g>\n   <g id=\"patch_5\">\n    <path d=\"M 87.644463 294.238022 \nL 353.756463 294.238022 \n\" style=\"fill: none; stroke: #000000; stroke-width: 0.8; stroke-linejoin: miter; stroke-linecap: square\"/>\n   </g>\n   <g id=\"patch_6\">\n    <path d=\"M 87.644463 28.126022 \nL 353.756463 28.126022 \n\" style=\"fill: none; stroke: #000000; stroke-width: 0.8; stroke-linejoin: miter; stroke-linecap: square\"/>\n   </g>\n   <g id=\"text_13\">\n    <!-- 1627 -->\n    <g style=\"fill: #f7fbff\" transform=\"translate(104.292993 57.227882) scale(0.1 -0.1)\">\n     <defs>\n      <path id=\"CMSS17-31\" d=\"M 1818 4288 \nL 1696 4288 \nC 1350 3940 947 3890 538 3890 \nL 538 3520 \nC 723 3520 1024 3520 1325 3667 \nL 1325 369 \nL 570 369 \nL 570 0 \nL 2573 0 \nL 2573 369 \nL 1818 369 \nL 1818 4288 \nz\n\" transform=\"scale(0.015625)\"/>\n      <path id=\"CMSS17-36\" d=\"M 2496 4101 \nC 2227 4210 2035 4229 1856 4229 \nC 1024 4229 250 3368 250 2006 \nC 250 265 986 -128 1510 -128 \nC 1798 -128 2086 -39 2362 280 \nC 2643 617 2752 898 2752 1389 \nC 2752 2179 2362 2880 1779 2880 \nC 1357 2880 992 2657 768 2376 \nC 832 3258 1254 3840 1862 3840 \nC 2029 3840 2246 3816 2496 3710 \nL 2496 4101 \nz\nM 774 1369 \nC 774 1420 774 1452 781 1548 \nC 781 2045 1069 2491 1536 2491 \nC 1837 2491 1990 2332 2106 2135 \nC 2240 1886 2246 1650 2246 1388 \nC 2246 1140 2246 891 2099 637 \nC 1978 439 1818 267 1510 267 \nC 902 267 800 1114 774 1369 \nz\n\" transform=\"scale(0.015625)\"/>\n      <path id=\"CMSS17-32\" d=\"M 1651 1357 \nC 1830 1541 2099 1764 2285 1987 \nC 2464 2204 2701 2511 2701 2957 \nC 2701 3657 2227 4288 1421 4288 \nC 787 4288 422 3893 250 3274 \nL 499 2929 \nC 640 3510 838 3880 1338 3880 \nC 1888 3880 2195 3433 2195 2942 \nC 2195 2355 1747 1901 1408 1563 \nC 1030 1187 659 804 301 408 \nL 301 0 \nL 2701 0 \nL 2701 433 \nL 1613 433 \nC 1536 433 1459 433 1382 433 \nL 742 433 \nL 742 439 \nL 1651 1357 \nz\n\" transform=\"scale(0.015625)\"/>\n      <path id=\"CMSS17-37\" d=\"M 1389 3776 \nC 1466 3776 1542 3776 1619 3776 \nL 2355 3776 \nC 1440 2711 915 1365 915 -32 \nL 1427 -32 \nC 1427 1323 1875 2696 2752 3795 \nL 2752 4209 \nL 250 4209 \nL 250 3776 \nL 1389 3776 \nz\n\" transform=\"scale(0.015625)\"/>\n     </defs>\n     <use xlink:href=\"#CMSS17-31\" transform=\"scale(0.996264)\"/>\n     <use xlink:href=\"#CMSS17-36\" transform=\"translate(46.843624 0) scale(0.996264)\"/>\n     <use xlink:href=\"#CMSS17-32\" transform=\"translate(93.687247 0) scale(0.996264)\"/>\n     <use xlink:href=\"#CMSS17-37\" transform=\"translate(140.530871 0) scale(0.996264)\"/>\n    </g>\n   </g>\n   <g id=\"text_14\">\n    <!-- 0 -->\n    <g style=\"fill: #08306b\" transform=\"translate(164.987395 57.227882) scale(0.1 -0.1)\">\n     <defs>\n      <path id=\"CMSS17-30\" d=\"M 2758 2044 \nC 2758 2405 2752 3077 2490 3596 \nC 2227 4096 1805 4229 1504 4229 \nC 1069 4229 698 3975 506 3570 \nC 301 3146 243 2709 243 2044 \nC 243 1589 262 1031 493 543 \nC 755 5 1197 -128 1498 -128 \nC 1894 -128 2278 81 2496 518 \nC 2720 974 2758 1474 2758 2044 \nz\nM 1498 261 \nC 1011 261 864 811 819 995 \nC 742 1310 730 1614 730 2114 \nC 730 2506 730 2948 851 3297 \nC 998 3701 1254 3840 1498 3840 \nC 1971 3840 2125 3372 2176 3208 \nC 2272 2873 2272 2481 2272 2114 \nC 2272 1526 2272 261 1498 261 \nz\n\" transform=\"scale(0.015625)\"/>\n     </defs>\n     <use xlink:href=\"#CMSS17-30\" transform=\"scale(0.996264)\"/>\n    </g>\n   </g>\n   <g id=\"text_15\">\n    <!-- 26 -->\n    <g style=\"fill: #08306b\" transform=\"translate(215.719128 57.227882) scale(0.1 -0.1)\">\n     <use xlink:href=\"#CMSS17-32\" transform=\"scale(0.996264)\"/>\n     <use xlink:href=\"#CMSS17-36\" transform=\"translate(46.843624 0) scale(0.996264)\"/>\n    </g>\n   </g>\n   <g id=\"text_16\">\n    <!-- 169 -->\n    <g style=\"fill: #08306b\" transform=\"translate(266.45086 57.227882) scale(0.1 -0.1)\">\n     <defs>\n      <path id=\"CMSS17-39\" d=\"M 435 174 \nC 614 21 845 -128 1235 -128 \nC 2010 -128 2752 721 2752 2095 \nC 2752 3932 1952 4229 1523 4229 \nC 1094 4229 819 4041 582 3741 \nC 301 3397 250 3090 250 2733 \nC 250 2307 326 2045 506 1745 \nC 749 1357 973 1275 1222 1275 \nC 1600 1275 1978 1459 2234 1776 \nC 2189 902 1798 267 1235 267 \nC 1005 267 819 339 634 516 \nL 435 174 \nz\nM 2214 2746 \nC 2221 2703 2221 2622 2221 2596 \nC 2221 2074 1914 1664 1466 1664 \nC 1171 1664 1018 1813 902 2006 \nC 762 2249 755 2485 755 2733 \nC 755 2976 755 3244 934 3511 \nC 1069 3703 1235 3840 1523 3840 \nC 2112 3840 2208 3000 2214 2746 \nz\n\" transform=\"scale(0.015625)\"/>\n     </defs>\n     <use xlink:href=\"#CMSS17-31\" transform=\"scale(0.996264)\"/>\n     <use xlink:href=\"#CMSS17-36\" transform=\"translate(46.843624 0) scale(0.996264)\"/>\n     <use xlink:href=\"#CMSS17-39\" transform=\"translate(93.687247 0) scale(0.996264)\"/>\n    </g>\n   </g>\n   <g id=\"text_17\">\n    <!-- 211 -->\n    <g style=\"fill: #08306b\" transform=\"translate(319.67326 57.227882) scale(0.1 -0.1)\">\n     <use xlink:href=\"#CMSS17-32\" transform=\"scale(0.996264)\"/>\n     <use xlink:href=\"#CMSS17-31\" transform=\"translate(46.843624 0) scale(0.996264)\"/>\n     <use xlink:href=\"#CMSS17-31\" transform=\"translate(93.687247 0) scale(0.996264)\"/>\n    </g>\n   </g>\n   <g id=\"text_18\">\n    <!-- 11 -->\n    <g style=\"fill: #08306b\" transform=\"translate(109.274328 110.450282) scale(0.1 -0.1)\">\n     <use xlink:href=\"#CMSS17-31\" transform=\"scale(0.996264)\"/>\n     <use xlink:href=\"#CMSS17-31\" transform=\"translate(46.843624 0) scale(0.996264)\"/>\n    </g>\n   </g>\n   <g id=\"text_19\">\n    <!-- 1887 -->\n    <g style=\"fill: #f7fbff\" transform=\"translate(157.515393 110.450282) scale(0.1 -0.1)\">\n     <defs>\n      <path id=\"CMSS17-38\" d=\"M 1933 2222 \nC 2419 2380 2669 2760 2669 3134 \nC 2669 3722 2157 4229 1504 4229 \nC 826 4229 333 3708 333 3144 \nC 333 2780 576 2403 1069 2241 \nC 442 1997 250 1512 250 1149 \nC 250 446 819 -128 1498 -128 \nC 2202 -128 2752 455 2752 1138 \nC 2752 1557 2502 2000 1933 2222 \nz\nM 1504 2432 \nC 1075 2432 787 2712 787 3136 \nC 787 3566 1075 3840 1504 3840 \nC 1901 3840 2214 3591 2214 3136 \nC 2214 2687 1907 2432 1504 2432 \nz\nM 1504 267 \nC 1139 267 749 517 749 1156 \nC 749 1813 1184 2043 1498 2043 \nC 1843 2043 2253 1800 2253 1156 \nC 2253 491 1830 267 1504 267 \nz\n\" transform=\"scale(0.015625)\"/>\n     </defs>\n     <use xlink:href=\"#CMSS17-31\" transform=\"scale(0.996264)\"/>\n     <use xlink:href=\"#CMSS17-38\" transform=\"translate(46.843624 0) scale(0.996264)\"/>\n     <use xlink:href=\"#CMSS17-38\" transform=\"translate(93.687247 0) scale(0.996264)\"/>\n     <use xlink:href=\"#CMSS17-37\" transform=\"translate(140.530871 0) scale(0.996264)\"/>\n    </g>\n   </g>\n   <g id=\"text_20\">\n    <!-- 5 -->\n    <g style=\"fill: #08306b\" transform=\"translate(218.209795 110.450282) scale(0.1 -0.1)\">\n     <defs>\n      <path id=\"CMSS17-35\" d=\"M 934 3752 \nL 2502 3752 \nL 2502 4160 \nL 467 4160 \nL 467 1781 \nL 896 1781 \nC 1011 2046 1248 2240 1555 2240 \nC 1843 2240 2163 1989 2163 1266 \nC 2163 493 1709 267 1376 267 \nC 966 267 589 512 422 851 \nL 218 499 \nC 512 49 992 -128 1376 -128 \nC 2118 -128 2701 497 2701 1253 \nC 2701 2030 2182 2629 1562 2629 \nC 1338 2629 1120 2553 934 2399 \nL 934 3752 \nz\n\" transform=\"scale(0.015625)\"/>\n     </defs>\n     <use xlink:href=\"#CMSS17-35\" transform=\"scale(0.996264)\"/>\n    </g>\n   </g>\n   <g id=\"text_21\">\n    <!-- 43 -->\n    <g style=\"fill: #08306b\" transform=\"translate(268.941528 110.450282) scale(0.1 -0.1)\">\n     <defs>\n      <path id=\"CMSS17-34\" d=\"M 2253 1088 \nL 2835 1088 \nL 2835 1477 \nL 2253 1477 \nL 2253 4192 \nL 1690 4192 \nL 166 1477 \nL 166 1088 \nL 1747 1088 \nL 1747 0 \nL 2253 0 \nL 2253 1088 \nz\nM 659 1477 \nC 1030 2127 1766 3439 1766 3885 \nL 1766 1477 \nL 659 1477 \nz\n\" transform=\"scale(0.015625)\"/>\n      <path id=\"CMSS17-33\" d=\"M 1005 2025 \nL 1440 2025 \nC 2042 2025 2214 1507 2214 1146 \nC 2214 653 1933 267 1472 267 \nC 1114 267 608 444 320 912 \nC 275 691 275 678 250 526 \nC 550 88 1037 -128 1485 -128 \nC 2214 -128 2752 473 2752 1138 \nC 2752 1638 2400 2057 1920 2215 \nC 2304 2424 2586 2816 2586 3273 \nC 2586 3805 2093 4229 1491 4229 \nC 941 4229 512 3892 333 3530 \nC 378 3468 493 3284 550 3189 \nC 691 3562 1056 3840 1485 3840 \nC 1843 3840 2080 3607 2080 3271 \nC 2080 2923 1856 2543 1478 2455 \nC 1453 2455 1056 2417 1005 2411 \nL 1005 2025 \nz\n\" transform=\"scale(0.015625)\"/>\n     </defs>\n     <use xlink:href=\"#CMSS17-34\" transform=\"scale(0.996264)\"/>\n     <use xlink:href=\"#CMSS17-33\" transform=\"translate(46.843624 0) scale(0.996264)\"/>\n    </g>\n   </g>\n   <g id=\"text_22\">\n    <!-- 1 -->\n    <g style=\"fill: #08306b\" transform=\"translate(324.654595 110.450282) scale(0.1 -0.1)\">\n     <use xlink:href=\"#CMSS17-31\" transform=\"scale(0.996264)\"/>\n    </g>\n   </g>\n   <g id=\"text_23\">\n    <!-- 53 -->\n    <g style=\"fill: #08306b\" transform=\"translate(109.274328 163.672682) scale(0.1 -0.1)\">\n     <use xlink:href=\"#CMSS17-35\" transform=\"scale(0.996264)\"/>\n     <use xlink:href=\"#CMSS17-33\" transform=\"translate(46.843624 0) scale(0.996264)\"/>\n    </g>\n   </g>\n   <g id=\"text_24\">\n    <!-- 3 -->\n    <g style=\"fill: #08306b\" transform=\"translate(164.987395 163.672682) scale(0.1 -0.1)\">\n     <use xlink:href=\"#CMSS17-33\" transform=\"scale(0.996264)\"/>\n    </g>\n   </g>\n   <g id=\"text_25\">\n    <!-- 1638 -->\n    <g style=\"fill: #f7fbff\" transform=\"translate(210.737793 163.672682) scale(0.1 -0.1)\">\n     <use xlink:href=\"#CMSS17-31\" transform=\"scale(0.996264)\"/>\n     <use xlink:href=\"#CMSS17-36\" transform=\"translate(46.843624 0) scale(0.996264)\"/>\n     <use xlink:href=\"#CMSS17-33\" transform=\"translate(93.687247 0) scale(0.996264)\"/>\n     <use xlink:href=\"#CMSS17-38\" transform=\"translate(140.530871 0) scale(0.996264)\"/>\n    </g>\n   </g>\n   <g id=\"text_26\">\n    <!-- 5 -->\n    <g style=\"fill: #08306b\" transform=\"translate(271.432195 163.672682) scale(0.1 -0.1)\">\n     <use xlink:href=\"#CMSS17-35\" transform=\"scale(0.996264)\"/>\n    </g>\n   </g>\n   <g id=\"text_27\">\n    <!-- 302 -->\n    <g style=\"fill: #08306b\" transform=\"translate(319.67326 163.672682) scale(0.1 -0.1)\">\n     <use xlink:href=\"#CMSS17-33\" transform=\"scale(0.996264)\"/>\n     <use xlink:href=\"#CMSS17-30\" transform=\"translate(46.843624 0) scale(0.996264)\"/>\n     <use xlink:href=\"#CMSS17-32\" transform=\"translate(93.687247 0) scale(0.996264)\"/>\n    </g>\n   </g>\n   <g id=\"text_28\">\n    <!-- 246 -->\n    <g style=\"fill: #08306b\" transform=\"translate(106.78366 216.895082) scale(0.1 -0.1)\">\n     <use xlink:href=\"#CMSS17-32\" transform=\"scale(0.996264)\"/>\n     <use xlink:href=\"#CMSS17-34\" transform=\"translate(46.843624 0) scale(0.996264)\"/>\n     <use xlink:href=\"#CMSS17-36\" transform=\"translate(93.687247 0) scale(0.996264)\"/>\n    </g>\n   </g>\n   <g id=\"text_29\">\n    <!-- 12 -->\n    <g style=\"fill: #08306b\" transform=\"translate(162.496728 216.895082) scale(0.1 -0.1)\">\n     <use xlink:href=\"#CMSS17-31\" transform=\"scale(0.996264)\"/>\n     <use xlink:href=\"#CMSS17-32\" transform=\"translate(46.843624 0) scale(0.996264)\"/>\n    </g>\n   </g>\n   <g id=\"text_30\">\n    <!-- 8 -->\n    <g style=\"fill: #08306b\" transform=\"translate(218.209795 216.895082) scale(0.1 -0.1)\">\n     <use xlink:href=\"#CMSS17-38\" transform=\"scale(0.996264)\"/>\n    </g>\n   </g>\n   <g id=\"text_31\">\n    <!-- 1716 -->\n    <g style=\"fill: #f7fbff\" transform=\"translate(263.960193 216.895082) scale(0.1 -0.1)\">\n     <use xlink:href=\"#CMSS17-31\" transform=\"scale(0.996264)\"/>\n     <use xlink:href=\"#CMSS17-37\" transform=\"translate(46.843624 0) scale(0.996264)\"/>\n     <use xlink:href=\"#CMSS17-31\" transform=\"translate(93.687247 0) scale(0.996264)\"/>\n     <use xlink:href=\"#CMSS17-36\" transform=\"translate(140.530871 0) scale(0.996264)\"/>\n    </g>\n   </g>\n   <g id=\"text_32\">\n    <!-- 23 -->\n    <g style=\"fill: #08306b\" transform=\"translate(322.163928 216.895082) scale(0.1 -0.1)\">\n     <use xlink:href=\"#CMSS17-32\" transform=\"scale(0.996264)\"/>\n     <use xlink:href=\"#CMSS17-33\" transform=\"translate(46.843624 0) scale(0.996264)\"/>\n    </g>\n   </g>\n   <g id=\"text_33\">\n    <!-- 579 -->\n    <g style=\"fill: #08306b\" transform=\"translate(106.78366 270.117482) scale(0.1 -0.1)\">\n     <use xlink:href=\"#CMSS17-35\" transform=\"scale(0.996264)\"/>\n     <use xlink:href=\"#CMSS17-37\" transform=\"translate(46.843624 0) scale(0.996264)\"/>\n     <use xlink:href=\"#CMSS17-39\" transform=\"translate(93.687247 0) scale(0.996264)\"/>\n    </g>\n   </g>\n   <g id=\"text_34\">\n    <!-- 1 -->\n    <g style=\"fill: #08306b\" transform=\"translate(164.987395 270.117482) scale(0.1 -0.1)\">\n     <use xlink:href=\"#CMSS17-31\" transform=\"scale(0.996264)\"/>\n    </g>\n   </g>\n   <g id=\"text_35\">\n    <!-- 419 -->\n    <g style=\"fill: #08306b\" transform=\"translate(213.22846 270.117482) scale(0.1 -0.1)\">\n     <use xlink:href=\"#CMSS17-34\" transform=\"scale(0.996264)\"/>\n     <use xlink:href=\"#CMSS17-31\" transform=\"translate(46.843624 0) scale(0.996264)\"/>\n     <use xlink:href=\"#CMSS17-39\" transform=\"translate(93.687247 0) scale(0.996264)\"/>\n    </g>\n   </g>\n   <g id=\"text_36\">\n    <!-- 69 -->\n    <g style=\"fill: #08306b\" transform=\"translate(268.941528 270.117482) scale(0.1 -0.1)\">\n     <use xlink:href=\"#CMSS17-36\" transform=\"scale(0.996264)\"/>\n     <use xlink:href=\"#CMSS17-39\" transform=\"translate(46.843624 0) scale(0.996264)\"/>\n    </g>\n   </g>\n   <g id=\"text_37\">\n    <!-- 946 -->\n    <g style=\"fill: #f7fbff\" transform=\"translate(319.67326 270.117482) scale(0.1 -0.1)\">\n     <use xlink:href=\"#CMSS17-39\" transform=\"scale(0.996264)\"/>\n     <use xlink:href=\"#CMSS17-34\" transform=\"translate(46.843624 0) scale(0.996264)\"/>\n     <use xlink:href=\"#CMSS17-36\" transform=\"translate(93.687247 0) scale(0.996264)\"/>\n    </g>\n   </g>\n   <g id=\"text_38\">\n    <!-- Confusion matrix for the SVM classifier (train set) -->\n    <g transform=\"translate(23.732899 22.126022) scale(0.2 -0.2)\">\n     <defs>\n      <path id=\"CMSS17-43\" d=\"M 3501 714 \nC 3072 427 2874 344 2355 344 \nC 1459 344 934 1303 934 2179 \nC 934 3112 1472 4032 2381 4032 \nC 2790 4032 3059 3918 3386 3715 \nL 3475 4217 \nC 3168 4370 2778 4440 2387 4440 \nC 1158 4440 397 3316 397 2179 \nC 397 927 1299 -64 2323 -64 \nC 2874 -64 3066 -19 3539 280 \nL 3501 714 \nz\n\" transform=\"scale(0.015625)\"/>\n      <path id=\"CMSS17-6e\" d=\"M 2618 1877 \nC 2618 2283 2522 2816 1798 2816 \nC 1389 2816 1120 2606 941 2389 \nL 941 2758 \nL 474 2758 \nL 474 0 \nL 960 0 \nL 960 1559 \nC 960 1964 1114 2428 1549 2428 \nC 2112 2428 2131 2048 2131 1829 \nL 2131 0 \nL 2618 0 \nL 2618 1877 \nz\n\" transform=\"scale(0.015625)\"/>\n      <path id=\"CMSS17-66\" d=\"M 1075 2368 \nL 1722 2368 \nL 1722 2737 \nL 1062 2737 \nL 1062 3559 \nC 1062 4014 1408 4092 1606 4092 \nC 1670 4092 1850 4092 2080 4009 \nL 2080 4429 \nC 1933 4461 1754 4480 1613 4480 \nC 1018 4480 602 3993 602 3359 \nL 602 2737 \nL 160 2737 \nL 160 2368 \nL 602 2368 \nL 602 0 \nL 1075 0 \nL 1075 2368 \nz\n\" transform=\"scale(0.015625)\"/>\n      <path id=\"CMSS17-6d\" d=\"M 4288 1877 \nC 4288 2308 4179 2816 3462 2816 \nC 2982 2816 2694 2516 2566 2331 \nC 2451 2670 2182 2816 1798 2816 \nC 1363 2816 1088 2568 941 2389 \nL 941 2758 \nL 474 2758 \nL 474 0 \nL 960 0 \nL 960 1559 \nC 960 1939 1101 2428 1555 2428 \nC 2138 2428 2138 2016 2138 1829 \nL 2138 0 \nL 2624 0 \nL 2624 1559 \nC 2624 1939 2765 2428 3219 2428 \nC 3802 2428 3802 2016 3802 1829 \nL 3802 0 \nL 4288 0 \nL 4288 1877 \nz\n\" transform=\"scale(0.015625)\"/>\n      <path id=\"CMSS17-78\" d=\"M 1587 1414 \nL 2656 2739 \nL 2099 2739 \nL 1363 1777 \nL 602 2739 \nL 32 2739 \nL 1139 1414 \nL 0 0 \nL 563 0 \nL 1363 1121 \nL 2195 0 \nL 2758 0 \nL 1587 1414 \nz\n\" transform=\"scale(0.015625)\"/>\n      <path id=\"CMSS17-56\" d=\"M 3910 4416 \nL 3411 4416 \nL 2304 1362 \nC 2272 1273 2074 688 2035 484 \nL 2029 484 \nC 1978 726 1773 1292 1664 1604 \nL 922 3672 \nL 646 4416 \nL 83 4416 \nL 1715 0 \nL 2278 0 \nL 3910 4416 \nz\n\" transform=\"scale(0.015625)\"/>\n      <path id=\"CMSS17-4d\" d=\"M 3194 2371 \nL 2886 1473 \nC 2835 1307 2662 791 2624 587 \nL 2618 587 \nC 2598 715 2560 849 2458 1174 \nC 2400 1365 2336 1562 2272 1741 \nL 1325 4416 \nL 576 4416 \nL 576 0 \nL 1075 0 \nL 1075 3900 \nL 1082 3900 \nC 1082 3894 1139 3613 1530 2499 \nL 2374 96 \nL 2848 96 \nL 3610 2231 \nC 3661 2378 3821 2843 3891 3066 \nC 3955 3257 4115 3728 4154 3913 \nL 4160 3913 \nL 4160 0 \nL 4666 0 \nL 4666 4416 \nL 3923 4416 \nL 3194 2371 \nz\n\" transform=\"scale(0.015625)\"/>\n      <path id=\"CMSS17-c\" d=\"M 2752 4416 \nL 2240 4416 \nL 2240 3906 \nL 2752 3906 \nL 2752 4416 \nz\nM 2733 2737 \nL 2259 2737 \nL 2259 0 \nL 2733 0 \nL 2733 2737 \nz\nM 1075 2368 \nL 1773 2368 \nL 1773 2737 \nL 1062 2737 \nL 1062 3578 \nC 1062 3919 1216 4092 1421 4092 \nC 1542 4092 1664 4056 1773 3992 \nL 1773 4410 \nC 1722 4428 1574 4480 1421 4480 \nC 941 4480 602 3993 602 3372 \nL 602 2737 \nL 160 2737 \nL 160 2368 \nL 602 2368 \nL 602 0 \nL 1075 0 \nL 1075 2368 \nz\n\" transform=\"scale(0.015625)\"/>\n      <path id=\"CMSS17-28\" d=\"M 1613 4768 \nC 1267 4417 474 3601 474 1588 \nC 474 -433 1267 -1243 1613 -1600 \nL 2003 -1600 \nC 1216 -784 960 357 960 1581 \nC 960 2798 1203 3946 2003 4768 \nL 1613 4768 \nz\n\" transform=\"scale(0.015625)\"/>\n      <path id=\"CMSS17-29\" d=\"M 723 -1600 \nC 1069 -1249 1862 -433 1862 1581 \nC 1862 3601 1069 4411 723 4768 \nL 333 4768 \nC 1120 3952 1376 2811 1376 1588 \nC 1376 370 1133 -778 333 -1600 \nL 723 -1600 \nz\n\" transform=\"scale(0.015625)\"/>\n     </defs>\n     <use xlink:href=\"#CMSS17-43\" transform=\"scale(0.996264)\"/>\n     <use xlink:href=\"#CMSS17-6f\" transform=\"translate(59.855772 0) scale(0.996264)\"/>\n     <use xlink:href=\"#CMSS17-6e\" transform=\"translate(106.699395 0) scale(0.996264)\"/>\n     <use xlink:href=\"#CMSS17-66\" transform=\"translate(154.904338 0) scale(0.996264)\"/>\n     <use xlink:href=\"#CMSS17-75\" transform=\"translate(183.530997 0) scale(0.996264)\"/>\n     <use xlink:href=\"#CMSS17-73\" transform=\"translate(231.73594 0) scale(0.996264)\"/>\n     <use xlink:href=\"#CMSS17-69\" transform=\"translate(267.649482 0) scale(0.996264)\"/>\n     <use xlink:href=\"#CMSS17-6f\" transform=\"translate(289.830205 0) scale(0.996264)\"/>\n     <use xlink:href=\"#CMSS17-6e\" transform=\"translate(336.673829 0) scale(0.996264)\"/>\n     <use xlink:href=\"#CMSS17-6d\" transform=\"translate(416.107885 0) scale(0.996264)\"/>\n     <use xlink:href=\"#CMSS17-61\" transform=\"translate(490.337139 0) scale(0.996264)\"/>\n     <use xlink:href=\"#CMSS17-74\" transform=\"translate(535.25906 0) scale(0.996264)\"/>\n     <use xlink:href=\"#CMSS17-72\" transform=\"translate(569.090626 0) scale(0.996264)\"/>\n     <use xlink:href=\"#CMSS17-69\" transform=\"translate(601.000399 0) scale(0.996264)\"/>\n     <use xlink:href=\"#CMSS17-78\" transform=\"translate(623.181122 0) scale(0.996264)\"/>\n     <use xlink:href=\"#CMSS17-66\" transform=\"translate(697.410376 0) scale(0.996264)\"/>\n     <use xlink:href=\"#CMSS17-6f\" transform=\"translate(726.037035 0) scale(0.996264)\"/>\n     <use xlink:href=\"#CMSS17-72\" transform=\"translate(770.278205 0) scale(0.996264)\"/>\n     <use xlink:href=\"#CMSS17-74\" transform=\"translate(833.41709 0) scale(0.996264)\"/>\n     <use xlink:href=\"#CMSS17-68\" transform=\"translate(867.248657 0) scale(0.996264)\"/>\n     <use xlink:href=\"#CMSS17-65\" transform=\"translate(915.4536 0) scale(0.996264)\"/>\n     <use xlink:href=\"#CMSS17-53\" transform=\"translate(988.321535 0) scale(0.996264)\"/>\n     <use xlink:href=\"#CMSS17-56\" transform=\"translate(1040.370051 0) scale(0.996264)\"/>\n     <use xlink:href=\"#CMSS17-4d\" transform=\"translate(1102.587906 0) scale(0.996264)\"/>\n     <use xlink:href=\"#CMSS17-63\" transform=\"translate(1215.493049 0) scale(0.996264)\"/>\n     <use xlink:href=\"#CMSS17-6c\" transform=\"translate(1257.131871 0) scale(0.996264)\"/>\n     <use xlink:href=\"#CMSS17-61\" transform=\"translate(1279.312594 0) scale(0.996264)\"/>\n     <use xlink:href=\"#CMSS17-73\" transform=\"translate(1324.234514 0) scale(0.996264)\"/>\n     <use xlink:href=\"#CMSS17-73\" transform=\"translate(1360.148056 0) scale(0.996264)\"/>\n     <use xlink:href=\"#CMSS17-69\" transform=\"translate(1396.061598 0) scale(0.996264)\"/>\n     <use xlink:href=\"#CMSS17-c\" transform=\"translate(1418.242321 0) scale(0.996264)\"/>\n     <use xlink:href=\"#CMSS17-65\" transform=\"translate(1468.369059 0) scale(0.996264)\"/>\n     <use xlink:href=\"#CMSS17-72\" transform=\"translate(1510.007881 0) scale(0.996264)\"/>\n     <use xlink:href=\"#CMSS17-28\" transform=\"translate(1573.146766 0) scale(0.996264)\"/>\n     <use xlink:href=\"#CMSS17-74\" transform=\"translate(1609.58068 0) scale(0.996264)\"/>\n     <use xlink:href=\"#CMSS17-72\" transform=\"translate(1643.412247 0) scale(0.996264)\"/>\n     <use xlink:href=\"#CMSS17-61\" transform=\"translate(1675.322019 0) scale(0.996264)\"/>\n     <use xlink:href=\"#CMSS17-69\" transform=\"translate(1720.24394 0) scale(0.996264)\"/>\n     <use xlink:href=\"#CMSS17-6e\" transform=\"translate(1742.424663 0) scale(0.996264)\"/>\n     <use xlink:href=\"#CMSS17-73\" transform=\"translate(1821.858719 0) scale(0.996264)\"/>\n     <use xlink:href=\"#CMSS17-65\" transform=\"translate(1857.772261 0) scale(0.996264)\"/>\n     <use xlink:href=\"#CMSS17-74\" transform=\"translate(1899.411083 0) scale(0.996264)\"/>\n     <use xlink:href=\"#CMSS17-29\" transform=\"translate(1933.24265 0) scale(0.996264)\"/>\n    </g>\n   </g>\n  </g>\n  <g id=\"axes_2\">\n   <g id=\"patch_7\">\n    <path d=\"M 371.612463 294.238022 \nL 384.918063 294.238022 \nL 384.918063 28.126022 \nL 371.612463 28.126022 \nz\n\" style=\"fill: #ffffff\"/>\n   </g>\n   <image xlink:href=\"data:image/png;base64,\niVBORw0KGgoAAAANSUhEUgAAABMAAAFxCAYAAACRG5MpAAAByElEQVR4nO2c223EMBADlcD9t5uPAL6rgcJ8DECyAMIjrnYl3+Pn7//zOZAezuqc53M4t1/M6ZzzgA92HtALxlyaudnSvDADnwxdM28A8JNVpInuTbRrlKQpbo7wDLCOupI0UcyzNHOzjuZongGkmRhzacZmHaNut7oLs6WZqiTNNcdcG3W5luaF2ZrjhdlGXaqlmcub5vOCCWwG5GJnwNuBuTRzM29zZGeAtjTe7YDcTIupTVN92CObI2alxlyauRn5ZOZRx3nRzXE7IDYz9zPQjC0N7/EALQ0tJlsaHTcUb5ravSleM3YGaDFLXkWwmOI0pUXbsmZiTNSs4yLmbdva6VSzZpiVGlPczzowtWmaZwBqpsWEz2dWTPhTRCumNk3xe9rNgBszzGtpXkh8dPe+vtkMyM28mC3HUGuaLc2xBnM7IFQJZs8OwLyGeaFhXplhXu7mKF2zYeZ6XvCKIsbUpqne6KiZFxMsDfEPtVtuKFLMlUYuMebSjFWCudLIJcZcmrFKMFcauYaZC/5PEi0mvDdRM+7boXRpDDM382JyT4auWQmmujSGmZsNMxSMSX64AHcN7ZqVlMYwL8ykc7PkeDDMXCjmF0ciG57DgRFAAAAAAElFTkSuQmCC\" id=\"image548b2a5642\" transform=\"scale(1 -1) translate(0 -265.68)\" x=\"371.52\" y=\"-28.08\" width=\"13.68\" height=\"265.68\"/>\n   <g id=\"matplotlib.axis_3\"/>\n   <g id=\"matplotlib.axis_4\">\n    <g id=\"ytick_6\">\n     <g id=\"line2d_11\">\n      <defs>\n       <path id=\"m87ff406c87\" d=\"M 0 0 \nL 3.5 0 \n\" style=\"stroke: #000000; stroke-width: 0.8\"/>\n      </defs>\n      <g>\n       <use xlink:href=\"#m87ff406c87\" x=\"384.918063\" y=\"294.238022\" style=\"stroke: #000000; stroke-width: 0.8\"/>\n      </g>\n     </g>\n     <g id=\"text_39\">\n      <!-- $\\mathdefault{0}$ -->\n      <g transform=\"translate(391.918063 298.389112) scale(0.12 -0.12)\">\n       <defs>\n        <path id=\"CMR17-30\" d=\"M 2688 2025 \nC 2688 2416 2682 3080 2413 3591 \nC 2176 4039 1798 4198 1466 4198 \nC 1158 4198 768 4058 525 3597 \nC 269 3118 243 2524 243 2025 \nC 243 1661 250 1106 448 619 \nC 723 -39 1216 -128 1466 -128 \nC 1760 -128 2208 -7 2470 600 \nC 2662 1042 2688 1559 2688 2025 \nz\nM 1466 -26 \nC 1056 -26 813 325 723 812 \nC 653 1188 653 1738 653 2096 \nC 653 2588 653 2997 736 3387 \nC 858 3929 1216 4096 1466 4096 \nC 1728 4096 2067 3923 2189 3400 \nC 2272 3036 2278 2607 2278 2096 \nC 2278 1680 2278 1169 2202 792 \nC 2067 95 1690 -26 1466 -26 \nz\n\" transform=\"scale(0.015625)\"/>\n       </defs>\n       <use xlink:href=\"#CMR17-30\" transform=\"scale(0.996264)\"/>\n      </g>\n     </g>\n    </g>\n    <g id=\"ytick_7\">\n     <g id=\"line2d_12\">\n      <g>\n       <use xlink:href=\"#m87ff406c87\" x=\"384.918063\" y=\"258.98206\" style=\"stroke: #000000; stroke-width: 0.8\"/>\n      </g>\n     </g>\n     <g id=\"text_40\">\n      <!-- $\\mathdefault{250}$ -->\n      <g transform=\"translate(391.918063 263.13315) scale(0.12 -0.12)\">\n       <defs>\n        <path id=\"CMR17-32\" d=\"M 2669 989 \nL 2554 989 \nC 2490 536 2438 459 2413 420 \nC 2381 369 1920 369 1830 369 \nL 602 369 \nC 832 619 1280 1072 1824 1597 \nC 2214 1967 2669 2402 2669 3035 \nC 2669 3790 2067 4224 1395 4224 \nC 691 4224 262 3604 262 3030 \nC 262 2780 448 2748 525 2748 \nC 589 2748 781 2787 781 3010 \nC 781 3207 614 3264 525 3264 \nC 486 3264 448 3258 422 3245 \nC 544 3790 915 4058 1306 4058 \nC 1862 4058 2227 3617 2227 3035 \nC 2227 2479 1901 2000 1536 1584 \nL 262 146 \nL 262 0 \nL 2515 0 \nL 2669 989 \nz\n\" transform=\"scale(0.015625)\"/>\n        <path id=\"CMR17-35\" d=\"M 730 3692 \nC 794 3666 1056 3584 1325 3584 \nC 1920 3584 2246 3911 2432 4100 \nC 2432 4157 2432 4192 2394 4192 \nC 2387 4192 2374 4192 2323 4163 \nC 2099 4058 1837 3973 1517 3973 \nC 1325 3973 1037 3999 723 4139 \nC 653 4171 640 4171 634 4171 \nC 602 4171 595 4164 595 4037 \nL 595 2203 \nC 595 2089 595 2057 659 2057 \nC 691 2057 704 2070 736 2114 \nC 941 2401 1222 2522 1542 2522 \nC 1766 2522 2246 2382 2246 1289 \nC 2246 1085 2246 715 2054 421 \nC 1894 159 1645 25 1370 25 \nC 947 25 518 320 403 814 \nC 429 807 480 795 506 795 \nC 589 795 749 840 749 1038 \nC 749 1210 627 1280 506 1280 \nC 358 1280 262 1190 262 1011 \nC 262 454 704 -128 1382 -128 \nC 2042 -128 2669 440 2669 1264 \nC 2669 2030 2170 2624 1549 2624 \nC 1222 2624 947 2503 730 2274 \nL 730 3692 \nz\n\" transform=\"scale(0.015625)\"/>\n       </defs>\n       <use xlink:href=\"#CMR17-32\" transform=\"scale(0.996264)\"/>\n       <use xlink:href=\"#CMR17-35\" transform=\"translate(45.690477 0) scale(0.996264)\"/>\n       <use xlink:href=\"#CMR17-30\" transform=\"translate(91.380954 0) scale(0.996264)\"/>\n      </g>\n     </g>\n    </g>\n    <g id=\"ytick_8\">\n     <g id=\"line2d_13\">\n      <g>\n       <use xlink:href=\"#m87ff406c87\" x=\"384.918063\" y=\"223.726098\" style=\"stroke: #000000; stroke-width: 0.8\"/>\n      </g>\n     </g>\n     <g id=\"text_41\">\n      <!-- $\\mathdefault{500}$ -->\n      <g transform=\"translate(391.918063 227.877188) scale(0.12 -0.12)\">\n       <use xlink:href=\"#CMR17-35\" transform=\"scale(0.996264)\"/>\n       <use xlink:href=\"#CMR17-30\" transform=\"translate(45.690477 0) scale(0.996264)\"/>\n       <use xlink:href=\"#CMR17-30\" transform=\"translate(91.380954 0) scale(0.996264)\"/>\n      </g>\n     </g>\n    </g>\n    <g id=\"ytick_9\">\n     <g id=\"line2d_14\">\n      <g>\n       <use xlink:href=\"#m87ff406c87\" x=\"384.918063\" y=\"188.470137\" style=\"stroke: #000000; stroke-width: 0.8\"/>\n      </g>\n     </g>\n     <g id=\"text_42\">\n      <!-- $\\mathdefault{750}$ -->\n      <g transform=\"translate(391.918063 192.621226) scale(0.12 -0.12)\">\n       <defs>\n        <path id=\"CMR17-37\" d=\"M 2886 3941 \nL 2886 4081 \nL 1382 4081 \nC 634 4081 621 4165 595 4288 \nL 480 4288 \nL 294 3094 \nL 410 3094 \nC 429 3215 474 3540 550 3661 \nC 589 3712 1062 3712 1171 3712 \nL 2579 3712 \nL 1869 2661 \nC 1395 1954 1069 999 1069 165 \nC 1069 89 1069 -128 1299 -128 \nC 1530 -128 1530 89 1530 171 \nL 1530 465 \nC 1530 1508 1709 2196 2003 2636 \nL 2886 3941 \nz\n\" transform=\"scale(0.015625)\"/>\n       </defs>\n       <use xlink:href=\"#CMR17-37\" transform=\"scale(0.996264)\"/>\n       <use xlink:href=\"#CMR17-35\" transform=\"translate(45.690477 0) scale(0.996264)\"/>\n       <use xlink:href=\"#CMR17-30\" transform=\"translate(91.380954 0) scale(0.996264)\"/>\n      </g>\n     </g>\n    </g>\n    <g id=\"ytick_10\">\n     <g id=\"line2d_15\">\n      <g>\n       <use xlink:href=\"#m87ff406c87\" x=\"384.918063\" y=\"153.214175\" style=\"stroke: #000000; stroke-width: 0.8\"/>\n      </g>\n     </g>\n     <g id=\"text_43\">\n      <!-- $\\mathdefault{1000}$ -->\n      <g transform=\"translate(391.918063 157.365265) scale(0.12 -0.12)\">\n       <defs>\n        <path id=\"CMR17-31\" d=\"M 1702 4058 \nC 1702 4192 1696 4192 1606 4192 \nC 1357 3916 979 3827 621 3827 \nC 602 3827 570 3827 563 3808 \nC 557 3795 557 3782 557 3648 \nC 755 3648 1088 3686 1344 3839 \nL 1344 461 \nC 1344 236 1331 160 781 160 \nL 589 160 \nL 589 0 \nC 896 0 1216 0 1523 0 \nC 1830 0 2150 0 2458 0 \nL 2458 160 \nL 2266 160 \nC 1715 160 1702 230 1702 458 \nL 1702 4058 \nz\n\" transform=\"scale(0.015625)\"/>\n       </defs>\n       <use xlink:href=\"#CMR17-31\" transform=\"scale(0.996264)\"/>\n       <use xlink:href=\"#CMR17-30\" transform=\"translate(45.690477 0) scale(0.996264)\"/>\n       <use xlink:href=\"#CMR17-30\" transform=\"translate(91.380954 0) scale(0.996264)\"/>\n       <use xlink:href=\"#CMR17-30\" transform=\"translate(137.071431 0) scale(0.996264)\"/>\n      </g>\n     </g>\n    </g>\n    <g id=\"ytick_11\">\n     <g id=\"line2d_16\">\n      <g>\n       <use xlink:href=\"#m87ff406c87\" x=\"384.918063\" y=\"117.958213\" style=\"stroke: #000000; stroke-width: 0.8\"/>\n      </g>\n     </g>\n     <g id=\"text_44\">\n      <!-- $\\mathdefault{1250}$ -->\n      <g transform=\"translate(391.918063 122.109303) scale(0.12 -0.12)\">\n       <use xlink:href=\"#CMR17-31\" transform=\"scale(0.996264)\"/>\n       <use xlink:href=\"#CMR17-32\" transform=\"translate(45.690477 0) scale(0.996264)\"/>\n       <use xlink:href=\"#CMR17-35\" transform=\"translate(91.380954 0) scale(0.996264)\"/>\n       <use xlink:href=\"#CMR17-30\" transform=\"translate(137.071431 0) scale(0.996264)\"/>\n      </g>\n     </g>\n    </g>\n    <g id=\"ytick_12\">\n     <g id=\"line2d_17\">\n      <g>\n       <use xlink:href=\"#m87ff406c87\" x=\"384.918063\" y=\"82.702251\" style=\"stroke: #000000; stroke-width: 0.8\"/>\n      </g>\n     </g>\n     <g id=\"text_45\">\n      <!-- $\\mathdefault{1500}$ -->\n      <g transform=\"translate(391.918063 86.853341) scale(0.12 -0.12)\">\n       <use xlink:href=\"#CMR17-31\" transform=\"scale(0.996264)\"/>\n       <use xlink:href=\"#CMR17-35\" transform=\"translate(45.690477 0) scale(0.996264)\"/>\n       <use xlink:href=\"#CMR17-30\" transform=\"translate(91.380954 0) scale(0.996264)\"/>\n       <use xlink:href=\"#CMR17-30\" transform=\"translate(137.071431 0) scale(0.996264)\"/>\n      </g>\n     </g>\n    </g>\n    <g id=\"ytick_13\">\n     <g id=\"line2d_18\">\n      <g>\n       <use xlink:href=\"#m87ff406c87\" x=\"384.918063\" y=\"47.446289\" style=\"stroke: #000000; stroke-width: 0.8\"/>\n      </g>\n     </g>\n     <g id=\"text_46\">\n      <!-- $\\mathdefault{1750}$ -->\n      <g transform=\"translate(391.918063 51.597379) scale(0.12 -0.12)\">\n       <use xlink:href=\"#CMR17-31\" transform=\"scale(0.996264)\"/>\n       <use xlink:href=\"#CMR17-37\" transform=\"translate(45.690477 0) scale(0.996264)\"/>\n       <use xlink:href=\"#CMR17-35\" transform=\"translate(91.380954 0) scale(0.996264)\"/>\n       <use xlink:href=\"#CMR17-30\" transform=\"translate(137.071431 0) scale(0.996264)\"/>\n      </g>\n     </g>\n    </g>\n   </g>\n   <g id=\"LineCollection_1\"/>\n   <g id=\"patch_8\">\n    <path d=\"M 371.612463 294.238022 \nL 378.265263 294.238022 \nL 384.918063 294.238022 \nL 384.918063 28.126022 \nL 378.265263 28.126022 \nL 371.612463 28.126022 \nL 371.612463 294.238022 \nz\n\" style=\"fill: none; stroke: #000000; stroke-width: 0.8; stroke-linejoin: miter; stroke-linecap: square\"/>\n   </g>\n  </g>\n </g>\n <defs>\n  <clipPath id=\"p900bfddd5e\">\n   <rect x=\"87.644463\" y=\"28.126022\" width=\"266.112\" height=\"266.112\"/>\n  </clipPath>\n </defs>\n</svg>\n"
     },
     "metadata": {},
     "output_type": "display_data"
    }
   ],
   "source": [
    "# https://scikit-learn.org/stable/modules/generated/sklearn.metrics.ConfusionMatrixDisplay.html\n",
    "# confusion matrix for the train set \n",
    "\n",
    "plt.figure(figsize=(20,20))\n",
    "cm = confusion_matrix(df_train['true label'], df_train['predicted'],labels=['T-shirt/top','Trouser', 'Pullover', 'Dress', 'Shirt'])\n",
    "disp = ConfusionMatrixDisplay(confusion_matrix=cm, display_labels=['T-shirt/top','Trouser', 'Pullover', 'Dress', 'Shirt'])\n",
    "disp.plot(cmap='Blues')\n",
    "plt.title('Confusion matrix for the SVM classifier (train set)')\n",
    "plt.savefig(\"confusion_svm_train.png\", dpi=300, bbox_inches='tight')\n",
    "plt.show()"
   ],
   "metadata": {
    "collapsed": false,
    "ExecuteTime": {
     "end_time": "2024-01-02T08:25:27.954504500Z",
     "start_time": "2024-01-02T08:25:26.393947200Z"
    }
   },
   "id": "e3eead6ebeea48b3"
  },
  {
   "cell_type": "code",
   "execution_count": 49,
   "outputs": [
    {
     "data": {
      "text/plain": "(array([0.64666137, 0.99159222, 0.78148855, 0.85714286, 0.63789616]),\n array([0.80029513, 0.96918336, 0.8185907 , 0.85586035, 0.46971202]),\n array([0.71532205, 0.98025974, 0.79960947, 0.85650112, 0.54103517]),\n array([2033, 1947, 2001, 2005, 2014], dtype=int64))"
     },
     "execution_count": 49,
     "metadata": {},
     "output_type": "execute_result"
    }
   ],
   "source": [
    "precision_recall_fscore_support(df_train['true label'], df_train['predicted'], labels=['T-shirt/top','Trouser', 'Pullover', 'Dress', 'Shirt'])\n"
   ],
   "metadata": {
    "collapsed": false,
    "ExecuteTime": {
     "end_time": "2024-01-02T08:25:28.102093900Z",
     "start_time": "2024-01-02T08:25:27.956515Z"
    }
   },
   "id": "7b6b5098b1c47db6"
  },
  {
   "cell_type": "markdown",
   "source": [
    "# Plot decision boundary"
   ],
   "metadata": {
    "collapsed": false
   },
   "id": "2093a9663ebdc5cc"
  },
  {
   "cell_type": "code",
   "execution_count": 50,
   "outputs": [],
   "source": [
    "from mlxtend.plotting import plot_decision_regions\n",
    "# https://rasbt.github.io/mlxtend/user_guide/plotting/plot_decision_regions/"
   ],
   "metadata": {
    "collapsed": false,
    "ExecuteTime": {
     "end_time": "2024-01-02T08:25:28.103092900Z",
     "start_time": "2024-01-02T08:25:28.094097500Z"
    }
   },
   "id": "e4ba87687786cae1"
  },
  {
   "cell_type": "code",
   "execution_count": 51,
   "outputs": [],
   "source": [
    "#https://stackoverflow.com/questions/46194971/add-legend-names-to-a-svm-plot-in-matplotlib\n",
    "#https://stackoverflow.com/questions/8023306/get-key-by-value-in-dictionary?page=2&tab=votes\n",
    "# turn X_test to np array\n",
    "X_test = np.array(X_test)\n",
    "# turn Y_test to np array and map the labels into numbers\n",
    "fashion_dictionary = {0: 'T-shirt/top', 1: 'Trouser', 2: 'Pullover', 3: 'Dress',\n",
    "                      4: 'Shirt'}\n",
    "# invert the dictionary so the keyes are the labels\n",
    "fashion_dict = {v: k for k, v in fashion_dictionary.items()}\n",
    "Y_test = [fashion_dict[i] for i in Y_test]\n",
    "\n",
    "# y to np array\n",
    "Y_test = np.array(Y_test)"
   ],
   "metadata": {
    "collapsed": false,
    "ExecuteTime": {
     "end_time": "2024-01-02T08:25:28.145974700Z",
     "start_time": "2024-01-02T08:25:28.108371500Z"
    }
   },
   "id": "fbccac74536ee656"
  },
  {
   "cell_type": "code",
   "execution_count": 35,
   "outputs": [
    {
     "name": "stderr",
     "output_type": "stream",
     "text": [
      "C:\\Users\\Petrb\\AppData\\Local\\Programs\\Python\\Python311\\Lib\\site-packages\\mlxtend\\plotting\\decision_regions.py:346: UserWarning: You passed a edgecolor/edgecolors ('black') for an unfilled marker ('x').  Matplotlib is ignoring the edgecolor in favor of the facecolor.  This behavior may change in the future.\n",
      "  ax.scatter(\n"
     ]
    }
   ],
   "source": [
    "# https://rasbt.github.io/mlxtend/user_guide/plotting/plot_decision_regions/\n",
    "svm = SVC(kernel='rbf', C=10, gamma=0.01)\n",
    "svm.fit(X_test, Y_test)\n",
    "fig = plt.figure(figsize=(10,10))\n",
    "# labels for the legends in dictionary \n",
    "labels = ['T-shirt/top','Trouser', 'Pullover', 'Dress', 'Shirt']\n",
    "plot_decision_regions(X_test, Y_test, clf=svm, legend=2)\n",
    "plt.title('SVM Decision Region Boundary')\n",
    "#https://stackoverflow.com/questions/46194971/add-legend-names-to-a-svm-plot-in-matplotlib\n",
    "L = plt.legend()\n",
    "L.get_texts()[0].set_text('T-shirt/top')\n",
    "L.get_texts()[1].set_text('Trouser')\n",
    "L.get_texts()[2].set_text('Pullover')\n",
    "L.get_texts()[3].set_text('Dress')\n",
    "L.get_texts()[4].set_text('Shirt')\n",
    "plt.xlabel('LDA1')\n",
    "plt.ylabel('LDA2')\n",
    "plt.savefig(\"svm_decision_boundary.png\", dpi=300, bbox_inches='tight')\n",
    "plt.show()"
   ],
   "metadata": {
    "collapsed": false,
    "ExecuteTime": {
     "end_time": "2024-01-02T07:44:14.026894200Z",
     "start_time": "2024-01-02T07:25:33.312597400Z"
    }
   },
   "id": "b85ac8aa66860eeb"
  }
 ],
 "metadata": {
  "kernelspec": {
   "display_name": "Python 3",
   "language": "python",
   "name": "python3"
  },
  "language_info": {
   "codemirror_mode": {
    "name": "ipython",
    "version": 2
   },
   "file_extension": ".py",
   "mimetype": "text/x-python",
   "name": "python",
   "nbconvert_exporter": "python",
   "pygments_lexer": "ipython2",
   "version": "2.7.6"
  }
 },
 "nbformat": 4,
 "nbformat_minor": 5
}
