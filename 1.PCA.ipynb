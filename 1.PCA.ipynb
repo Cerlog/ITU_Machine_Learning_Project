{
 "cells": [
  {
   "cell_type": "markdown",
   "id": "42dcb32cb2fa1959",
   "metadata": {},
   "source": [
    "# This PCA implementation is based on the TA (PCA) session of Chrisanna Cornish on 17/11/2023\n",
    "\n",
    "# Cornish, C. K. (2023). Principal component analysis. Excercise Session 21, IT University of Copenhagen, 17/11/202"
   ]
  },
  {
   "cell_type": "markdown",
   "id": "d2462fd7e7ecc839",
   "metadata": {},
   "source": [
    "# Imports and plotting matter"
   ]
  },
  {
   "cell_type": "code",
   "execution_count": null,
   "id": "346f0e1804b15161",
   "metadata": {
    "is_executing": true
   },
   "outputs": [],
   "source": [
    "import numpy as np\n",
    "import seaborn as sns\n",
    "import pandas as pd\n",
    "import matplotlib.pyplot as plt\n",
    "import matplotlib as mpl\n",
    "mpl.rcParams.update(mpl.rcParamsDefault)\n",
    "plt.rcParams.update({'text.usetex': True}) # import to make plots nicer\n",
    "%config InlineBackend.figure_format = 'svg' # import to make plots nicer\n",
    "# if program says latex error, please mute the above line (8) \n",
    "\n",
    "# Set global font size for title, x-label, and y-label\n",
    "plt.rcParams['axes.titlesize'] = 20\n",
    "plt.rcParams['axes.labelsize'] = 16\n",
    "# Set global font size for x and y tick labels\n",
    "plt.rcParams['xtick.labelsize'] = 16\n",
    "plt.rcParams['ytick.labelsize'] = 16\n",
    "# Set global font size for the legend\n",
    "plt.rcParams['legend.fontsize'] = 16"
   ]
  },
  {
   "cell_type": "markdown",
   "id": "ae21d241df31a939",
   "metadata": {},
   "source": [
    "# Loading the datset "
   ]
  },
  {
   "cell_type": "code",
   "execution_count": null,
   "id": "484ef2bb3410880d",
   "metadata": {
    "ExecuteTime": {
     "end_time": "2024-01-02T11:54:24.085626Z",
     "start_time": "2024-01-02T11:54:22.768393400Z"
    }
   },
   "outputs": [],
   "source": [
    "# loading the training set \n",
    "train = np.load('fashion_train.npy')"
   ]
  },
  {
   "cell_type": "markdown",
   "id": "5e1cccc1bc28a64e",
   "metadata": {},
   "source": [
    "# Splitting the dataset into features and labels"
   ]
  },
  {
   "cell_type": "code",
   "execution_count": null,
   "id": "35233cb9b930408b",
   "metadata": {
    "ExecuteTime": {
     "end_time": "2024-01-02T11:54:25.423632200Z",
     "start_time": "2024-01-02T11:54:23.881048600Z"
    }
   },
   "outputs": [],
   "source": [
    "# train set splitted into observations and labels \n",
    "Y_train = train[:,-1] \n",
    "X_train = train[:,:-1] "
   ]
  },
  {
   "cell_type": "markdown",
   "id": "1f5626a94209020f",
   "metadata": {},
   "source": [
    "# Replace the integer labels with strings"
   ]
  },
  {
   "cell_type": "code",
   "execution_count": null,
   "id": "6eaca2fa44e597f8",
   "metadata": {
    "ExecuteTime": {
     "end_time": "2024-01-02T11:54:26.527606200Z",
     "start_time": "2024-01-02T11:54:24.015975100Z"
    }
   },
   "outputs": [],
   "source": [
    "# https://www.geeksforgeeks.org/replacing-strings-with-numbers-in-python-for-data-analysis/\n",
    "fashion_dict = {0: 'T-shirt-top', 1: 'Trouser', 2: 'Pullover', 3: 'Dress',\n",
    "        4: 'Shirt'}\n",
    "Y_train = [fashion_dict[i] for i in Y_train]"
   ]
  },
  {
   "cell_type": "markdown",
   "id": "853cd0d2b5f2252a",
   "metadata": {},
   "source": [
    "# Data preprocessing "
   ]
  },
  {
   "cell_type": "code",
   "execution_count": null,
   "id": "2018e946279ff5ea",
   "metadata": {
    "ExecuteTime": {
     "end_time": "2024-01-02T11:54:27.707548100Z",
     "start_time": "2024-01-02T11:54:26.521086500Z"
    }
   },
   "outputs": [],
   "source": [
    "#https://scikit-learn.org/stable/modules/generated/sklearn.preprocessing.StandardScaler.html\n",
    "from sklearn.preprocessing import StandardScaler"
   ]
  },
  {
   "cell_type": "code",
   "execution_count": null,
   "id": "aeeafef6043055a9",
   "metadata": {
    "ExecuteTime": {
     "end_time": "2024-01-02T11:54:29.984661700Z",
     "start_time": "2024-01-02T11:54:27.516346500Z"
    }
   },
   "outputs": [],
   "source": [
    "stdscalar = StandardScaler()"
   ]
  },
  {
   "cell_type": "code",
   "execution_count": null,
   "id": "e8b3c723c25ee4a2",
   "metadata": {
    "ExecuteTime": {
     "end_time": "2024-01-02T11:54:31.435927300Z",
     "start_time": "2024-01-02T11:54:28.815555700Z"
    }
   },
   "outputs": [],
   "source": [
    "X_train_std = stdscalar.fit_transform(X_train)"
   ]
  },
  {
   "cell_type": "markdown",
   "id": "c424ffa05f0a28f7",
   "metadata": {},
   "source": [
    "Our goal is to maximize Var$(a_1^T X) = a_1^T S a_1 = a_1^T \\lambda_1 a_1 $ \\\\ \n",
    "Where $S$ is the covariance matrix, $a_1$ is the eigenvector and $\\lambda_1$ is the eigenvalue"
   ]
  },
  {
   "cell_type": "markdown",
   "id": "cd68f0cd65d35dd7",
   "metadata": {},
   "source": [
    "# Calculating the covariance matrix "
   ]
  },
  {
   "cell_type": "code",
   "execution_count": null,
   "id": "95242c337be89c37",
   "metadata": {
    "ExecuteTime": {
     "end_time": "2024-01-02T11:54:31.622923Z",
     "start_time": "2024-01-02T11:54:31.092703400Z"
    }
   },
   "outputs": [],
   "source": [
    "cov_mat = np.cov(X_train_std.T)"
   ]
  },
  {
   "cell_type": "markdown",
   "id": "fda748940a043a92",
   "metadata": {},
   "source": [
    "# Eigenvalue decomposition"
   ]
  },
  {
   "cell_type": "code",
   "execution_count": null,
   "id": "6760eeeb1779c52f",
   "metadata": {
    "ExecuteTime": {
     "end_time": "2024-01-02T11:54:33.537912Z",
     "start_time": "2024-01-02T11:54:31.228932800Z"
    }
   },
   "outputs": [],
   "source": [
    "# save the eigenvalues and eigenvectors\n",
    "eigen_vals, eigen_vecs = np.linalg.eig(cov_mat)\n",
    "\n",
    "# sorting the eigenvalues and eigenvectors in desceding order\n",
    "order = np.argsort(eigen_vals)[::-1]\n",
    "\n",
    "# ordering the matrices, so we can have the index of the largest one\n",
    "sort_eigen_vals = eigen_vals[order]\n",
    "sort_eigen_vecs = eigen_vecs[:,order]"
   ]
  },
  {
   "cell_type": "code",
   "execution_count": null,
   "id": "b17a24240f5859a9",
   "metadata": {
    "ExecuteTime": {
     "end_time": "2024-01-02T11:54:33.607443300Z",
     "start_time": "2024-01-02T11:54:33.534125Z"
    }
   },
   "outputs": [],
   "source": [
    "# extracting first 5 eigenvalues\n",
    "sort_eigen_vals = sort_eigen_vals[:5]\n",
    "sort_eigen_vals"
   ]
  },
  {
   "cell_type": "code",
   "execution_count": null,
   "id": "4a17420e6374861",
   "metadata": {
    "ExecuteTime": {
     "end_time": "2024-01-02T11:54:36.599234200Z",
     "start_time": "2024-01-02T11:54:34.987498Z"
    }
   },
   "outputs": [],
   "source": [
    "# principal components projection\n",
    "pcs = X_train_std @ sort_eigen_vecs"
   ]
  },
  {
   "cell_type": "code",
   "execution_count": null,
   "id": "6857747df532b554",
   "metadata": {
    "ExecuteTime": {
     "end_time": "2024-01-02T11:54:39.702610200Z",
     "start_time": "2024-01-02T11:54:36.971627400Z"
    }
   },
   "outputs": [],
   "source": [
    "df = pd.DataFrame(pcs)"
   ]
  },
  {
   "cell_type": "markdown",
   "id": "8edb88b674f91b1d",
   "metadata": {},
   "source": [
    "# scatter plot of the first two principal components"
   ]
  },
  {
   "cell_type": "code",
   "execution_count": null,
   "id": "638ee1cfb855e0a3",
   "metadata": {
    "ExecuteTime": {
     "end_time": "2024-01-02T11:54:41.505920300Z",
     "start_time": "2024-01-02T11:54:38.790164700Z"
    }
   },
   "outputs": [],
   "source": [
    "# extracting the first two principal components\n",
    "PCA = pcs[:,:2]"
   ]
  },
  {
   "cell_type": "code",
   "execution_count": null,
   "id": "187f9973cdc7c10c",
   "metadata": {
    "ExecuteTime": {
     "end_time": "2024-01-02T11:54:41.568687300Z",
     "start_time": "2024-01-02T11:54:38.807644300Z"
    }
   },
   "outputs": [],
   "source": [
    "# saving the first two principal components in a dataframe\n",
    "principal_df = pd.DataFrame(PCA, columns=['PC1', 'PC2'])"
   ]
  },
  {
   "cell_type": "code",
   "execution_count": null,
   "id": "9033f6ebc69f3479",
   "metadata": {
    "ExecuteTime": {
     "end_time": "2024-01-02T11:54:55.725341600Z",
     "start_time": "2024-01-02T11:54:55.676606600Z"
    }
   },
   "outputs": [],
   "source": [
    "# save principal_df as a csv file\n",
    "#principal_df.to_csv('principal_df.csv')"
   ]
  },
  {
   "cell_type": "code",
   "execution_count": null,
   "id": "ad3acb058a09a912",
   "metadata": {
    "ExecuteTime": {
     "end_time": "2024-01-02T11:55:02.992362600Z",
     "start_time": "2024-01-02T11:54:57.466267600Z"
    }
   },
   "outputs": [],
   "source": [
    "# plotting the scatterplot of PC1 and PC2\n",
    "plt.figure(figsize = (8,8))\n",
    "sns.scatterplot(data = principal_df, x ='PC1', y ='PC2', palette='nipy_spectral', hue=Y_train, alpha=0.5, s=50)\n",
    "plt.legend(bbox_to_anchor=(0.70, 0.72))\n",
    "plt.title('PC1 and PC2 of the Fashion MNIST dataset (from scratch)')\n",
    "plt.savefig('PCA_from_scratch.png', dpi=300, bbox_inches='tight')\n",
    "plt.show();"
   ]
  },
  {
   "cell_type": "markdown",
   "id": "9007b386b87ce056",
   "metadata": {},
   "source": [
    "# Plotting the pair plot of the first five principal components"
   ]
  },
  {
   "cell_type": "code",
   "execution_count": null,
   "id": "9e1ace59e7b106a7",
   "metadata": {
    "ExecuteTime": {
     "end_time": "2024-01-02T11:55:02.993360200Z",
     "start_time": "2024-01-02T11:55:02.991325800Z"
    }
   },
   "outputs": [],
   "source": [
    "# extracting the first five principal components for the pairplor \n",
    "PCA5 = pcs[:,:5]\n",
    "# saving the first five principal components in a dataframe\n",
    "PCA_5 = pd.DataFrame(PCA5, columns=['PCA1', 'PCA2', 'PCA3', 'PCA4', 'PCA5'])\n",
    "# adding label column to the dataframe\n",
    "PCA_5['Label'] = Y_train"
   ]
  },
  {
   "cell_type": "code",
   "execution_count": null,
   "id": "727621bed251b935",
   "metadata": {
    "ExecuteTime": {
     "end_time": "2024-01-02T12:20:48.361155100Z",
     "start_time": "2024-01-02T12:19:59.537251400Z"
    }
   },
   "outputs": [],
   "source": [
    "# plotting\n",
    "plt.figure(figsize = (8,8))\n",
    "g = sns.pairplot(PCA_5, hue='Label', palette='nipy_spectral', plot_kws={\"s\": 20, \"alpha\": 0.5}, corner=True)  \n",
    "plt.suptitle('Pairplot of the 5 PCA components of the MNIST-Fashion dataset', fontsize=20)\n",
    "sns.move_legend(g, bbox_to_anchor=(0.85, 0.65), loc='center right')\n",
    "# https://stackoverflow.com/questions/71907322/seaborn-pariplot-how-to-move-legend-and-set-style\n",
    "plt.savefig('PCA_Pair.png', dpi=300, bbox_inches='tight')\n",
    "plt.show();"
   ]
  },
  {
   "cell_type": "markdown",
   "id": "1ca1208d833763f0",
   "metadata": {},
   "source": [
    "# visualizing the first 5 eigenvectors and their corresponding eigenvalues \n"
   ]
  },
  {
   "cell_type": "code",
   "execution_count": null,
   "id": "19a91971e256b45",
   "metadata": {
    "ExecuteTime": {
     "end_time": "2024-01-02T12:34:07.581708900Z",
     "start_time": "2024-01-02T12:34:07.249398300Z"
    }
   },
   "outputs": [],
   "source": [
    "first_five_evec = sort_eigen_vecs[:,:5]"
   ]
  },
  {
   "cell_type": "code",
   "execution_count": null,
   "id": "7610e24e06a31d29",
   "metadata": {
    "ExecuteTime": {
     "end_time": "2024-01-02T12:34:10.626576Z",
     "start_time": "2024-01-02T12:34:09.762458600Z"
    }
   },
   "outputs": [],
   "source": [
    "# extracting and saving the first five eigenvectors\n",
    "e_vec_1 = first_five_evec[:,0].reshape(28,28)\n",
    "e_vec_2 = first_five_evec[:,1].reshape(28,28)\n",
    "e_vec_3 = first_five_evec[:,2].reshape(28,28)\n",
    "e_vec_4 = first_five_evec[:,3].reshape(28,28)\n",
    "e_vec_5 = first_five_evec[:,4].reshape(28,28)"
   ]
  },
  {
   "cell_type": "code",
   "execution_count": null,
   "id": "c76e00f9cd1709db",
   "metadata": {
    "ExecuteTime": {
     "end_time": "2024-01-02T12:34:16.691159200Z",
     "start_time": "2024-01-02T12:34:09.902376200Z"
    }
   },
   "outputs": [],
   "source": [
    "# https://github.com/MrDataScience/tutorials/blob/master/Data/MNIST/How%20To%20Plot%20MNIST%20Digits%20Using%20Matplotlib.ipynb\n",
    "# https://complex-valued-neural-networks.readthedocs.io/en/latest/code_examples/fashion_mnist.html\n",
    "fig, axs = plt.subplots(1,5, figsize=(15,5))\n",
    "plt.suptitle(\"Visualization of the first 5 eigenvectors\", fontsize=20, y=0.85)\n",
    "axs[0].imshow(e_vec_1, cmap='binary')\n",
    "axs[0].set_xticks([])\n",
    "axs[0].set_yticks([])\n",
    "axs[0].set_title(f'$\\lambda_1$ = {sort_eigen_vals[0]:.2f}', fontsize=16)\n",
    "\n",
    "axs[1].imshow(e_vec_2, cmap='binary')\n",
    "axs[1].set_xticks([])\n",
    "axs[1].set_yticks([])\n",
    "axs[1].set_title(f'$\\lambda_2$ = {sort_eigen_vals[1]:.2f}', fontsize=16)\n",
    "\n",
    "axs[2].imshow(e_vec_3, cmap='binary')\n",
    "axs[2].set_xticks([])\n",
    "axs[2].set_yticks([])\n",
    "axs[2].set_title(f'$\\lambda_3$ = {sort_eigen_vals[2]:.2f}', fontsize=16)\n",
    "\n",
    "axs[3].imshow(e_vec_4, cmap='binary')\n",
    "axs[3].set_xticks([])\n",
    "axs[3].set_yticks([])\n",
    "axs[3].set_title(f'$\\lambda_4$ = {sort_eigen_vals[3]:.2f}', fontsize=16)\n",
    "\n",
    "axs[4].imshow(e_vec_5, cmap='binary')\n",
    "axs[4].set_xticks([])\n",
    "axs[4].set_yticks([])\n",
    "axs[4].set_title(f'$\\lambda_5$ = {sort_eigen_vals[4]:.2f}', fontsize=16)\n",
    "plt.savefig('eigen_images.png', dpi=300, bbox_inches='tight')\n",
    "plt.show();"
   ]
  },
  {
   "cell_type": "code",
   "execution_count": null,
   "id": "1e603e2b585123b0",
   "metadata": {
    "ExecuteTime": {
     "end_time": "2024-01-02T12:34:16.692157700Z",
     "start_time": "2024-01-02T12:34:15.135937100Z"
    }
   },
   "outputs": [],
   "source": [
    "# list of obervations that have been found by conditional filtering with pandas module (see the notebook 1.PCA_05.ipynb, the files have been separated for more clarity)\n",
    "list = [198, 35, 3607, 162, 30, 1625, 100, 585, 1230]"
   ]
  },
  {
   "cell_type": "code",
   "execution_count": null,
   "id": "4f339347de457b83",
   "metadata": {
    "ExecuteTime": {
     "end_time": "2024-01-02T12:34:35.021830600Z",
     "start_time": "2024-01-02T12:34:15.158430900Z"
    }
   },
   "outputs": [],
   "source": [
    "# https://github.com/MrDataScience/tutorials/blob/master/Data/MNIST/How%20To%20Plot%20MNIST%20Digits%20Using%20Matplotlib.ipynb\n",
    "# https://complex-valued-neural-networks.readthedocs.io/en/latest/code_examples/fashion_mnist.html\n",
    "fig, axs = plt.subplots(3,3, figsize=(10,10))\n",
    "img0 = X_train[list[0]].reshape(28,28)\n",
    "pca_img0 = principal_df.loc[list[0]]\n",
    "axs[0,0].imshow(img0, cmap='binary')\n",
    "axs[0,0].set_xticks([])\n",
    "axs[0,0].set_yticks([])\n",
    "axs[0,0].set_title(f\"{1}) PCA1: {pca_img0[0]:.2f}, PCA2: {pca_img0[1]:.2f}\", fontsize=16)\n",
    "\n",
    "img1 = X_train[list[1]].reshape(28,28)\n",
    "pca_img1 = principal_df.loc[list[1]]\n",
    "axs[0,1].imshow(img1, cmap='binary')\n",
    "axs[0,1].set_xticks([])\n",
    "axs[0,1].set_yticks([])\n",
    "axs[0,1].set_title(f\"{2}) PCA1: {pca_img1[0]:.2f}, PCA2: {pca_img1[1]:.2f}\", fontsize=16)\n",
    "\n",
    "img2 = X_train[list[2]].reshape(28,28)\n",
    "pca_img2 = principal_df.loc[list[2]]\n",
    "axs[0,2].imshow(img2, cmap='binary')\n",
    "axs[0,2].set_xticks([])\n",
    "axs[0,2].set_yticks([])\n",
    "axs[0,2].set_title(f\"{3}) PCA1: {pca_img2[0]:.2f}, PCA2: {pca_img2[1]:.2f}\", fontsize=16)\n",
    "\n",
    "img3 = X_train[list[3]].reshape(28,28)\n",
    "pca_img3 = principal_df.loc[list[3]]\n",
    "axs[1,0].imshow(img3, cmap='binary')\n",
    "axs[1,0].set_xticks([])\n",
    "axs[1,0].set_yticks([])\n",
    "axs[1,0].set_title(f\"{4}) PCA1: {pca_img3[0]:.2f}, PCA2: {pca_img3[1]:.2f}\", fontsize=16)\n",
    "\n",
    "img4 = X_train[list[4]].reshape(28,28)\n",
    "pca_img4 = principal_df.loc[list[4]]\n",
    "axs[1,1].imshow(img4, cmap='binary')\n",
    "axs[1,1].set_xticks([])\n",
    "axs[1,1].set_yticks([])\n",
    "axs[1,1].set_title(f\"{5}) PCA1: {pca_img4[0]:.2f}, PCA2: {pca_img4[1]:.2f}\", fontsize=16)\n",
    "\n",
    "img5 = X_train[list[5]].reshape(28,28)\n",
    "pca_img5 = principal_df.loc[list[5]]\n",
    "axs[1,2].imshow(img5, cmap='binary')\n",
    "axs[1,2].set_xticks([])\n",
    "axs[1,2].set_yticks([])\n",
    "axs[1,2].set_title(f\"{6}) PCA1: {pca_img5[0]:.2f}, PCA2: {pca_img5[1]:.2f}\", fontsize=16)\n",
    "\n",
    "img6 = X_train[list[6]].reshape(28,28)\n",
    "pca_img6 = principal_df.loc[list[6]]\n",
    "axs[2,0].imshow(img6, cmap='binary')\n",
    "axs[2,0].set_xticks([])\n",
    "axs[2,0].set_yticks([])\n",
    "axs[2,0].set_title(f\"{7}) PCA1: {pca_img6[0]:.2f}, PCA2: {pca_img6[1]:.2f}\", fontsize=16)\n",
    "\n",
    "img7 = X_train[list[7]].reshape(28,28)\n",
    "pca_img7 = principal_df.loc[list[7]]\n",
    "axs[2,1].imshow(img7, cmap='binary')\n",
    "axs[2,1].set_xticks([])\n",
    "axs[2,1].set_yticks([])\n",
    "axs[2,1].set_title(f\"{8}) PCA1: {pca_img7[0]:.2f}, PCA2: {pca_img7[1]:.2f}\", fontsize=16)\n",
    "\n",
    "img8 = X_train[list[8]].reshape(28,28)\n",
    "pca_img8 = principal_df.loc[list[8]]\n",
    "axs[2,2].imshow(img8, cmap='binary')\n",
    "axs[2,2].set_xticks([])\n",
    "axs[2,2].set_yticks([])\n",
    "axs[2,2].set_title(f\"{9}) PCA1: {pca_img8[0]:.2f}, PCA2: {pca_img8[1]:.2f}\", fontsize=16)\n",
    "\n",
    "plt.savefig(f\"listof_dots.jpg\", dpi=300, bbox_inches='tight')\n",
    "fig.subplots_adjust(hspace=0.2)\n",
    "plt.savefig('listof_dots.png', dpi=300, bbox_inches='tight')\n",
    "plt.show();"
   ]
  },
  {
   "cell_type": "code",
   "execution_count": null,
   "id": "787e396e6e57d74c",
   "metadata": {
    "ExecuteTime": {
     "end_time": "2024-01-02T12:34:35.024844700Z",
     "start_time": "2024-01-02T12:34:31.306550400Z"
    }
   },
   "outputs": [],
   "source": [
    "# use the defined list to get pca1 and pca2 coordinates\n",
    "coordinate_list = []\n",
    "for i in list:\n",
    "        coordinate_list.append((principal_df.loc[i][0], principal_df.loc[i][1]))\n"
   ]
  },
  {
   "cell_type": "code",
   "execution_count": null,
   "id": "711e1e017a433970",
   "metadata": {
    "ExecuteTime": {
     "end_time": "2024-01-02T12:34:35.082749400Z",
     "start_time": "2024-01-02T12:34:31.352170800Z"
    }
   },
   "outputs": [],
   "source": [
    "coordinate_list"
   ]
  },
  {
   "cell_type": "code",
   "execution_count": null,
   "id": "5f4db16e7482ada4",
   "metadata": {
    "ExecuteTime": {
     "end_time": "2024-01-02T12:34:35.144718600Z",
     "start_time": "2024-01-02T12:34:31.389266700Z"
    }
   },
   "outputs": [],
   "source": [
    "# save the coordiante list of tuples as a list of strings\n",
    "labels = []\n",
    "for i in range(len(coordinate_list)):\n",
    "    labels.append(f\"{i + 1}) PCA1: {coordinate_list[i][0]:.2f}, PCA2: {coordinate_list[i][1]:.2f}\")\n",
    "labels"
   ]
  },
  {
   "cell_type": "code",
   "execution_count": null,
   "id": "50d516726ab2284f",
   "metadata": {
    "ExecuteTime": {
     "end_time": "2024-01-02T12:34:35.146718100Z",
     "start_time": "2024-01-02T12:34:31.484860200Z"
    }
   },
   "outputs": [],
   "source": [
    "import matplotlib.lines as mlines\n",
    "# https://matplotlib.org/stable/api/_as_gen/matplotlib.lines.Line2D.html\n",
    "# https://stackoverflow.com/questions/47391702/how-to-make-a-colored-markers-legend-from-scratch\n",
    "# https://matplotlib.org/stable/users/explain/axes/legend_guide.html\n",
    "one = mlines.Line2D([], [], color='black', marker='s', ls='')\n",
    "two = mlines.Line2D([], [], color='black', marker='D', ls='')\n",
    "three = mlines.Line2D([], [], color='black', marker='o', ls='')\n",
    "four = mlines.Line2D([], [], color='black', marker='^', ls='')\n",
    "five = mlines.Line2D([], [], color='black', marker='*', ls='')\n",
    "six = mlines.Line2D([], [], color='black', marker='P', ls='')\n",
    "seven = mlines.Line2D([], [], color='black', marker='X', ls='')\n",
    "eight = mlines.Line2D([], [], color='black', marker='p', ls='')\n",
    "nine = mlines.Line2D([], [], color='black', marker='<', ls='')\n",
    "list_of_markers=[one, two, three, four, five, six, seven, eight, nine]\n"
   ]
  },
  {
   "cell_type": "code",
   "execution_count": null,
   "id": "71c6240d21b38a36",
   "metadata": {
    "ExecuteTime": {
     "end_time": "2024-01-02T12:34:58.196182300Z",
     "start_time": "2024-01-02T12:34:31.547134200Z"
    }
   },
   "outputs": [],
   "source": [
    "# https://matplotlib.org/stable/api/_as_gen/matplotlib.lines.Line2D.html\n",
    "# https://stackoverflow.com/questions/47391702/how-to-make-a-colored-markers-legend-from-scratch\n",
    "# https://matplotlib.org/stable/users/explain/axes/legend_guide.html\n",
    "# plot markers of the selected clothing\n",
    "fig, ax = plt.subplots(figsize=(8,8))\n",
    "sns.scatterplot(data = principal_df, x ='PC1', y ='PC2', palette='nipy_spectral', hue=Y_train, alpha=0.5, s=50)\n",
    "plt.title('PC1 and PC2 of the Fashion MNIST dataset')\n",
    "plt.scatter(coordinate_list[0][0], coordinate_list[0][1], color='black', edgecolors='white', marker='s', s=150)\n",
    "plt.scatter(coordinate_list[1][0], coordinate_list[1][1], color='black', edgecolors='white',marker='D', s=150)\n",
    "plt.scatter(coordinate_list[2][0], coordinate_list[2][1], color='black', edgecolors='white',marker='o', s=150)\n",
    "plt.scatter(coordinate_list[3][0], coordinate_list[3][1], color='black', edgecolors='white',marker='^', s=150)\n",
    "plt.scatter(coordinate_list[4][0], coordinate_list[4][1], color='black', edgecolors='white',marker='*', s=150)\n",
    "plt.scatter(coordinate_list[5][0], coordinate_list[5][1], color='black', edgecolors='white',marker='P', s=150)\n",
    "plt.scatter(coordinate_list[6][0], coordinate_list[6][1], color='black', edgecolors='white',marker='X', s=150)\n",
    "plt.scatter(coordinate_list[7][0], coordinate_list[7][1], color='black', edgecolors='white',marker='p', s=150)\n",
    "plt.scatter(coordinate_list[8][0], coordinate_list[8][1], color='black', edgecolors='white',marker='<', s=150)\n",
    "plt.legend(labels=labels, handles=list_of_markers, fontsize=14, bbox_to_anchor=(0.8, 1))\n",
    "plt.savefig(f\"PCA_dotted.jpg\", dpi=300, bbox_inches='tight')\n",
    "plt.show();"
   ]
  },
  {
   "cell_type": "code",
   "execution_count": null,
   "id": "ecb19988",
   "metadata": {},
   "outputs": [],
   "source": []
  },
  {
   "cell_type": "code",
   "execution_count": null,
   "id": "99ef1323",
   "metadata": {},
   "outputs": [],
   "source": []
  },
  {
   "cell_type": "code",
   "execution_count": null,
   "id": "51f1f0ac",
   "metadata": {},
   "outputs": [],
   "source": []
  },
  {
   "cell_type": "code",
   "execution_count": null,
   "id": "534eec7e",
   "metadata": {},
   "outputs": [],
   "source": []
  },
  {
   "cell_type": "code",
   "execution_count": null,
   "id": "5984ce7b",
   "metadata": {},
   "outputs": [],
   "source": []
  }
 ],
 "metadata": {
  "kernelspec": {
   "display_name": "Python 3 (ipykernel)",
   "language": "python",
   "name": "python3"
  },
  "language_info": {
   "codemirror_mode": {
    "name": "ipython",
    "version": 3
   },
   "file_extension": ".py",
   "mimetype": "text/x-python",
   "name": "python",
   "nbconvert_exporter": "python",
   "pygments_lexer": "ipython3",
   "version": "3.11.1"
  }
 },
 "nbformat": 4,
 "nbformat_minor": 5
}
